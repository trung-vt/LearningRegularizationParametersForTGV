{
 "cells": [
  {
   "cell_type": "code",
   "execution_count": 1,
   "metadata": {},
   "outputs": [],
   "source": [
    "import numpy as np\n",
    "import pandas as pd\n",
    "import os\n",
    "import sithom\n",
    "\n",
    "from utils.makepath import makepath"
   ]
  },
  {
   "cell_type": "code",
   "execution_count": 2,
   "metadata": {},
   "outputs": [
    {
     "data": {
      "text/plain": [
       "['paper',\n",
       " 'gradops',\n",
       " '.DS_Store',\n",
       " 'activate_venv.sh',\n",
       " 'LICENSE',\n",
       " 'requirements.txt',\n",
       " '.pytest_cache',\n",
       " 'config',\n",
       " 'pyproject.toml',\n",
       " 'tests',\n",
       " 'utils',\n",
       " 'docs',\n",
       " 'TODO.md',\n",
       " '.readthedocs.yml',\n",
       " 'README.md',\n",
       " 'results',\n",
       " 'networks',\n",
       " 'data_lib',\n",
       " '.gitignore',\n",
       " 'encoding_objects',\n",
       " 'figures',\n",
       " 'scripts',\n",
       " '.gitattributes',\n",
       " 'train_mri_example.ipynb',\n",
       " 'report',\n",
       " 'venv',\n",
       " '.git',\n",
       " 'pdhg',\n",
       " 'data',\n",
       " 'results copy',\n",
       " 'tmp',\n",
       " 'notebooks',\n",
       " 'pretrained',\n",
       " 'mri.egg-info']"
      ]
     },
     "execution_count": 2,
     "metadata": {},
     "output_type": "execute_result"
    }
   ],
   "source": [
    "root_dir = makepath(\"..\", \"..\")\n",
    "os.listdir(root_dir)"
   ]
  },
  {
   "cell_type": "code",
   "execution_count": 3,
   "metadata": {},
   "outputs": [],
   "source": [
    "R = 8\n",
    "sigma = \"0_05\"\n",
    "scalar_tgv_search_datetime = \"21_06_04\""
   ]
  },
  {
   "cell_type": "code",
   "execution_count": 20,
   "metadata": {},
   "outputs": [
    {
     "name": "stdout",
     "output_type": "stream",
     "text": [
      "R=4, sigma=0_05\n",
      "PSNR diff: -0.17 ± 0.50\n",
      "SSIM diff: 0.0893 ± 0.027\n",
      "\n",
      "R=4, sigma=0_10\n",
      "PSNR diff: 0.04 ± 0.42\n",
      "SSIM diff: 0.0930 ± 0.029\n",
      "\n",
      "R=4, sigma=0_20\n",
      "PSNR diff: 0.29 ± 0.34\n",
      "SSIM diff: 0.0932 ± 0.034\n",
      "\n",
      "R=8, sigma=0_05\n",
      "PSNR diff: -0.03 ± 0.43\n",
      "SSIM diff: 0.0929 ± 0.033\n",
      "\n",
      "R=8, sigma=0_10\n",
      "PSNR diff: 0.14 ± 0.40\n",
      "SSIM diff: 0.0972 ± 0.035\n",
      "\n",
      "R=8, sigma=0_20\n",
      "PSNR diff: 0.35 ± 0.36\n",
      "SSIM diff: 0.0941 ± 0.040\n",
      "\n"
     ]
    }
   ],
   "source": [
    "for R in [4, 8]:\n",
    "    for sigma in [\"0_05\", \"0_10\", \"0_20\"]:\n",
    "        u_tgv_csv = makepath(\n",
    "            \"u_tgv_fixed\",\n",
    "            \"mps\",\n",
    "            f\"test-abs-R_{R}-sigma_{sigma}_intermediate_metrics.csv\"\n",
    "        )\n",
    "        u_tv_csv = makepath(\n",
    "            \"u_tv_fixed\",\n",
    "            \"mps\",\n",
    "            f\"test-abs-R_{R}-sigma_{sigma}_intermediate_metrics.csv\"\n",
    "        )\n",
    "        u_tgv_df = pd.read_csv(\n",
    "            makepath(dir, u_tgv_csv)\n",
    "        )\n",
    "        u_tv_df = pd.read_csv(\n",
    "            makepath(dir, u_tv_csv)\n",
    "        )\n",
    "        psnr_diff = u_tgv_df[\"psnr\"] - u_tv_df[\"psnr\"]\n",
    "        ssim_diff = u_tgv_df[\"ssim\"] - u_tv_df[\"ssim\"]\n",
    "        print(f\"R={R}, sigma={sigma}\")\n",
    "        print(f\"PSNR diff: {psnr_diff.mean():.2f} ± {psnr_diff.std():.2f}\")\n",
    "        print(f\"SSIM diff: {ssim_diff.mean():.4f} ± {ssim_diff.std():.3f}\")\n",
    "        print()"
   ]
  },
  {
   "cell_type": "code",
   "execution_count": 4,
   "metadata": {},
   "outputs": [],
   "source": [
    "u_tgv_csv = makepath(\n",
    "    # \"u_tgv\",\n",
    "    # f\"test-abs-R_{R}-sigma_{sigma}\",\n",
    "    \"u_tgv_fixed\",\n",
    "    \"mps\",\n",
    "    f\"test-abs-R_{R}-sigma_{sigma}_intermediate_metrics.csv\"\n",
    ")\n",
    "u_tv_csv = makepath(\n",
    "    # \"u_tv\",\n",
    "    # f\"test-abs-R_{R}-sigma_{sigma}\",\n",
    "    \"u_tv_fixed\",\n",
    "    \"mps\",\n",
    "    f\"test-abs-R_{R}-sigma_{sigma}_intermediate_metrics.csv\"\n",
    ")\n",
    "# scalar_tgv_csv = makepath(\n",
    "#     \"scalar_tgv\",\n",
    "#     f\"test-abs-scalar_tgv-best_SSIM-R_{R}-sigma_{sigma}-lambda0_w_0_to_0_2-lambda1_v_0_to_0_2-ternary_iters_20-dt_{scalar_tgv_search_datetime}.csv\"\n",
    "# )"
   ]
  },
  {
   "cell_type": "code",
   "execution_count": 5,
   "metadata": {},
   "outputs": [
    {
     "data": {
      "text/plain": [
       "['u_tv',\n",
       " 'u_tv_fixed',\n",
       " '.DS_Store',\n",
       " 'new_u_tgv',\n",
       " 'zero_filled',\n",
       " 'scalar_tv',\n",
       " 'u_tgv_fixed',\n",
       " 'u_tgv',\n",
       " 'new_u_tv',\n",
       " 'scalar_tgv']"
      ]
     },
     "execution_count": 5,
     "metadata": {},
     "output_type": "execute_result"
    }
   ],
   "source": [
    "dir = makepath(\n",
    "    root_dir,\n",
    "    \"results\",\n",
    "    \"test_set\",\n",
    ")\n",
    "os.listdir(dir)"
   ]
  },
  {
   "cell_type": "code",
   "execution_count": 6,
   "metadata": {},
   "outputs": [
    {
     "data": {
      "text/html": [
       "<div>\n",
       "<style scoped>\n",
       "    .dataframe tbody tr th:only-of-type {\n",
       "        vertical-align: middle;\n",
       "    }\n",
       "\n",
       "    .dataframe tbody tr th {\n",
       "        vertical-align: top;\n",
       "    }\n",
       "\n",
       "    .dataframe thead th {\n",
       "        text-align: right;\n",
       "    }\n",
       "</style>\n",
       "<table border=\"1\" class=\"dataframe\">\n",
       "  <thead>\n",
       "    <tr style=\"text-align: right;\">\n",
       "      <th></th>\n",
       "      <th>epoch</th>\n",
       "      <th>iter</th>\n",
       "      <th>loss</th>\n",
       "      <th>psnr</th>\n",
       "      <th>ssim</th>\n",
       "    </tr>\n",
       "  </thead>\n",
       "  <tbody>\n",
       "    <tr>\n",
       "      <th>0</th>\n",
       "      <td>1</td>\n",
       "      <td>1</td>\n",
       "      <td>0.000365</td>\n",
       "      <td>29.926819</td>\n",
       "      <td>0.835538</td>\n",
       "    </tr>\n",
       "    <tr>\n",
       "      <th>1</th>\n",
       "      <td>1</td>\n",
       "      <td>2</td>\n",
       "      <td>0.000524</td>\n",
       "      <td>30.551744</td>\n",
       "      <td>0.703722</td>\n",
       "    </tr>\n",
       "    <tr>\n",
       "      <th>2</th>\n",
       "      <td>1</td>\n",
       "      <td>3</td>\n",
       "      <td>0.000922</td>\n",
       "      <td>31.800528</td>\n",
       "      <td>0.653179</td>\n",
       "    </tr>\n",
       "    <tr>\n",
       "      <th>3</th>\n",
       "      <td>1</td>\n",
       "      <td>4</td>\n",
       "      <td>0.000297</td>\n",
       "      <td>28.881411</td>\n",
       "      <td>0.822814</td>\n",
       "    </tr>\n",
       "    <tr>\n",
       "      <th>4</th>\n",
       "      <td>1</td>\n",
       "      <td>5</td>\n",
       "      <td>0.000864</td>\n",
       "      <td>27.384754</td>\n",
       "      <td>0.781535</td>\n",
       "    </tr>\n",
       "  </tbody>\n",
       "</table>\n",
       "</div>"
      ],
      "text/plain": [
       "   epoch  iter      loss       psnr      ssim\n",
       "0      1     1  0.000365  29.926819  0.835538\n",
       "1      1     2  0.000524  30.551744  0.703722\n",
       "2      1     3  0.000922  31.800528  0.653179\n",
       "3      1     4  0.000297  28.881411  0.822814\n",
       "4      1     5  0.000864  27.384754  0.781535"
      ]
     },
     "execution_count": 6,
     "metadata": {},
     "output_type": "execute_result"
    }
   ],
   "source": [
    "u_tgv_df = pd.read_csv(\n",
    "    makepath(dir, u_tgv_csv)\n",
    ")\n",
    "u_tgv_df.head()"
   ]
  },
  {
   "cell_type": "code",
   "execution_count": 7,
   "metadata": {},
   "outputs": [
    {
     "name": "stdout",
     "output_type": "stream",
     "text": [
      "\u001b[34mmps\u001b[m\u001b[m\n"
     ]
    }
   ],
   "source": [
    "!ls ../../results/test_set/u_tgv_fixed"
   ]
  },
  {
   "cell_type": "code",
   "execution_count": 8,
   "metadata": {},
   "outputs": [
    {
     "data": {
      "text/html": [
       "<div>\n",
       "<style scoped>\n",
       "    .dataframe tbody tr th:only-of-type {\n",
       "        vertical-align: middle;\n",
       "    }\n",
       "\n",
       "    .dataframe tbody tr th {\n",
       "        vertical-align: top;\n",
       "    }\n",
       "\n",
       "    .dataframe thead th {\n",
       "        text-align: right;\n",
       "    }\n",
       "</style>\n",
       "<table border=\"1\" class=\"dataframe\">\n",
       "  <thead>\n",
       "    <tr style=\"text-align: right;\">\n",
       "      <th></th>\n",
       "      <th>epoch</th>\n",
       "      <th>iter</th>\n",
       "      <th>loss</th>\n",
       "      <th>psnr</th>\n",
       "      <th>ssim</th>\n",
       "    </tr>\n",
       "  </thead>\n",
       "  <tbody>\n",
       "    <tr>\n",
       "      <th>0</th>\n",
       "      <td>1</td>\n",
       "      <td>1</td>\n",
       "      <td>0.000387</td>\n",
       "      <td>29.580742</td>\n",
       "      <td>0.772417</td>\n",
       "    </tr>\n",
       "    <tr>\n",
       "      <th>1</th>\n",
       "      <td>1</td>\n",
       "      <td>2</td>\n",
       "      <td>0.000446</td>\n",
       "      <td>30.670418</td>\n",
       "      <td>0.584421</td>\n",
       "    </tr>\n",
       "    <tr>\n",
       "      <th>2</th>\n",
       "      <td>1</td>\n",
       "      <td>3</td>\n",
       "      <td>0.000770</td>\n",
       "      <td>31.675247</td>\n",
       "      <td>0.537929</td>\n",
       "    </tr>\n",
       "    <tr>\n",
       "      <th>3</th>\n",
       "      <td>1</td>\n",
       "      <td>4</td>\n",
       "      <td>0.000277</td>\n",
       "      <td>28.822674</td>\n",
       "      <td>0.730357</td>\n",
       "    </tr>\n",
       "    <tr>\n",
       "      <th>4</th>\n",
       "      <td>1</td>\n",
       "      <td>5</td>\n",
       "      <td>0.000728</td>\n",
       "      <td>27.916145</td>\n",
       "      <td>0.673969</td>\n",
       "    </tr>\n",
       "  </tbody>\n",
       "</table>\n",
       "</div>"
      ],
      "text/plain": [
       "   epoch  iter      loss       psnr      ssim\n",
       "0      1     1  0.000387  29.580742  0.772417\n",
       "1      1     2  0.000446  30.670418  0.584421\n",
       "2      1     3  0.000770  31.675247  0.537929\n",
       "3      1     4  0.000277  28.822674  0.730357\n",
       "4      1     5  0.000728  27.916145  0.673969"
      ]
     },
     "execution_count": 8,
     "metadata": {},
     "output_type": "execute_result"
    }
   ],
   "source": [
    "u_tv_df = pd.read_csv(\n",
    "    makepath(dir, u_tv_csv)\n",
    ")\n",
    "u_tv_df.head()"
   ]
  },
  {
   "cell_type": "code",
   "execution_count": 9,
   "metadata": {},
   "outputs": [],
   "source": [
    "# scalar_tgv_df = pd.read_csv(\n",
    "#     makepath(dir, scalar_tgv_csv)\n",
    "# )\n",
    "# scalar_tgv_df.head()"
   ]
  },
  {
   "cell_type": "code",
   "execution_count": 14,
   "metadata": {},
   "outputs": [
    {
     "name": "stdout",
     "output_type": "stream",
     "text": [
      "Mean of PSNR diff: -0.031081723851083955\n",
      "Std of PSNR diff: 0.4340580438865105\n"
     ]
    },
    {
     "data": {
      "text/plain": [
       "<Axes: >"
      ]
     },
     "execution_count": 14,
     "metadata": {},
     "output_type": "execute_result"
    },
    {
     "data": {
      "image/png": "[encoded data removed]",
      "text/plain": [
       "<Figure size 640x480 with 1 Axes>"
      ]
     },
     "metadata": {},
     "output_type": "display_data"
    }
   ],
   "source": [
    "# diff_psnr = u_tgv_df[\"psnr\"] - scalar_tgv_df[\"PSNR\"]\n",
    "diff_psnr = u_tgv_df[\"psnr\"] - u_tv_df[\"psnr\"]\n",
    "print(f\"Mean of PSNR diff: {diff_psnr.mean()}\")\n",
    "print(f\"Std of PSNR diff: {diff_psnr.std()}\")\n",
    "diff_psnr.hist(\n",
    "    bins=100,\n",
    "    range=(-5, 5)\n",
    ")"
   ]
  },
  {
   "cell_type": "code",
   "execution_count": 11,
   "metadata": {},
   "outputs": [
    {
     "data": {
      "text/plain": [
       "0.4340580438865105"
      ]
     },
     "execution_count": 11,
     "metadata": {},
     "output_type": "execute_result"
    }
   ],
   "source": [
    "diff_psnr.std()"
   ]
  },
  {
   "cell_type": "code",
   "execution_count": 12,
   "metadata": {},
   "outputs": [
    {
     "data": {
      "text/plain": [
       "-0.031081723851083955"
      ]
     },
     "execution_count": 12,
     "metadata": {},
     "output_type": "execute_result"
    }
   ],
   "source": [
    "diff_psnr.mean()"
   ]
  },
  {
   "cell_type": "code",
   "execution_count": 13,
   "metadata": {},
   "outputs": [
    {
     "data": {
      "text/plain": [
       "<Axes: >"
      ]
     },
     "execution_count": 13,
     "metadata": {},
     "output_type": "execute_result"
    },
    {
     "data": {
      "image/png": "[encoded data removed]",
      "text/plain": [
       "<Figure size 640x480 with 1 Axes>"
      ]
     },
     "metadata": {},
     "output_type": "display_data"
    }
   ],
   "source": [
    "# ssim_diff = u_tgv_df[\"ssim\"] - scalar_tgv_df[\"SSIM\"]\n",
    "ssim_diff = u_tgv_df[\"ssim\"] - u_tv_df[\"ssim\"]\n",
    "ssim_diff.hist(\n",
    "    bins=100,\n",
    "    range=(-0.2, 0.2)\n",
    ")"
   ]
  },
  {
   "cell_type": "code",
   "execution_count": 22,
   "metadata": {},
   "outputs": [
    {
     "name": "stdout",
     "output_type": "stream",
     "text": [
      "PSNR diff:  -0.031081723851083955\n",
      "CPU times: user 861 μs, sys: 287 μs, total: 1.15 ms\n",
      "Wall time: 1.29 ms\n"
     ]
    }
   ],
   "source": [
    "%%time\n",
    "print(\"PSNR diff: \", diff_psnr.mean())"
   ]
  },
  {
   "cell_type": "code",
   "execution_count": 23,
   "metadata": {},
   "outputs": [
    {
     "name": "stdout",
     "output_type": "stream",
     "text": [
      "/Users/t/Library/Caches/pip\n"
     ]
    }
   ],
   "source": [
    "!pip cache dir"
   ]
  },
  {
   "cell_type": "code",
   "execution_count": 24,
   "metadata": {},
   "outputs": [
    {
     "name": "stdout",
     "output_type": "stream",
     "text": [
      "\u001b[34mhttp\u001b[m\u001b[m      \u001b[34mhttp-v2\u001b[m\u001b[m   \u001b[34mselfcheck\u001b[m\u001b[m \u001b[34mwheels\u001b[m\u001b[m\n"
     ]
    }
   ],
   "source": [
    "!ls /Users/t/Library/Caches/pip"
   ]
  },
  {
   "cell_type": "code",
   "execution_count": null,
   "metadata": {},
   "outputs": [],
   "source": []
  }
 ],
 "metadata": {
  "kernelspec": {
   "display_name": "venv",
   "language": "python",
   "name": "python3"
  },
  "language_info": {
   "codemirror_mode": {
    "name": "ipython",
    "version": 3
   },
   "file_extension": ".py",
   "mimetype": "text/x-python",
   "name": "python",
   "nbconvert_exporter": "python",
   "pygments_lexer": "ipython3",
   "version": "3.10.14"
  }
 },
 "nbformat": 4,
 "nbformat_minor": 2
}
