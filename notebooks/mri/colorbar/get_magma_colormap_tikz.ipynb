{
 "cells": [
  {
   "cell_type": "code",
   "execution_count": 2,
   "metadata": {},
   "outputs": [],
   "source": [
    "import numpy as np\n",
    "import matplotlib.pyplot as plt\n",
    "\n",
    "# Define the magma colormap\n",
    "cmap = plt.get_cmap('magma')\n",
    "\n",
    "# Define a set of values in the range [0, 0.91]\n",
    "values = np.linspace(0, 0.91, 256)\n",
    "\n",
    "# Get the colors for each value\n",
    "colors = cmap(values)\n",
    "\n",
    "# Save colors as a TikZ colormap\n",
    "with open(\"magma_colormap.tikz\", \"w\") as f:\n",
    "    f.write(\"\\\\pgfplotsset{\\n colormap={magma_custom}{\\n\")\n",
    "    for i, color in enumerate(colors):\n",
    "        f.write(f\"rgb=({color[0]},{color[1]},{color[2]})\\n\")\n",
    "    f.write(\"}\\n}\")\n"
   ]
  },
  {
   "cell_type": "code",
   "execution_count": null,
   "metadata": {},
   "outputs": [],
   "source": []
  }
 ],
 "metadata": {
  "kernelspec": {
   "display_name": "venv",
   "language": "python",
   "name": "python3"
  },
  "language_info": {
   "codemirror_mode": {
    "name": "ipython",
    "version": 3
   },
   "file_extension": ".py",
   "mimetype": "text/x-python",
   "name": "python",
   "nbconvert_exporter": "python",
   "pygments_lexer": "ipython3",
   "version": "3.10.12"
  }
 },
 "nbformat": 4,
 "nbformat_minor": 2
}
