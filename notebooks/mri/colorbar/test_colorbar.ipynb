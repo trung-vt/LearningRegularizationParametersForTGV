{
 "cells": [
  {
   "cell_type": "code",
   "execution_count": 42,
   "metadata": {},
   "outputs": [
    {
     "name": "stdout",
     "output_type": "stream",
     "text": [
      "The autoreload extension is already loaded. To reload it, use:\n",
      "  %reload_ext autoreload\n"
     ]
    }
   ],
   "source": [
    "%load_ext autoreload\n",
    "%autoreload 2"
   ]
  },
  {
   "cell_type": "code",
   "execution_count": 43,
   "metadata": {},
   "outputs": [],
   "source": [
    "import matplotlib.pyplot as plt\n",
    "\n",
    "from utils.visualize import make_colorbar\n",
    "from utils.makepath import makepath as mkp"
   ]
  },
  {
   "cell_type": "code",
   "execution_count": 44,
   "metadata": {},
   "outputs": [],
   "source": [
    "from sithom.plot import (\n",
    "    plot_defaults,\n",
    "    label_subplots,\n",
    "    get_dim,\n",
    "    set_dim,\n",
    "    PALETTE,\n",
    "    STD_CLR_LIST,\n",
    "    CAM_BLUE,\n",
    "    BRICK_RED,\n",
    "    OX_BLUE,\n",
    ")\n",
    "\n",
    "# # Use Latex (optional)\n",
    "uses_latex = True\n",
    "# uses_latex = False\n",
    "plot_defaults(use_tex=uses_latex)\n",
    "\n",
    "\n",
    "# # ---- example set of graphs ---\n",
    "\n",
    "# import numpy as np\n",
    "# import matplotlib.pyplot as plt\n",
    "\n",
    "# fig, axs = plt.subplots(2, 2)\n",
    "\n",
    "# x = np.linspace(0, np.pi, num=100)\n",
    "# axs[0, 0].plot(x, np.sin(x), color=STD_CLR_LIST[0])\n",
    "# axs[0, 1].plot(x, np.cos(x), color=STD_CLR_LIST[1])\n",
    "# axs[1, 0].plot(x, np.sinc(x), color=STD_CLR_LIST[2])\n",
    "# axs[1, 1].plot(x, np.abs(x), color=STD_CLR_LIST[3])\n",
    "\n",
    "# # set size\n",
    "# set_dim(fig, fraction_of_line_width=1, ratio=(5 ** 0.5 - 1) / 2)\n",
    "\n",
    "# # label subplots\n",
    "# label_subplots(axs, start_from=0, fontcolor=\"red\", fontsize=10)"
   ]
  },
  {
   "cell_type": "code",
   "execution_count": 45,
   "metadata": {},
   "outputs": [
    {
     "name": "stdout",
     "output_type": "stream",
     "text": [
      "Saving colorbar plot to colorbar.pdf\n"
     ]
    },
    {
     "data": {
      "image/png": "[encoded data removed]",
      "text/plain": [
       "<Figure size 826.772x165.354 with 1 Axes>"
      ]
     },
     "metadata": {},
     "output_type": "display_data"
    }
   ],
   "source": [
    "# Test\n",
    "fig = plt.figure()\n",
    "set_dim(\n",
    "    fig,\n",
    "    fraction_of_line_width=1,   # Adjust font size\n",
    "    ratio=0.2   # Height/Width ratio\n",
    ")\n",
    "\n",
    "out_dir = \".\"\n",
    "# filename = \"colorbar.png\"\n",
    "filename = \"colorbar.pdf\"\n",
    "out_path = mkp(out_dir, filename)\n",
    "make_colorbar(\n",
    "    min_val=0, max_val=1,\n",
    "    leq_min=True, geq_max=True,\n",
    "    cmap=\"viridis\", out_path=out_path)"
   ]
  }
 ],
 "metadata": {
  "kernelspec": {
   "display_name": "venv",
   "language": "python",
   "name": "python3"
  },
  "language_info": {
   "codemirror_mode": {
    "name": "ipython",
    "version": 3
   },
   "file_extension": ".py",
   "mimetype": "text/x-python",
   "name": "python",
   "nbconvert_exporter": "python",
   "pygments_lexer": "ipython3",
   "version": "3.10.12"
  }
 },
 "nbformat": 4,
 "nbformat_minor": 2
}
