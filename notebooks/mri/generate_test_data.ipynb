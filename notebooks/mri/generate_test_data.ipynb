{
 "cells": [
  {
   "cell_type": "code",
   "execution_count": 1,
   "metadata": {},
   "outputs": [],
   "source": [
    "%load_ext autoreload\n",
    "%autoreload 2"
   ]
  },
  {
   "cell_type": "code",
   "execution_count": 2,
   "metadata": {},
   "outputs": [],
   "source": [
    "import os\n",
    "import torch\n",
    "\n",
    "from utils.makepath import makepath\n",
    "from data.mri.mri_data import DataUtil\n",
    "from data.mri.naming import get_test_file_name\n",
    "from encoding_objects.cart_2d_enc_obj import Cart2DEncObj"
   ]
  },
  {
   "cell_type": "code",
   "execution_count": 3,
   "metadata": {},
   "outputs": [
    {
     "data": {
      "text/plain": [
       "['scripts',\n",
       " 'requirements.txt',\n",
       " 'mri.egg-info',\n",
       " 'venv',\n",
       " 'README.md',\n",
       " 'figures',\n",
       " 'config',\n",
       " 'LICENSE',\n",
       " 'utils',\n",
       " 'networks',\n",
       " 'tmp',\n",
       " 'dyn_mri_test.py',\n",
       " '.gitignore',\n",
       " 'gradops',\n",
       " 'pyproject.toml',\n",
       " 'gifs',\n",
       " 'data',\n",
       " 'pdhg',\n",
       " 'data_lib',\n",
       " 'wandb',\n",
       " 'encoding_objects',\n",
       " '.git']"
      ]
     },
     "execution_count": 3,
     "metadata": {},
     "output_type": "execute_result"
    }
   ],
   "source": [
    "root_dir = makepath(\"..\", \"..\")\n",
    "os.listdir(root_dir)"
   ]
  },
  {
   "cell_type": "code",
   "execution_count": 5,
   "metadata": {},
   "outputs": [
    {
     "data": {
      "text/plain": [
       "['x_true_val_150.pt',\n",
       " 'test',\n",
       " 'x_true_train_3000.pt',\n",
       " 'x_true_example.pt',\n",
       " 'x_true_all_3452.pt',\n",
       " 'BACKUP_data',\n",
       " 'x_true_test_302.pt']"
      ]
     },
     "execution_count": 5,
     "metadata": {},
     "output_type": "execute_result"
    }
   ],
   "source": [
    "data_dir = makepath(root_dir, \"tmp\", \"mri_data\")\n",
    "os.listdir(data_dir)"
   ]
  },
  {
   "cell_type": "code",
   "execution_count": 6,
   "metadata": {},
   "outputs": [],
   "source": [
    "# action, num_samples = \"test\", 302\n",
    "action, num_samples = \"val\", 150\n",
    "\n",
    "x_true_test_file_name = f\"x_true_{action}_{num_samples}.pt\""
   ]
  },
  {
   "cell_type": "code",
   "execution_count": 7,
   "metadata": {},
   "outputs": [],
   "source": [
    "x_true_test = torch.load(makepath(data_dir, x_true_test_file_name))"
   ]
  },
  {
   "cell_type": "code",
   "execution_count": 8,
   "metadata": {},
   "outputs": [
    {
     "data": {
      "text/plain": [
       "torch.Size([150, 320, 320])"
      ]
     },
     "execution_count": 8,
     "metadata": {},
     "output_type": "execute_result"
    }
   ],
   "source": [
    "x_true_test.shape"
   ]
  },
  {
   "cell_type": "code",
   "execution_count": 9,
   "metadata": {},
   "outputs": [],
   "source": [
    "scale_factor = 1000"
   ]
  },
  {
   "cell_type": "code",
   "execution_count": 10,
   "metadata": {},
   "outputs": [],
   "source": [
    "scaled_x_true_test = x_true_test * scale_factor"
   ]
  },
  {
   "cell_type": "code",
   "execution_count": 11,
   "metadata": {},
   "outputs": [],
   "source": [
    "torch.save(scaled_x_true_test, f\"scaled_x_true_{action}_{num_samples}-scale_{scale_factor}.pt\")"
   ]
  },
  {
   "cell_type": "code",
   "execution_count": 12,
   "metadata": {},
   "outputs": [
    {
     "name": "stdout",
     "output_type": "stream",
     "text": [
      "Min abs value of x_true_test: 4.595295699516555e-09\n"
     ]
    }
   ],
   "source": [
    "print(f\"Min abs value of x_true_test: {x_true_test.abs().min()}\")"
   ]
  },
  {
   "cell_type": "code",
   "execution_count": 13,
   "metadata": {},
   "outputs": [
    {
     "name": "stdout",
     "output_type": "stream",
     "text": [
      "Max abs value of x_true_test: 0.001241995021700859\n"
     ]
    }
   ],
   "source": [
    "print(f\"Max abs value of x_true_test: {x_true_test.abs().max()}\")"
   ]
  },
  {
   "cell_type": "code",
   "execution_count": 14,
   "metadata": {},
   "outputs": [],
   "source": [
    "encoder = Cart2DEncObj()"
   ]
  },
  {
   "cell_type": "code",
   "execution_count": 15,
   "metadata": {},
   "outputs": [
    {
     "data": {
      "text/plain": [
       "torch.Size([1, 320, 320])"
      ]
     },
     "execution_count": 15,
     "metadata": {},
     "output_type": "execute_result"
    }
   ],
   "source": [
    "x_true_test_slice = x_true_test[0].unsqueeze(0)\n",
    "x_true_test_slice.shape"
   ]
  },
  {
   "cell_type": "code",
   "execution_count": 16,
   "metadata": {},
   "outputs": [
    {
     "data": {
      "text/plain": [
       "torch.Size([1, 1, 320, 320])"
      ]
     },
     "execution_count": 16,
     "metadata": {},
     "output_type": "execute_result"
    }
   ],
   "source": [
    "k_true_test_slice = encoder.apply_A(x_true_test_slice, csm=None, mask=None)\n",
    "k_true_test_slice.shape"
   ]
  },
  {
   "cell_type": "code",
   "execution_count": 17,
   "metadata": {},
   "outputs": [
    {
     "data": {
      "text/plain": [
       "torch.complex64"
      ]
     },
     "execution_count": 17,
     "metadata": {},
     "output_type": "execute_result"
    }
   ],
   "source": [
    "k_true_test_slice.dtype"
   ]
  },
  {
   "cell_type": "code",
   "execution_count": 18,
   "metadata": {},
   "outputs": [],
   "source": [
    "data_util = DataUtil(data_config=None, device=\"cpu\")"
   ]
  },
  {
   "cell_type": "code",
   "execution_count": 19,
   "metadata": {},
   "outputs": [],
   "source": [
    "EncObj = data_util.EncObj"
   ]
  },
  {
   "cell_type": "code",
   "execution_count": 20,
   "metadata": {},
   "outputs": [],
   "source": [
    "coil_sensitivity_map = None"
   ]
  },
  {
   "cell_type": "code",
   "execution_count": 21,
   "metadata": {},
   "outputs": [
    {
     "name": "stderr",
     "output_type": "stream",
     "text": [
      "/home/GIT/image-denoising-unet-tv-tgv/utils/noise_functions.py:28: UserWarning: Casting complex values to real discards the imaginary part (Triggered internally at ../aten/src/ATen/native/Copy.cpp:300.)\n",
      "  kspace_data = torch.masked_select(kspace_data, mask.to(torch.bool)).view(\n"
     ]
    },
    {
     "name": "stdout",
     "output_type": "stream",
     "text": [
      "x_corrupted_test.shape = torch.Size([150, 320, 320])\n",
      "kdata_corrupted_test.shape = torch.Size([150, 1, 320, 320])\n",
      "undersampling_kmasks_test.shape = torch.Size([150, 320, 320])\n",
      "x_corrupted_test.shape = torch.Size([150, 320, 320])\n",
      "kdata_corrupted_test.shape = torch.Size([150, 1, 320, 320])\n",
      "undersampling_kmasks_test.shape = torch.Size([150, 320, 320])\n",
      "x_corrupted_test.shape = torch.Size([150, 320, 320])\n",
      "kdata_corrupted_test.shape = torch.Size([150, 1, 320, 320])\n",
      "undersampling_kmasks_test.shape = torch.Size([150, 320, 320])\n",
      "x_corrupted_test.shape = torch.Size([150, 320, 320])\n",
      "kdata_corrupted_test.shape = torch.Size([150, 1, 320, 320])\n",
      "undersampling_kmasks_test.shape = torch.Size([150, 320, 320])\n",
      "x_corrupted_test.shape = torch.Size([150, 320, 320])\n",
      "kdata_corrupted_test.shape = torch.Size([150, 1, 320, 320])\n",
      "undersampling_kmasks_test.shape = torch.Size([150, 320, 320])\n",
      "x_corrupted_test.shape = torch.Size([150, 320, 320])\n",
      "kdata_corrupted_test.shape = torch.Size([150, 1, 320, 320])\n",
      "undersampling_kmasks_test.shape = torch.Size([150, 320, 320])\n",
      "x_corrupted_test.shape = torch.Size([150, 320, 320])\n",
      "kdata_corrupted_test.shape = torch.Size([150, 1, 320, 320])\n",
      "undersampling_kmasks_test.shape = torch.Size([150, 320, 320])\n",
      "x_corrupted_test.shape = torch.Size([150, 320, 320])\n",
      "kdata_corrupted_test.shape = torch.Size([150, 1, 320, 320])\n",
      "undersampling_kmasks_test.shape = torch.Size([150, 320, 320])\n",
      "x_corrupted_test.shape = torch.Size([150, 320, 320])\n",
      "kdata_corrupted_test.shape = torch.Size([150, 1, 320, 320])\n",
      "undersampling_kmasks_test.shape = torch.Size([150, 320, 320])\n",
      "x_corrupted_test.shape = torch.Size([150, 320, 320])\n",
      "kdata_corrupted_test.shape = torch.Size([150, 1, 320, 320])\n",
      "undersampling_kmasks_test.shape = torch.Size([150, 320, 320])\n",
      "x_corrupted_test.shape = torch.Size([150, 320, 320])\n",
      "kdata_corrupted_test.shape = torch.Size([150, 1, 320, 320])\n",
      "undersampling_kmasks_test.shape = torch.Size([150, 320, 320])\n",
      "x_corrupted_test.shape = torch.Size([150, 320, 320])\n",
      "kdata_corrupted_test.shape = torch.Size([150, 1, 320, 320])\n",
      "undersampling_kmasks_test.shape = torch.Size([150, 320, 320])\n"
     ]
    }
   ],
   "source": [
    "for acceleration_rate_R in [4, 6, 8]:\n",
    "    for gaussian_noise_standard_deviation in [0.05, 0.10, 0.15, 0.20]:\n",
    "\n",
    "        x_corrupted = []\n",
    "        kdata_corrupted = []\n",
    "        undersampling_kmasks = []\n",
    "\n",
    "        for i in range(scaled_x_true_test.shape[0]):\n",
    "            scaled_x_slice = scaled_x_true_test[i].unsqueeze(0)\n",
    "            x_corrupted_slice, kdata_slice, kmask = data_util.get_corrupted_data(\n",
    "                scaled_x_slice, acceleration_rate_R, gaussian_noise_standard_deviation)\n",
    "\n",
    "            x_corrupted.append(x_corrupted_slice[0])\n",
    "            kdata_corrupted.append(kdata_slice[0])\n",
    "            undersampling_kmasks.append(kmask[0])\n",
    "\n",
    "        x_corrupted_test = torch.stack(x_corrupted)\n",
    "        kdata_corrupted_test = torch.stack(kdata_corrupted)\n",
    "        undersampling_kmasks_test = torch.stack(undersampling_kmasks)\n",
    "        print(f\"x_corrupted_test.shape = {x_corrupted_test.shape}\")\n",
    "        print(f\"kdata_corrupted_test.shape = {kdata_corrupted_test.shape}\")\n",
    "        print(f\"undersampling_kmasks_test.shape = {undersampling_kmasks_test.shape}\")\n",
    "        # Save in current working directory\n",
    "        torch.save(\n",
    "            x_corrupted_test, get_test_file_name(\n",
    "                \"x_corrupted\", action, acceleration_rate_R, gaussian_noise_standard_deviation))\n",
    "        torch.save(\n",
    "            kdata_corrupted_test, get_test_file_name(\n",
    "                \"kdata_corrupted\", action, acceleration_rate_R, gaussian_noise_standard_deviation))\n",
    "        torch.save(\n",
    "            undersampling_kmasks_test, get_test_file_name(\n",
    "                \"undersampling_kmasks\", action, acceleration_rate_R, gaussian_noise_standard_deviation))"
   ]
  },
  {
   "cell_type": "code",
   "execution_count": null,
   "metadata": {},
   "outputs": [],
   "source": []
  }
 ],
 "metadata": {
  "kernelspec": {
   "display_name": "venv",
   "language": "python",
   "name": "python3"
  },
  "language_info": {
   "codemirror_mode": {
    "name": "ipython",
    "version": 3
   },
   "file_extension": ".py",
   "mimetype": "text/x-python",
   "name": "python",
   "nbconvert_exporter": "python",
   "pygments_lexer": "ipython3",
   "version": "3.10.12"
  }
 },
 "nbformat": 4,
 "nbformat_minor": 2
}
