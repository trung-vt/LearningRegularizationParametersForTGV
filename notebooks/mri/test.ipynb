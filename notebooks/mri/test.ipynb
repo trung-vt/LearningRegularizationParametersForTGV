{
 "cells": [
  {
   "cell_type": "code",
   "execution_count": 41,
   "metadata": {},
   "outputs": [],
   "source": [
    "import torch\n",
    "import numpy as np\n",
    "\n",
    "from scripts.mri.model_loader import ModelLoader\n",
    "from utils.makepath import makepath"
   ]
  },
  {
   "cell_type": "code",
   "execution_count": 26,
   "metadata": {},
   "outputs": [],
   "source": [
    "root_dir = makepath(\"..\", \"..\")\n",
    "pretrained_dir = makepath(\"pretrained\")\n",
    "u_tgv_dir = makepath(pretrained_dir, \"u_tgv\")\n",
    "u_tgv_model_filename = \"u_tgv-model_state_dict_30-cpu.pth\"\n",
    "u_tv_dir = makepath(pretrained_dir, \"u_tv\")\n",
    "u_tv_model_filename = \"u_tv-model_state_dict_20-cpu.pth\""
   ]
  },
  {
   "cell_type": "code",
   "execution_count": 27,
   "metadata": {},
   "outputs": [
    {
     "name": "stdout",
     "output_type": "stream",
     "text": [
      "Config loaded from file ../../pretrained/u_tgv/config.yaml\n",
      "Loading model on device: cuda\n"
     ]
    }
   ],
   "source": [
    "u_tgv_model_loader = ModelLoader(\n",
    "    config_choice=makepath(root_dir, u_tgv_dir, \"config.yaml\"),\n",
    "    is_training=False,\n",
    ")\n",
    "u_tgv_model_loader.config[\"log\"][\"model_filename\"] = u_tgv_model_filename"
   ]
  },
  {
   "cell_type": "code",
   "execution_count": 32,
   "metadata": {},
   "outputs": [
    {
     "name": "stdout",
     "output_type": "stream",
     "text": [
      "Norm of operator A: 1\n",
      "Norm of gradient operator nabla: 2.8284270763397217\n",
      "L: 3.0\n",
      "PDHG net device: cuda\n"
     ]
    }
   ],
   "source": [
    "u_tgv_model = u_tgv_model_loader.init_new_model()"
   ]
  },
  {
   "cell_type": "code",
   "execution_count": 35,
   "metadata": {},
   "outputs": [],
   "source": [
    "u_tgv_state_dict = torch.load(makepath(root_dir, u_tgv_dir, u_tgv_model_filename))"
   ]
  },
  {
   "cell_type": "code",
   "execution_count": 48,
   "metadata": {},
   "outputs": [],
   "source": [
    "# list(u_tgv_state_dict.keys())"
   ]
  },
  {
   "cell_type": "code",
   "execution_count": 43,
   "metadata": {},
   "outputs": [
    {
     "data": {
      "text/plain": [
       "-0.6760127544403076"
      ]
     },
     "execution_count": 43,
     "metadata": {},
     "output_type": "execute_result"
    }
   ],
   "source": [
    "u_tgv_beta = u_tgv_state_dict[\"beta\"].item()\n",
    "u_tgv_beta"
   ]
  },
  {
   "cell_type": "code",
   "execution_count": 46,
   "metadata": {},
   "outputs": [
    {
     "data": {
      "text/plain": [
       "0.16954701040242373"
      ]
     },
     "execution_count": 46,
     "metadata": {},
     "output_type": "execute_result"
    }
   ],
   "source": [
    "u_tgv_sigma = 1.0 / 3.0 * np.exp(u_tgv_beta)\n",
    "u_tgv_sigma"
   ]
  },
  {
   "cell_type": "code",
   "execution_count": 47,
   "metadata": {},
   "outputs": [
    {
     "data": {
      "text/plain": [
       "0.655341022217887"
      ]
     },
     "execution_count": 47,
     "metadata": {},
     "output_type": "execute_result"
    }
   ],
   "source": [
    "u_tgv_tau = 1.0 / 3.0 / np.exp(u_tgv_beta)\n",
    "u_tgv_tau"
   ]
  },
  {
   "cell_type": "code",
   "execution_count": 49,
   "metadata": {},
   "outputs": [
    {
     "data": {
      "text/plain": [
       "0.02383769117295742"
      ]
     },
     "execution_count": 49,
     "metadata": {},
     "output_type": "execute_result"
    }
   ],
   "source": [
    "u_tv_state_dict = torch.load(makepath(root_dir, u_tv_dir, u_tv_model_filename))\n",
    "u_tv_beta = u_tv_state_dict[\"beta\"].item()\n",
    "u_tv_beta"
   ]
  },
  {
   "cell_type": "code",
   "execution_count": 50,
   "metadata": {},
   "outputs": [
    {
     "data": {
      "text/plain": [
       "0.3413746933406251"
      ]
     },
     "execution_count": 50,
     "metadata": {},
     "output_type": "execute_result"
    }
   ],
   "source": [
    "u_tv_sigma = 1.0 / 3.0 * np.exp(u_tv_beta)\n",
    "u_tv_sigma"
   ]
  },
  {
   "cell_type": "code",
   "execution_count": 51,
   "metadata": {},
   "outputs": [
    {
     "data": {
      "text/plain": [
       "0.32548139413557514"
      ]
     },
     "execution_count": 51,
     "metadata": {},
     "output_type": "execute_result"
    }
   ],
   "source": [
    "u_tv_tau = 1.0 / 3.0 / np.exp(u_tv_beta)\n",
    "u_tv_tau"
   ]
  },
  {
   "cell_type": "code",
   "execution_count": null,
   "metadata": {},
   "outputs": [],
   "source": []
  },
  {
   "cell_type": "code",
   "execution_count": 34,
   "metadata": {},
   "outputs": [
    {
     "ename": "RuntimeError",
     "evalue": "Error(s) in loading state_dict for MriPdhgNet:\n\tMissing key(s) in state_dict: \"cnn.c0x0.conv_block.0.weight\", \"cnn.c0x0.conv_block.0.bias\", \"cnn.c0x0.conv_block.2.weight\", \"cnn.c0x0.conv_block.2.bias\", \"cnn.encoder.0.double_conv.conv_block.0.weight\", \"cnn.encoder.0.double_conv.conv_block.0.bias\", \"cnn.encoder.0.double_conv.conv_block.2.weight\", \"cnn.encoder.0.double_conv.conv_block.2.bias\", \"cnn.encoder.1.double_conv.conv_block.0.weight\", \"cnn.encoder.1.double_conv.conv_block.0.bias\", \"cnn.encoder.1.double_conv.conv_block.2.weight\", \"cnn.encoder.1.double_conv.conv_block.2.bias\", \"cnn.encoder.2.double_conv.conv_block.0.weight\", \"cnn.encoder.2.double_conv.conv_block.0.bias\", \"cnn.encoder.2.double_conv.conv_block.2.weight\", \"cnn.encoder.2.double_conv.conv_block.2.bias\", \"cnn.encoder.3.double_conv.conv_block.0.weight\", \"cnn.encoder.3.double_conv.conv_block.0.bias\", \"cnn.encoder.3.double_conv.conv_block.2.weight\", \"cnn.encoder.3.double_conv.conv_block.2.bias\", \"cnn.decoder.0.upsampling.1.weight\", \"cnn.decoder.0.upsampling.1.bias\", \"cnn.decoder.0.double_conv.conv_block.0.weight\", \"cnn.decoder.0.double_conv.conv_block.0.bias\", \"cnn.decoder.0.double_conv.conv_block.2.weight\", \"cnn.decoder.0.double_conv.conv_block.2.bias\", \"cnn.decoder.1.upsampling.1.weight\", \"cnn.decoder.1.upsampling.1.bias\", \"cnn.decoder.1.double_conv.conv_block.0.weight\", \"cnn.decoder.1.double_conv.conv_block.0.bias\", \"cnn.decoder.1.double_conv.conv_block.2.weight\", \"cnn.decoder.1.double_conv.conv_block.2.bias\", \"cnn.decoder.2.upsampling.1.weight\", \"cnn.decoder.2.upsampling.1.bias\", \"cnn.decoder.2.double_conv.conv_block.0.weight\", \"cnn.decoder.2.double_conv.conv_block.0.bias\", \"cnn.decoder.2.double_conv.conv_block.2.weight\", \"cnn.decoder.2.double_conv.conv_block.2.bias\", \"cnn.decoder.3.upsampling.1.weight\", \"cnn.decoder.3.upsampling.1.bias\", \"cnn.decoder.3.double_conv.conv_block.0.weight\", \"cnn.decoder.3.double_conv.conv_block.0.bias\", \"cnn.decoder.3.double_conv.conv_block.2.weight\", \"cnn.decoder.3.double_conv.conv_block.2.bias\". \n\tUnexpected key(s) in state_dict: \"cnn.encoder.enc_blocks.0.conv_block.0.weight\", \"cnn.encoder.enc_blocks.0.conv_block.0.bias\", \"cnn.encoder.enc_blocks.0.conv_block.2.weight\", \"cnn.encoder.enc_blocks.0.conv_block.2.bias\", \"cnn.encoder.enc_blocks.1.conv_block.0.weight\", \"cnn.encoder.enc_blocks.1.conv_block.0.bias\", \"cnn.encoder.enc_blocks.1.conv_block.2.weight\", \"cnn.encoder.enc_blocks.1.conv_block.2.bias\", \"cnn.encoder.enc_blocks.2.conv_block.0.weight\", \"cnn.encoder.enc_blocks.2.conv_block.0.bias\", \"cnn.encoder.enc_blocks.2.conv_block.2.weight\", \"cnn.encoder.enc_blocks.2.conv_block.2.bias\", \"cnn.encoder.enc_blocks.3.conv_block.0.weight\", \"cnn.encoder.enc_blocks.3.conv_block.0.bias\", \"cnn.encoder.enc_blocks.3.conv_block.2.weight\", \"cnn.encoder.enc_blocks.3.conv_block.2.bias\", \"cnn.decoder.upconvs.0.weight\", \"cnn.decoder.upconvs.0.bias\", \"cnn.decoder.upconvs.1.weight\", \"cnn.decoder.upconvs.1.bias\", \"cnn.decoder.upconvs.2.weight\", \"cnn.decoder.upconvs.2.bias\", \"cnn.decoder.dec_blocks.0.conv_block.0.weight\", \"cnn.decoder.dec_blocks.0.conv_block.0.bias\", \"cnn.decoder.dec_blocks.0.conv_block.2.weight\", \"cnn.decoder.dec_blocks.0.conv_block.2.bias\", \"cnn.decoder.dec_blocks.1.conv_block.0.weight\", \"cnn.decoder.dec_blocks.1.conv_block.0.bias\", \"cnn.decoder.dec_blocks.1.conv_block.2.weight\", \"cnn.decoder.dec_blocks.1.conv_block.2.bias\", \"cnn.decoder.dec_blocks.2.conv_block.0.weight\", \"cnn.decoder.dec_blocks.2.conv_block.0.bias\", \"cnn.decoder.dec_blocks.2.conv_block.2.weight\", \"cnn.decoder.dec_blocks.2.conv_block.2.bias\". ",
     "output_type": "error",
     "traceback": [
      "\u001b[0;31m---------------------------------------------------------------------------\u001b[0m",
      "\u001b[0;31mRuntimeError\u001b[0m                              Traceback (most recent call last)",
      "Cell \u001b[0;32mIn[34], line 1\u001b[0m\n\u001b[0;32m----> 1\u001b[0m \u001b[43mu_tgv_model\u001b[49m\u001b[38;5;241;43m.\u001b[39;49m\u001b[43mload_state_dict\u001b[49m\u001b[43m(\u001b[49m\n\u001b[1;32m      2\u001b[0m \u001b[43m    \u001b[49m\u001b[43mtorch\u001b[49m\u001b[38;5;241;43m.\u001b[39;49m\u001b[43mload\u001b[49m\u001b[43m(\u001b[49m\u001b[43mmakepath\u001b[49m\u001b[43m(\u001b[49m\u001b[43mroot_dir\u001b[49m\u001b[43m,\u001b[49m\u001b[43m \u001b[49m\u001b[43mu_tgv_dir\u001b[49m\u001b[43m,\u001b[49m\u001b[43m \u001b[49m\u001b[43mu_tgv_model_filename\u001b[49m\u001b[43m)\u001b[49m\u001b[43m)\u001b[49m\u001b[43m,\u001b[49m\n\u001b[1;32m      3\u001b[0m \u001b[43m)\u001b[49m\n",
      "File \u001b[0;32m/home/GIT/LearningRegularizationParametersForTGV/venv/lib/python3.10/site-packages/torch/nn/modules/module.py:2189\u001b[0m, in \u001b[0;36mModule.load_state_dict\u001b[0;34m(self, state_dict, strict, assign)\u001b[0m\n\u001b[1;32m   2184\u001b[0m         error_msgs\u001b[38;5;241m.\u001b[39minsert(\n\u001b[1;32m   2185\u001b[0m             \u001b[38;5;241m0\u001b[39m, \u001b[38;5;124m'\u001b[39m\u001b[38;5;124mMissing key(s) in state_dict: \u001b[39m\u001b[38;5;132;01m{}\u001b[39;00m\u001b[38;5;124m. \u001b[39m\u001b[38;5;124m'\u001b[39m\u001b[38;5;241m.\u001b[39mformat(\n\u001b[1;32m   2186\u001b[0m                 \u001b[38;5;124m'\u001b[39m\u001b[38;5;124m, \u001b[39m\u001b[38;5;124m'\u001b[39m\u001b[38;5;241m.\u001b[39mjoin(\u001b[38;5;124mf\u001b[39m\u001b[38;5;124m'\u001b[39m\u001b[38;5;124m\"\u001b[39m\u001b[38;5;132;01m{\u001b[39;00mk\u001b[38;5;132;01m}\u001b[39;00m\u001b[38;5;124m\"\u001b[39m\u001b[38;5;124m'\u001b[39m \u001b[38;5;28;01mfor\u001b[39;00m k \u001b[38;5;129;01min\u001b[39;00m missing_keys)))\n\u001b[1;32m   2188\u001b[0m \u001b[38;5;28;01mif\u001b[39;00m \u001b[38;5;28mlen\u001b[39m(error_msgs) \u001b[38;5;241m>\u001b[39m \u001b[38;5;241m0\u001b[39m:\n\u001b[0;32m-> 2189\u001b[0m     \u001b[38;5;28;01mraise\u001b[39;00m \u001b[38;5;167;01mRuntimeError\u001b[39;00m(\u001b[38;5;124m'\u001b[39m\u001b[38;5;124mError(s) in loading state_dict for \u001b[39m\u001b[38;5;132;01m{}\u001b[39;00m\u001b[38;5;124m:\u001b[39m\u001b[38;5;130;01m\\n\u001b[39;00m\u001b[38;5;130;01m\\t\u001b[39;00m\u001b[38;5;132;01m{}\u001b[39;00m\u001b[38;5;124m'\u001b[39m\u001b[38;5;241m.\u001b[39mformat(\n\u001b[1;32m   2190\u001b[0m                        \u001b[38;5;28mself\u001b[39m\u001b[38;5;241m.\u001b[39m\u001b[38;5;18m__class__\u001b[39m\u001b[38;5;241m.\u001b[39m\u001b[38;5;18m__name__\u001b[39m, \u001b[38;5;124m\"\u001b[39m\u001b[38;5;130;01m\\n\u001b[39;00m\u001b[38;5;130;01m\\t\u001b[39;00m\u001b[38;5;124m\"\u001b[39m\u001b[38;5;241m.\u001b[39mjoin(error_msgs)))\n\u001b[1;32m   2191\u001b[0m \u001b[38;5;28;01mreturn\u001b[39;00m _IncompatibleKeys(missing_keys, unexpected_keys)\n",
      "\u001b[0;31mRuntimeError\u001b[0m: Error(s) in loading state_dict for MriPdhgNet:\n\tMissing key(s) in state_dict: \"cnn.c0x0.conv_block.0.weight\", \"cnn.c0x0.conv_block.0.bias\", \"cnn.c0x0.conv_block.2.weight\", \"cnn.c0x0.conv_block.2.bias\", \"cnn.encoder.0.double_conv.conv_block.0.weight\", \"cnn.encoder.0.double_conv.conv_block.0.bias\", \"cnn.encoder.0.double_conv.conv_block.2.weight\", \"cnn.encoder.0.double_conv.conv_block.2.bias\", \"cnn.encoder.1.double_conv.conv_block.0.weight\", \"cnn.encoder.1.double_conv.conv_block.0.bias\", \"cnn.encoder.1.double_conv.conv_block.2.weight\", \"cnn.encoder.1.double_conv.conv_block.2.bias\", \"cnn.encoder.2.double_conv.conv_block.0.weight\", \"cnn.encoder.2.double_conv.conv_block.0.bias\", \"cnn.encoder.2.double_conv.conv_block.2.weight\", \"cnn.encoder.2.double_conv.conv_block.2.bias\", \"cnn.encoder.3.double_conv.conv_block.0.weight\", \"cnn.encoder.3.double_conv.conv_block.0.bias\", \"cnn.encoder.3.double_conv.conv_block.2.weight\", \"cnn.encoder.3.double_conv.conv_block.2.bias\", \"cnn.decoder.0.upsampling.1.weight\", \"cnn.decoder.0.upsampling.1.bias\", \"cnn.decoder.0.double_conv.conv_block.0.weight\", \"cnn.decoder.0.double_conv.conv_block.0.bias\", \"cnn.decoder.0.double_conv.conv_block.2.weight\", \"cnn.decoder.0.double_conv.conv_block.2.bias\", \"cnn.decoder.1.upsampling.1.weight\", \"cnn.decoder.1.upsampling.1.bias\", \"cnn.decoder.1.double_conv.conv_block.0.weight\", \"cnn.decoder.1.double_conv.conv_block.0.bias\", \"cnn.decoder.1.double_conv.conv_block.2.weight\", \"cnn.decoder.1.double_conv.conv_block.2.bias\", \"cnn.decoder.2.upsampling.1.weight\", \"cnn.decoder.2.upsampling.1.bias\", \"cnn.decoder.2.double_conv.conv_block.0.weight\", \"cnn.decoder.2.double_conv.conv_block.0.bias\", \"cnn.decoder.2.double_conv.conv_block.2.weight\", \"cnn.decoder.2.double_conv.conv_block.2.bias\", \"cnn.decoder.3.upsampling.1.weight\", \"cnn.decoder.3.upsampling.1.bias\", \"cnn.decoder.3.double_conv.conv_block.0.weight\", \"cnn.decoder.3.double_conv.conv_block.0.bias\", \"cnn.decoder.3.double_conv.conv_block.2.weight\", \"cnn.decoder.3.double_conv.conv_block.2.bias\". \n\tUnexpected key(s) in state_dict: \"cnn.encoder.enc_blocks.0.conv_block.0.weight\", \"cnn.encoder.enc_blocks.0.conv_block.0.bias\", \"cnn.encoder.enc_blocks.0.conv_block.2.weight\", \"cnn.encoder.enc_blocks.0.conv_block.2.bias\", \"cnn.encoder.enc_blocks.1.conv_block.0.weight\", \"cnn.encoder.enc_blocks.1.conv_block.0.bias\", \"cnn.encoder.enc_blocks.1.conv_block.2.weight\", \"cnn.encoder.enc_blocks.1.conv_block.2.bias\", \"cnn.encoder.enc_blocks.2.conv_block.0.weight\", \"cnn.encoder.enc_blocks.2.conv_block.0.bias\", \"cnn.encoder.enc_blocks.2.conv_block.2.weight\", \"cnn.encoder.enc_blocks.2.conv_block.2.bias\", \"cnn.encoder.enc_blocks.3.conv_block.0.weight\", \"cnn.encoder.enc_blocks.3.conv_block.0.bias\", \"cnn.encoder.enc_blocks.3.conv_block.2.weight\", \"cnn.encoder.enc_blocks.3.conv_block.2.bias\", \"cnn.decoder.upconvs.0.weight\", \"cnn.decoder.upconvs.0.bias\", \"cnn.decoder.upconvs.1.weight\", \"cnn.decoder.upconvs.1.bias\", \"cnn.decoder.upconvs.2.weight\", \"cnn.decoder.upconvs.2.bias\", \"cnn.decoder.dec_blocks.0.conv_block.0.weight\", \"cnn.decoder.dec_blocks.0.conv_block.0.bias\", \"cnn.decoder.dec_blocks.0.conv_block.2.weight\", \"cnn.decoder.dec_blocks.0.conv_block.2.bias\", \"cnn.decoder.dec_blocks.1.conv_block.0.weight\", \"cnn.decoder.dec_blocks.1.conv_block.0.bias\", \"cnn.decoder.dec_blocks.1.conv_block.2.weight\", \"cnn.decoder.dec_blocks.1.conv_block.2.bias\", \"cnn.decoder.dec_blocks.2.conv_block.0.weight\", \"cnn.decoder.dec_blocks.2.conv_block.0.bias\", \"cnn.decoder.dec_blocks.2.conv_block.2.weight\", \"cnn.decoder.dec_blocks.2.conv_block.2.bias\". "
     ]
    }
   ],
   "source": [
    "u_tgv_model.load_state_dict(\n",
    "    ,\n",
    ")"
   ]
  },
  {
   "cell_type": "code",
   "execution_count": null,
   "metadata": {},
   "outputs": [],
   "source": []
  },
  {
   "cell_type": "code",
   "execution_count": null,
   "metadata": {},
   "outputs": [],
   "source": []
  },
  {
   "cell_type": "code",
   "execution_count": null,
   "metadata": {},
   "outputs": [],
   "source": []
  }
 ],
 "metadata": {
  "kernelspec": {
   "display_name": "venv",
   "language": "python",
   "name": "python3"
  },
  "language_info": {
   "codemirror_mode": {
    "name": "ipython",
    "version": 3
   },
   "file_extension": ".py",
   "mimetype": "text/x-python",
   "name": "python",
   "nbconvert_exporter": "python",
   "pygments_lexer": "ipython3",
   "version": "3.10.12"
  }
 },
 "nbformat": 4,
 "nbformat_minor": 2
}
