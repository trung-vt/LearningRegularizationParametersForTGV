{
 "cells": [
  {
   "cell_type": "code",
   "execution_count": 1,
   "metadata": {},
   "outputs": [],
   "source": [
    "import torch"
   ]
  },
  {
   "cell_type": "code",
   "execution_count": 2,
   "metadata": {},
   "outputs": [],
   "source": [
    "model = torch.load('model.pt')"
   ]
  },
  {
   "cell_type": "code",
   "execution_count": 3,
   "metadata": {},
   "outputs": [
    {
     "data": {
      "text/plain": [
       "dict"
      ]
     },
     "execution_count": 3,
     "metadata": {},
     "output_type": "execute_result"
    }
   ],
   "source": [
    "type(model)"
   ]
  },
  {
   "cell_type": "code",
   "execution_count": 4,
   "metadata": {},
   "outputs": [
    {
     "data": {
      "text/plain": [
       "dict_keys(['device', 'log', 'data', 'unet', 'train', 'pdhg', 'state'])"
      ]
     },
     "execution_count": 4,
     "metadata": {},
     "output_type": "execute_result"
    }
   ],
   "source": [
    "model.keys()"
   ]
  },
  {
   "cell_type": "code",
   "execution_count": 5,
   "metadata": {},
   "outputs": [
    {
     "data": {
      "text/plain": [
       "'cpu'"
      ]
     },
     "execution_count": 5,
     "metadata": {},
     "output_type": "execute_result"
    }
   ],
   "source": [
    "model['device']"
   ]
  },
  {
   "cell_type": "code",
   "execution_count": 6,
   "metadata": {},
   "outputs": [
    {
     "data": {
      "text/plain": [
       "{'project': 'example_mri_tgv',\n",
       " 'model_name': 'example_mri_tgv',\n",
       " 'architecture': 'UNET-PDHG',\n",
       " 'wandb_mode': 'online',\n",
       " 'checkpoint': 0,\n",
       " 'saves_model_by_epoch': True,\n",
       " 'local_model_saving_interval': 1,\n",
       " 'wandb_to_local_ratio': 5,\n",
       " 'save_dir': './tmp/mri_model_10_02-23_45',\n",
       " 'intermediate_train_metrics_log_freq_by_iter': 30,\n",
       " 'intermediate_val_metrics_log_freq_by_iter': 999,\n",
       " 'intermediate_test_metrics_log_freq_by_iter': 1,\n",
       " 'metrics': ['PSNR', 'SSIM'],\n",
       " 'is_state_dict': True}"
      ]
     },
     "execution_count": 6,
     "metadata": {},
     "output_type": "execute_result"
    }
   ],
   "source": [
    "model['log']"
   ]
  },
  {
   "cell_type": "code",
   "execution_count": 7,
   "metadata": {},
   "outputs": [
    {
     "data": {
      "text/plain": [
       "{'dataset': 'mri',\n",
       " 'data_path': PosixPath('tmp/mri_data'),\n",
       " 'train_file_name': 'x_true_train_3000.pt',\n",
       " 'val_file_name': 'x_true_val_150.pt',\n",
       " 'test_file_name': 'x_true_test_302.pt',\n",
       " 'data_scale_factor': 1000,\n",
       " 'loading_method': 'dynamically_noised',\n",
       " 'train_num_samples': 1,\n",
       " 'val_num_samples': 1,\n",
       " 'test_num_samples': 302,\n",
       " 'img_size': 320,\n",
       " 'min_standard_deviation_sigma': 0.0,\n",
       " 'max_standard_deviation_sigma': 0.5,\n",
       " 'min_acceleration_factor_R': 1,\n",
       " 'max_acceleration_factor_R': 8,\n",
       " 'batch_size': 1,\n",
       " 'random_seed': 42}"
      ]
     },
     "execution_count": 7,
     "metadata": {},
     "output_type": "execute_result"
    }
   ],
   "source": [
    "model['data']"
   ]
  },
  {
   "cell_type": "code",
   "execution_count": 8,
   "metadata": {},
   "outputs": [
    {
     "data": {
      "text/plain": [
       "{'in_channels': 2,\n",
       " 'out_channels': 2,\n",
       " 'init_filters': 128,\n",
       " 'n_blocks': 4,\n",
       " 'activation': 'LeakyReLU',\n",
       " 'downsampling_mode': 'max_pool',\n",
       " 'upsampling_mode': 'linear_interpolation'}"
      ]
     },
     "execution_count": 8,
     "metadata": {},
     "output_type": "execute_result"
    }
   ],
   "source": [
    "model['unet']"
   ]
  },
  {
   "cell_type": "code",
   "execution_count": 9,
   "metadata": {},
   "outputs": [
    {
     "data": {
      "text/plain": [
       "{'optimizer': 'Adam',\n",
       " 'learning_rate': 0.0001,\n",
       " 'warmup': 1,\n",
       " 'weight_decay': 1e-05,\n",
       " 'loss_function': 'MSELoss',\n",
       " 'random_seed': 42,\n",
       " 'num_epochs': 1,\n",
       " 'expected_num_epochs': 1,\n",
       " 'start_epoch': 0,\n",
       " 'loads_pretrained': False}"
      ]
     },
     "execution_count": 9,
     "metadata": {},
     "output_type": "execute_result"
    }
   ],
   "source": [
    "model['train']"
   ]
  },
  {
   "cell_type": "code",
   "execution_count": 10,
   "metadata": {},
   "outputs": [
    {
     "data": {
      "text/plain": [
       "{'regularisation': 'tgv',\n",
       " 'L': 'sqrt(1 + 8)',\n",
       " 'params': {'learns_sigma_and_tau': True,\n",
       "  'initial_beta': 0.0,\n",
       "  'learns_alpha': False,\n",
       "  'learns_theta': False,\n",
       "  'constant_theta': 1},\n",
       " 'low_bound': 0,\n",
       " 'up_bound': None,\n",
       " 'constraint_activation': 'softplus',\n",
       " 'softplus_beta': 5,\n",
       " 'T': 256,\n",
       " 'uses_scalar_lambda0': False,\n",
       " 'uses_scalar_lambda1': False}"
      ]
     },
     "execution_count": 10,
     "metadata": {},
     "output_type": "execute_result"
    }
   ],
   "source": [
    "model['pdhg']"
   ]
  },
  {
   "cell_type": "code",
   "execution_count": 11,
   "metadata": {},
   "outputs": [
    {
     "data": {
      "text/plain": [
       "collections.OrderedDict"
      ]
     },
     "execution_count": 11,
     "metadata": {},
     "output_type": "execute_result"
    }
   ],
   "source": [
    "type(model['state'])"
   ]
  }
 ],
 "metadata": {
  "kernelspec": {
   "display_name": "venv",
   "language": "python",
   "name": "python3"
  },
  "language_info": {
   "codemirror_mode": {
    "name": "ipython",
    "version": 3
   },
   "file_extension": ".py",
   "mimetype": "text/x-python",
   "name": "python",
   "nbconvert_exporter": "python",
   "pygments_lexer": "ipython3",
   "version": "3.10.12"
  }
 },
 "nbformat": 4,
 "nbformat_minor": 2
}
