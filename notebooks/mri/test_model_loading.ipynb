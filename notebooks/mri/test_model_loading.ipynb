{
 "cells": [
  {
   "cell_type": "markdown",
   "metadata": {},
   "source": [
    "# Test Model Loading"
   ]
  },
  {
   "cell_type": "markdown",
   "metadata": {},
   "source": [
    "Test loading pre-trained U-TV and U-TGV models."
   ]
  },
  {
   "cell_type": "code",
   "execution_count": null,
   "metadata": {},
   "outputs": [],
   "source": [
    "%load_ext autoreload\n",
    "%autoreload 2"
   ]
  },
  {
   "cell_type": "code",
   "execution_count": 41,
   "metadata": {},
   "outputs": [],
   "source": [
    "import torch\n",
    "import numpy as np\n",
    "\n",
    "from scripts.mri.model_loader import ModelLoader\n",
    "from utils.makepath import makepath"
   ]
  },
  {
   "cell_type": "code",
   "execution_count": 26,
   "metadata": {},
   "outputs": [],
   "source": [
    "root_dir = makepath(\"..\", \"..\")\n",
    "pretrained_dir = makepath(\"pretrained\")\n",
    "u_tgv_dir = makepath(pretrained_dir, \"u_tgv\")\n",
    "u_tgv_model_filename = \"u_tgv-model_state_dict_30-cpu.pth\"\n",
    "u_tv_dir = makepath(pretrained_dir, \"u_tv\")\n",
    "u_tv_model_filename = \"u_tv-model_state_dict_20-cpu.pth\""
   ]
  },
  {
   "cell_type": "code",
   "execution_count": 27,
   "metadata": {},
   "outputs": [
    {
     "name": "stdout",
     "output_type": "stream",
     "text": [
      "Config loaded from file ../../pretrained/u_tgv/config.yaml\n",
      "Loading model on device: cuda\n"
     ]
    }
   ],
   "source": [
    "u_tgv_model_loader = ModelLoader(\n",
    "    config_choice=makepath(root_dir, u_tgv_dir, \"config.yaml\"),\n",
    "    is_training=False,\n",
    ")\n",
    "u_tgv_model_loader.config[\"log\"][\"model_filename\"] = u_tgv_model_filename"
   ]
  },
  {
   "cell_type": "code",
   "execution_count": 32,
   "metadata": {},
   "outputs": [
    {
     "name": "stdout",
     "output_type": "stream",
     "text": [
      "Norm of operator A: 1\n",
      "Norm of gradient operator nabla: 2.8284270763397217\n",
      "L: 3.0\n",
      "PDHG net device: cuda\n"
     ]
    }
   ],
   "source": [
    "u_tgv_model = u_tgv_model_loader.init_new_model()"
   ]
  },
  {
   "cell_type": "code",
   "execution_count": 35,
   "metadata": {},
   "outputs": [],
   "source": [
    "u_tgv_state_dict = torch.load(makepath(root_dir, u_tgv_dir, u_tgv_model_filename))"
   ]
  },
  {
   "cell_type": "code",
   "execution_count": 48,
   "metadata": {},
   "outputs": [],
   "source": [
    "# list(u_tgv_state_dict.keys())"
   ]
  },
  {
   "cell_type": "code",
   "execution_count": 43,
   "metadata": {},
   "outputs": [
    {
     "data": {
      "text/plain": [
       "-0.6760127544403076"
      ]
     },
     "execution_count": 43,
     "metadata": {},
     "output_type": "execute_result"
    }
   ],
   "source": [
    "u_tgv_beta = u_tgv_state_dict[\"beta\"].item()\n",
    "u_tgv_beta"
   ]
  },
  {
   "cell_type": "code",
   "execution_count": 46,
   "metadata": {},
   "outputs": [
    {
     "data": {
      "text/plain": [
       "0.16954701040242373"
      ]
     },
     "execution_count": 46,
     "metadata": {},
     "output_type": "execute_result"
    }
   ],
   "source": [
    "u_tgv_sigma = 1.0 / 3.0 * np.exp(u_tgv_beta)\n",
    "u_tgv_sigma"
   ]
  },
  {
   "cell_type": "code",
   "execution_count": 47,
   "metadata": {},
   "outputs": [
    {
     "data": {
      "text/plain": [
       "0.655341022217887"
      ]
     },
     "execution_count": 47,
     "metadata": {},
     "output_type": "execute_result"
    }
   ],
   "source": [
    "u_tgv_tau = 1.0 / 3.0 / np.exp(u_tgv_beta)\n",
    "u_tgv_tau"
   ]
  },
  {
   "cell_type": "code",
   "execution_count": 49,
   "metadata": {},
   "outputs": [
    {
     "data": {
      "text/plain": [
       "0.02383769117295742"
      ]
     },
     "execution_count": 49,
     "metadata": {},
     "output_type": "execute_result"
    }
   ],
   "source": [
    "u_tv_state_dict = torch.load(makepath(root_dir, u_tv_dir, u_tv_model_filename))\n",
    "u_tv_beta = u_tv_state_dict[\"beta\"].item()\n",
    "u_tv_beta"
   ]
  },
  {
   "cell_type": "code",
   "execution_count": 50,
   "metadata": {},
   "outputs": [
    {
     "data": {
      "text/plain": [
       "0.3413746933406251"
      ]
     },
     "execution_count": 50,
     "metadata": {},
     "output_type": "execute_result"
    }
   ],
   "source": [
    "u_tv_sigma = 1.0 / 3.0 * np.exp(u_tv_beta)\n",
    "u_tv_sigma"
   ]
  },
  {
   "cell_type": "code",
   "execution_count": 51,
   "metadata": {},
   "outputs": [
    {
     "data": {
      "text/plain": [
       "0.32548139413557514"
      ]
     },
     "execution_count": 51,
     "metadata": {},
     "output_type": "execute_result"
    }
   ],
   "source": [
    "u_tv_tau = 1.0 / 3.0 / np.exp(u_tv_beta)\n",
    "u_tv_tau"
   ]
  }
 ],
 "metadata": {
  "kernelspec": {
   "display_name": "venv",
   "language": "python",
   "name": "python3"
  },
  "language_info": {
   "codemirror_mode": {
    "name": "ipython",
    "version": 3
   },
   "file_extension": ".py",
   "mimetype": "text/x-python",
   "name": "python",
   "nbconvert_exporter": "python",
   "pygments_lexer": "ipython3",
   "version": "3.10.12"
  }
 },
 "nbformat": 4,
 "nbformat_minor": 2
}
