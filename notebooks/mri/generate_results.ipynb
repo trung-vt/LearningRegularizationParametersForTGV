{
 "cells": [
  {
   "cell_type": "code",
   "execution_count": 1,
   "metadata": {},
   "outputs": [],
   "source": [
    "%load_ext autoreload\n",
    "%autoreload 2"
   ]
  },
  {
   "cell_type": "code",
   "execution_count": 2,
   "metadata": {},
   "outputs": [],
   "source": [
    "import os\n",
    "from tqdm.notebook import tqdm\n",
    "from typing import Callable, Union, Dict, Any\n",
    "\n",
    "from networks.mri_pdhg_net import MriPdhgNet\n",
    "from utils.makepath import makepath as mkp\n",
    "from config.config_loader import load_config\n",
    "from data.mri.data_loader import get_data_loader, get_dataset\n",
    "from scripts.mri.epoch import perform_epoch\n",
    "from scripts.mri.test_utils import get_data_config_and_models\n",
    "from scripts.mri.logger import Logger\n",
    "from utils.metrics import ImageMetricsEvaluator"
   ]
  },
  {
   "cell_type": "code",
   "execution_count": 3,
   "metadata": {},
   "outputs": [],
   "source": [
    "# device = \"cpu\"\n",
    "device = \"cuda\""
   ]
  },
  {
   "cell_type": "code",
   "execution_count": 4,
   "metadata": {},
   "outputs": [],
   "source": [
    "root_dir = mkp(\"..\", \"..\")"
   ]
  },
  {
   "cell_type": "code",
   "execution_count": 5,
   "metadata": {},
   "outputs": [
    {
     "name": "stdout",
     "output_type": "stream",
     "text": [
      "Config loaded from file ../../tmp/mri_model_09_14-14_37-good_TV-sigma_to_0_2-R_from_4/config.yaml\n",
      "Config loaded from dict\n",
      "Norm of operator A: 1\n",
      "Norm of gradient operator nabla: 2.8284270763397217\n",
      "L: 3.0\n",
      "u_tv model loaded\n",
      "Config loaded from file ../../tmp/mri_model_09_12-23_02-good_TGV-sigma_to_0_2-R_from_4/config.yaml\n",
      "Config loaded from dict\n",
      "Norm of operator A: 1\n",
      "Norm of gradient operator nabla: 2.8284270763397217\n",
      "L: 3.0\n",
      "u_tgv model loaded\n"
     ]
    }
   ],
   "source": [
    "data_config, u_tv_net, u_tgv_net = get_data_config_and_models(\n",
    "    device=device, root_dir=root_dir)"
   ]
  },
  {
   "cell_type": "code",
   "execution_count": 6,
   "metadata": {},
   "outputs": [
    {
     "name": "stdout",
     "output_type": "stream",
     "text": [
      "U-TV sigma: 0.3413746953010559\n",
      "U-TV tau: 0.3254814147949219\n"
     ]
    }
   ],
   "source": [
    "print(f\"U-TV sigma: {u_tv_net.sigma}\")\n",
    "print(f\"U-TV tau: {u_tv_net.tau}\")"
   ]
  },
  {
   "cell_type": "code",
   "execution_count": 7,
   "metadata": {},
   "outputs": [
    {
     "name": "stdout",
     "output_type": "stream",
     "text": [
      "U-TGV sigma: 0.16954700648784637\n",
      "U-TGV tau: 0.6553410887718201\n"
     ]
    }
   ],
   "source": [
    "print(f\"U-TGV sigma: {u_tgv_net.sigma}\")\n",
    "print(f\"U-TGV tau: {u_tgv_net.tau}\")"
   ]
  },
  {
   "cell_type": "code",
   "execution_count": 8,
   "metadata": {},
   "outputs": [
    {
     "name": "stdout",
     "output_type": "stream",
     "text": [
      "\n",
      "\n",
      "Ground truth data shape: torch.Size([302, 320, 320])\n",
      "min abs val of ground truth: 1.8633207901075366e-06\n",
      "max abs val of ground truth: 1.385725498199463\n",
      "\n",
      "Corrupted data shape: torch.Size([302, 320, 320])\n",
      "min abs val of corrupted: 5.752422566729365e-06\n",
      "max abs val of corrupted: 1.2349826097488403\n",
      "\n",
      "Corrupted kdata shape: torch.Size([302, 1, 320, 320])\n",
      "\n",
      "kmasks shape: torch.Size([302, 320, 320])\n",
      "\n"
     ]
    }
   ],
   "source": [
    "test_dataset = get_dataset(\n",
    "    action=\"test\",\n",
    "    data_config=data_config,\n",
    "    device=device,\n",
    "    acceleration_factor_R=4,\n",
    "    gaussian_noise_standard_deviation_sigma=0.05\n",
    ")"
   ]
  },
  {
   "cell_type": "code",
   "execution_count": 9,
   "metadata": {},
   "outputs": [],
   "source": [
    "def get_zero_filled(\n",
    "    batch_kdata,\n",
    "    batch_kmask,\n",
    "    batch_x,\n",
    "    batch_csmap\n",
    "):\n",
    "    return batch_x, None"
   ]
  },
  {
   "cell_type": "code",
   "execution_count": 10,
   "metadata": {},
   "outputs": [
    {
     "name": "stdout",
     "output_type": "stream",
     "text": [
      "NOTE: Complex-to-real conversion method: abs\n"
     ]
    }
   ],
   "source": [
    "complex_to_real_conversion = \"abs\"\n",
    "# complex_to_real_conversion = \"view_as_real\"\n",
    "\n",
    "metrics_evaluator = ImageMetricsEvaluator(\n",
    "    complex_to_real_conversion=complex_to_real_conversion, device=device)"
   ]
  },
  {
   "cell_type": "code",
   "execution_count": 11,
   "metadata": {},
   "outputs": [],
   "source": [
    "def test_and_save_results(\n",
    "        config: Dict[str, Any],\n",
    "        model: Union[MriPdhgNet, Callable],\n",
    "        model_name: str,\n",
    "        general_action: str,\n",
    "        acceleration_factor_R: int,\n",
    "        sigma: float,\n",
    "        force_overwrite: bool = False\n",
    "):\n",
    "    print(f\"Testing with {general_action} data, R = {acceleration_factor_R}, sigma = {sigma}\")\n",
    "\n",
    "    test_data_loader = get_data_loader(\n",
    "        data_config=config[\"data\"],\n",
    "        action=general_action,\n",
    "        dataset_type=\"preprocessed\",\n",
    "        device=device,\n",
    "        acceleration_factor_R=acceleration_factor_R,\n",
    "        gaussian_noise_standard_deviation_sigma=sigma\n",
    "    )\n",
    "\n",
    "    specific_action = f\"{general_action}-{complex_to_real_conversion}-R_{acceleration_factor_R}-sigma_{sigma:.2f}\".replace(\".\", \"_\")\n",
    "\n",
    "    test_logger = Logger(\n",
    "        action=specific_action,\n",
    "        config=config,\n",
    "        force_overwrite=force_overwrite\n",
    "    )\n",
    "\n",
    "    # Adjust the save directory as required\n",
    "    test_logger.save_dir = mkp(\".\", \"results\", \"test_set\", model_name, specific_action)\n",
    "    os.makedirs(test_logger.save_dir, exist_ok=True)\n",
    "    print(f\"NOTE: New save directory: {test_logger.save_dir}\")\n",
    "\n",
    "    test_logger.init_metrics_logging_options()\n",
    "    # Set the intermediate log frequency to 1\n",
    "    test_logger.log_freq_by_iter[\"intermediate\"] = 1\n",
    "\n",
    "    test_data_iterator = tqdm(test_data_loader, desc=\"Testing\")\n",
    "\n",
    "    avg_metrics = perform_epoch(\n",
    "        data_iterator=test_data_iterator,\n",
    "        model=model,\n",
    "        is_training=False,\n",
    "        metrics_evaluator=metrics_evaluator,\n",
    "        logger=test_logger,\n",
    "        # learning_rate_scheduler=None,\n",
    "        # optimizer=None,\n",
    "        sets_tqdm_postfix=True\n",
    "    )\n",
    "    return avg_metrics"
   ]
  },
  {
   "cell_type": "code",
   "execution_count": 12,
   "metadata": {},
   "outputs": [
    {
     "name": "stdout",
     "output_type": "stream",
     "text": [
      "Config loaded from file ../../config/zero_filled_config.yaml\n"
     ]
    }
   ],
   "source": [
    "zero_filled_config = load_config(\n",
    "    config_choice=mkp(root_dir, \"config\", \"zero_filled_config.yaml\"),\n",
    "    is_training=False,\n",
    "    root_dir=root_dir\n",
    ")"
   ]
  },
  {
   "cell_type": "code",
   "execution_count": 13,
   "metadata": {},
   "outputs": [
    {
     "name": "stdout",
     "output_type": "stream",
     "text": [
      "Testing with test data, R = 4, sigma = 0.05\n",
      "\n",
      "\n",
      "Ground truth data shape: torch.Size([302, 320, 320])\n",
      "min abs val of ground truth: 1.8633207901075366e-06\n",
      "max abs val of ground truth: 1.385725498199463\n",
      "\n",
      "Corrupted data shape: torch.Size([302, 320, 320])\n",
      "min abs val of corrupted: 5.752422566729365e-06\n",
      "max abs val of corrupted: 1.2349826097488403\n",
      "\n",
      "Corrupted kdata shape: torch.Size([302, 1, 320, 320])\n",
      "\n",
      "kmasks shape: torch.Size([302, 320, 320])\n",
      "\n",
      "test_data_loader contains 302 batches.\n",
      "Action: test-abs-R_4-sigma_0_05\n",
      "Save directory: ../../tmp/zero_filled\n",
      "Force overwrite: True\n",
      "Current epoch: 0\n",
      "Please initialize the logging options.\n",
      "File 'results/test_set/u_tgv/test-abs-R_4-sigma_0_05/test-abs-R_4-sigma_0_05_epoch_metrics.csv' already exists.\n",
      "Overwriting the file 'results/test_set/u_tgv/test-abs-R_4-sigma_0_05/test-abs-R_4-sigma_0_05_epoch_metrics.csv'...\n",
      "File 'results/test_set/u_tgv/test-abs-R_4-sigma_0_05/test-abs-R_4-sigma_0_05_epoch_metrics.csv' initialized.\n",
      "File 'results/test_set/u_tgv/test-abs-R_4-sigma_0_05/test-abs-R_4-sigma_0_05_intermediate_metrics.csv' already exists.\n",
      "Overwriting the file 'results/test_set/u_tgv/test-abs-R_4-sigma_0_05/test-abs-R_4-sigma_0_05_intermediate_metrics.csv'...\n",
      "File 'results/test_set/u_tgv/test-abs-R_4-sigma_0_05/test-abs-R_4-sigma_0_05_intermediate_metrics.csv' initialized.\n",
      "Metrics logging options initialized.\n"
     ]
    },
    {
     "data": {
      "application/vnd.jupyter.widget-view+json": {
       "model_id": "7fe989134acf4df2992fa96b00a9eaa8",
       "version_major": 2,
       "version_minor": 0
      },
      "text/plain": [
       "Testing:   0%|          | 0/302 [00:00<?, ?it/s]"
      ]
     },
     "metadata": {},
     "output_type": "display_data"
    },
    {
     "name": "stdout",
     "output_type": "stream",
     "text": [
      "min_val = 9.105447134061251e-07\n",
      "max_val = 1.3289061784744263\n",
      "Testing with test data, R = 4, sigma = 0.1\n",
      "\n",
      "\n",
      "Ground truth data shape: torch.Size([302, 320, 320])\n",
      "min abs val of ground truth: 1.8633207901075366e-06\n",
      "max abs val of ground truth: 1.385725498199463\n",
      "\n",
      "Corrupted data shape: torch.Size([302, 320, 320])\n",
      "min abs val of corrupted: 2.8516878955997527e-06\n",
      "max abs val of corrupted: 1.2406718730926514\n",
      "\n",
      "Corrupted kdata shape: torch.Size([302, 1, 320, 320])\n",
      "\n",
      "kmasks shape: torch.Size([302, 320, 320])\n",
      "\n",
      "test_data_loader contains 302 batches.\n",
      "Action: test-abs-R_4-sigma_0_10\n",
      "Save directory: ../../tmp/zero_filled\n",
      "Force overwrite: True\n",
      "Current epoch: 0\n",
      "Please initialize the logging options.\n",
      "File 'results/test_set/u_tgv/test-abs-R_4-sigma_0_10/test-abs-R_4-sigma_0_10_epoch_metrics.csv' already exists.\n",
      "Overwriting the file 'results/test_set/u_tgv/test-abs-R_4-sigma_0_10/test-abs-R_4-sigma_0_10_epoch_metrics.csv'...\n",
      "File 'results/test_set/u_tgv/test-abs-R_4-sigma_0_10/test-abs-R_4-sigma_0_10_epoch_metrics.csv' initialized.\n",
      "File 'results/test_set/u_tgv/test-abs-R_4-sigma_0_10/test-abs-R_4-sigma_0_10_intermediate_metrics.csv' already exists.\n",
      "Overwriting the file 'results/test_set/u_tgv/test-abs-R_4-sigma_0_10/test-abs-R_4-sigma_0_10_intermediate_metrics.csv'...\n",
      "File 'results/test_set/u_tgv/test-abs-R_4-sigma_0_10/test-abs-R_4-sigma_0_10_intermediate_metrics.csv' initialized.\n",
      "Metrics logging options initialized.\n"
     ]
    },
    {
     "data": {
      "application/vnd.jupyter.widget-view+json": {
       "model_id": "dc307e787c2d48b1bc8053397bb17e5e",
       "version_major": 2,
       "version_minor": 0
      },
      "text/plain": [
       "Testing:   0%|          | 0/302 [00:00<?, ?it/s]"
      ]
     },
     "metadata": {},
     "output_type": "display_data"
    },
    {
     "name": "stdout",
     "output_type": "stream",
     "text": [
      "min_val = 1.5852201613597572e-06\n",
      "max_val = 1.3109369277954102\n",
      "Testing with test data, R = 4, sigma = 0.15\n",
      "\n",
      "\n",
      "Ground truth data shape: torch.Size([302, 320, 320])\n",
      "min abs val of ground truth: 1.8633207901075366e-06\n",
      "max abs val of ground truth: 1.385725498199463\n",
      "\n",
      "Corrupted data shape: torch.Size([302, 320, 320])\n",
      "min abs val of corrupted: 8.815023647912312e-06\n",
      "max abs val of corrupted: 1.2514125108718872\n",
      "\n",
      "Corrupted kdata shape: torch.Size([302, 1, 320, 320])\n",
      "\n",
      "kmasks shape: torch.Size([302, 320, 320])\n",
      "\n",
      "test_data_loader contains 302 batches.\n",
      "Action: test-abs-R_4-sigma_0_15\n",
      "Save directory: ../../tmp/zero_filled\n",
      "Force overwrite: True\n",
      "Current epoch: 0\n",
      "Please initialize the logging options.\n",
      "File 'results/test_set/u_tgv/test-abs-R_4-sigma_0_15/test-abs-R_4-sigma_0_15_epoch_metrics.csv' already exists.\n",
      "Overwriting the file 'results/test_set/u_tgv/test-abs-R_4-sigma_0_15/test-abs-R_4-sigma_0_15_epoch_metrics.csv'...\n",
      "File 'results/test_set/u_tgv/test-abs-R_4-sigma_0_15/test-abs-R_4-sigma_0_15_epoch_metrics.csv' initialized.\n",
      "File 'results/test_set/u_tgv/test-abs-R_4-sigma_0_15/test-abs-R_4-sigma_0_15_intermediate_metrics.csv' already exists.\n",
      "Overwriting the file 'results/test_set/u_tgv/test-abs-R_4-sigma_0_15/test-abs-R_4-sigma_0_15_intermediate_metrics.csv'...\n",
      "File 'results/test_set/u_tgv/test-abs-R_4-sigma_0_15/test-abs-R_4-sigma_0_15_intermediate_metrics.csv' initialized.\n",
      "Metrics logging options initialized.\n"
     ]
    },
    {
     "data": {
      "application/vnd.jupyter.widget-view+json": {
       "model_id": "49107072171d4e84955fc43a4d36fe02",
       "version_major": 2,
       "version_minor": 0
      },
      "text/plain": [
       "Testing:   0%|          | 0/302 [00:00<?, ?it/s]"
      ]
     },
     "metadata": {},
     "output_type": "display_data"
    },
    {
     "name": "stdout",
     "output_type": "stream",
     "text": [
      "min_val = 2.6396403427497717e-06\n",
      "max_val = 1.3041800260543823\n",
      "Testing with test data, R = 4, sigma = 0.2\n",
      "\n",
      "\n",
      "Ground truth data shape: torch.Size([302, 320, 320])\n",
      "min abs val of ground truth: 1.8633207901075366e-06\n",
      "max abs val of ground truth: 1.385725498199463\n",
      "\n",
      "Corrupted data shape: torch.Size([302, 320, 320])\n",
      "min abs val of corrupted: 1.3283834050525911e-06\n",
      "max abs val of corrupted: 1.2621699571609497\n",
      "\n",
      "Corrupted kdata shape: torch.Size([302, 1, 320, 320])\n",
      "\n",
      "kmasks shape: torch.Size([302, 320, 320])\n",
      "\n",
      "test_data_loader contains 302 batches.\n",
      "Action: test-abs-R_4-sigma_0_20\n",
      "Save directory: ../../tmp/zero_filled\n",
      "Force overwrite: True\n",
      "Current epoch: 0\n",
      "Please initialize the logging options.\n",
      "File 'results/test_set/u_tgv/test-abs-R_4-sigma_0_20/test-abs-R_4-sigma_0_20_epoch_metrics.csv' already exists.\n",
      "Overwriting the file 'results/test_set/u_tgv/test-abs-R_4-sigma_0_20/test-abs-R_4-sigma_0_20_epoch_metrics.csv'...\n",
      "File 'results/test_set/u_tgv/test-abs-R_4-sigma_0_20/test-abs-R_4-sigma_0_20_epoch_metrics.csv' initialized.\n",
      "File 'results/test_set/u_tgv/test-abs-R_4-sigma_0_20/test-abs-R_4-sigma_0_20_intermediate_metrics.csv' already exists.\n",
      "Overwriting the file 'results/test_set/u_tgv/test-abs-R_4-sigma_0_20/test-abs-R_4-sigma_0_20_intermediate_metrics.csv'...\n",
      "File 'results/test_set/u_tgv/test-abs-R_4-sigma_0_20/test-abs-R_4-sigma_0_20_intermediate_metrics.csv' initialized.\n",
      "Metrics logging options initialized.\n"
     ]
    },
    {
     "data": {
      "application/vnd.jupyter.widget-view+json": {
       "model_id": "231e84395a764b68aff4af2f1c37d05f",
       "version_major": 2,
       "version_minor": 0
      },
      "text/plain": [
       "Testing:   0%|          | 0/302 [00:00<?, ?it/s]"
      ]
     },
     "metadata": {},
     "output_type": "display_data"
    },
    {
     "ename": "KeyboardInterrupt",
     "evalue": "",
     "output_type": "error",
     "traceback": [
      "\u001b[0;31m---------------------------------------------------------------------------\u001b[0m",
      "\u001b[0;31mKeyboardInterrupt\u001b[0m                         Traceback (most recent call last)",
      "Cell \u001b[0;32mIn[13], line 10\u001b[0m\n\u001b[1;32m      8\u001b[0m \u001b[38;5;28;01mfor\u001b[39;00m acceleration_factor_R \u001b[38;5;129;01min\u001b[39;00m [\u001b[38;5;241m4\u001b[39m]:\n\u001b[1;32m      9\u001b[0m     \u001b[38;5;28;01mfor\u001b[39;00m sigma \u001b[38;5;129;01min\u001b[39;00m [\u001b[38;5;241m0.05\u001b[39m, \u001b[38;5;241m0.1\u001b[39m, \u001b[38;5;241m0.15\u001b[39m, \u001b[38;5;241m0.2\u001b[39m]:\n\u001b[0;32m---> 10\u001b[0m         \u001b[43mtest_and_save_results\u001b[49m\u001b[43m(\u001b[49m\n\u001b[1;32m     11\u001b[0m \u001b[43m            \u001b[49m\u001b[43mconfig\u001b[49m\u001b[38;5;241;43m=\u001b[39;49m\u001b[43mzero_filled_config\u001b[49m\u001b[43m,\u001b[49m\n\u001b[1;32m     12\u001b[0m \u001b[43m            \u001b[49m\u001b[38;5;66;43;03m# model=get_zero_filled, model_name=\"zero_filled\",\u001b[39;49;00m\n\u001b[1;32m     13\u001b[0m \u001b[43m            \u001b[49m\u001b[38;5;66;43;03m# model=u_tv_net, model_name=\"u_tv\",\u001b[39;49;00m\n\u001b[1;32m     14\u001b[0m \u001b[43m            \u001b[49m\u001b[43mmodel\u001b[49m\u001b[38;5;241;43m=\u001b[39;49m\u001b[43mu_tgv_net\u001b[49m\u001b[43m,\u001b[49m\u001b[43m \u001b[49m\u001b[43mmodel_name\u001b[49m\u001b[38;5;241;43m=\u001b[39;49m\u001b[38;5;124;43m\"\u001b[39;49m\u001b[38;5;124;43mu_tgv\u001b[39;49m\u001b[38;5;124;43m\"\u001b[39;49m\u001b[43m,\u001b[49m\n\u001b[1;32m     15\u001b[0m \u001b[43m            \u001b[49m\u001b[43mgeneral_action\u001b[49m\u001b[38;5;241;43m=\u001b[39;49m\u001b[38;5;124;43m\"\u001b[39;49m\u001b[38;5;124;43mtest\u001b[39;49m\u001b[38;5;124;43m\"\u001b[39;49m\u001b[43m,\u001b[49m\n\u001b[1;32m     16\u001b[0m \u001b[43m            \u001b[49m\u001b[43macceleration_factor_R\u001b[49m\u001b[38;5;241;43m=\u001b[39;49m\u001b[43macceleration_factor_R\u001b[49m\u001b[43m,\u001b[49m\n\u001b[1;32m     17\u001b[0m \u001b[43m            \u001b[49m\u001b[43msigma\u001b[49m\u001b[38;5;241;43m=\u001b[39;49m\u001b[43msigma\u001b[49m\u001b[43m,\u001b[49m\n\u001b[1;32m     18\u001b[0m \u001b[43m            \u001b[49m\u001b[38;5;66;43;03m# force_overwrite=False\u001b[39;49;00m\n\u001b[1;32m     19\u001b[0m \u001b[43m            \u001b[49m\u001b[43mforce_overwrite\u001b[49m\u001b[38;5;241;43m=\u001b[39;49m\u001b[38;5;28;43;01mTrue\u001b[39;49;00m\n\u001b[1;32m     20\u001b[0m \u001b[43m        \u001b[49m\u001b[43m)\u001b[49m\n",
      "Cell \u001b[0;32mIn[11], line 36\u001b[0m, in \u001b[0;36mtest_and_save_results\u001b[0;34m(config, model, model_name, general_action, acceleration_factor_R, sigma, force_overwrite)\u001b[0m\n\u001b[1;32m     32\u001b[0m test_logger\u001b[38;5;241m.\u001b[39mlog_freq_by_iter[\u001b[38;5;124m\"\u001b[39m\u001b[38;5;124mintermediate\u001b[39m\u001b[38;5;124m\"\u001b[39m] \u001b[38;5;241m=\u001b[39m \u001b[38;5;241m1\u001b[39m\n\u001b[1;32m     34\u001b[0m test_data_iterator \u001b[38;5;241m=\u001b[39m tqdm(test_data_loader, desc\u001b[38;5;241m=\u001b[39m\u001b[38;5;124m\"\u001b[39m\u001b[38;5;124mTesting\u001b[39m\u001b[38;5;124m\"\u001b[39m)\n\u001b[0;32m---> 36\u001b[0m avg_metrics \u001b[38;5;241m=\u001b[39m \u001b[43mperform_epoch\u001b[49m\u001b[43m(\u001b[49m\n\u001b[1;32m     37\u001b[0m \u001b[43m    \u001b[49m\u001b[43mdata_iterator\u001b[49m\u001b[38;5;241;43m=\u001b[39;49m\u001b[43mtest_data_iterator\u001b[49m\u001b[43m,\u001b[49m\n\u001b[1;32m     38\u001b[0m \u001b[43m    \u001b[49m\u001b[43mmodel\u001b[49m\u001b[38;5;241;43m=\u001b[39;49m\u001b[43mmodel\u001b[49m\u001b[43m,\u001b[49m\n\u001b[1;32m     39\u001b[0m \u001b[43m    \u001b[49m\u001b[43mis_training\u001b[49m\u001b[38;5;241;43m=\u001b[39;49m\u001b[38;5;28;43;01mFalse\u001b[39;49;00m\u001b[43m,\u001b[49m\n\u001b[1;32m     40\u001b[0m \u001b[43m    \u001b[49m\u001b[43mmetrics_evaluator\u001b[49m\u001b[38;5;241;43m=\u001b[39;49m\u001b[43mmetrics_evaluator\u001b[49m\u001b[43m,\u001b[49m\n\u001b[1;32m     41\u001b[0m \u001b[43m    \u001b[49m\u001b[43mlogger\u001b[49m\u001b[38;5;241;43m=\u001b[39;49m\u001b[43mtest_logger\u001b[49m\u001b[43m,\u001b[49m\n\u001b[1;32m     42\u001b[0m \u001b[43m    \u001b[49m\u001b[38;5;66;43;03m# learning_rate_scheduler=None,\u001b[39;49;00m\n\u001b[1;32m     43\u001b[0m \u001b[43m    \u001b[49m\u001b[38;5;66;43;03m# optimizer=None,\u001b[39;49;00m\n\u001b[1;32m     44\u001b[0m \u001b[43m    \u001b[49m\u001b[43msets_tqdm_postfix\u001b[49m\u001b[38;5;241;43m=\u001b[39;49m\u001b[38;5;28;43;01mTrue\u001b[39;49;00m\n\u001b[1;32m     45\u001b[0m \u001b[43m\u001b[49m\u001b[43m)\u001b[49m\n\u001b[1;32m     46\u001b[0m \u001b[38;5;28;01mreturn\u001b[39;00m avg_metrics\n",
      "File \u001b[0;32m/home/GIT/image-denoising-unet-tv-tgv/scripts/mri/epoch.py:68\u001b[0m, in \u001b[0;36mperform_epoch\u001b[0;34m(data_iterator, model, logger, is_training, metrics_evaluator, learning_rate_scheduler, optimizer, sets_tqdm_postfix)\u001b[0m\n\u001b[1;32m     64\u001b[0m         optimizer\u001b[38;5;241m.\u001b[39mstep()\n\u001b[1;32m     66\u001b[0m     \u001b[38;5;28;01mif\u001b[39;00m sets_tqdm_postfix:\n\u001b[1;32m     67\u001b[0m         \u001b[38;5;66;03m# Assume the metrics are ordered correctly: loss, psnr, ssim\u001b[39;00m\n\u001b[0;32m---> 68\u001b[0m         \u001b[43mdata_iterator\u001b[49m\u001b[38;5;241;43m.\u001b[39;49m\u001b[43mset_postfix\u001b[49m\u001b[43m(\u001b[49m\u001b[43m{\u001b[49m\n\u001b[1;32m     69\u001b[0m \u001b[43m            \u001b[49m\u001b[38;5;124;43m\"\u001b[39;49m\u001b[38;5;124;43mloss\u001b[39;49m\u001b[38;5;124;43m\"\u001b[39;49m\u001b[43m:\u001b[49m\u001b[43m \u001b[49m\u001b[38;5;124;43mf\u001b[39;49m\u001b[38;5;124;43m\"\u001b[39;49m\u001b[38;5;132;43;01m{\u001b[39;49;00m\u001b[43mnew_metrics\u001b[49m\u001b[43m[\u001b[49m\u001b[38;5;241;43m0\u001b[39;49m\u001b[43m]\u001b[49m\u001b[38;5;241;43m.\u001b[39;49m\u001b[43mitem\u001b[49m\u001b[43m(\u001b[49m\u001b[43m)\u001b[49m\u001b[38;5;132;43;01m:\u001b[39;49;00m\u001b[38;5;124;43m.4f\u001b[39;49m\u001b[38;5;132;43;01m}\u001b[39;49;00m\u001b[38;5;124;43m\"\u001b[39;49m\u001b[43m,\u001b[49m\n\u001b[1;32m     70\u001b[0m \u001b[43m            \u001b[49m\u001b[38;5;66;43;03m# \"spatial\": f\"{spatial_min:.2f}/{spatial_max:.2f}\"\u001b[39;49;00m\n\u001b[1;32m     71\u001b[0m \u001b[43m            \u001b[49m\u001b[38;5;124;43m\"\u001b[39;49m\u001b[38;5;124;43mpsnr\u001b[39;49m\u001b[38;5;124;43m\"\u001b[39;49m\u001b[43m:\u001b[49m\u001b[43m \u001b[49m\u001b[38;5;124;43mf\u001b[39;49m\u001b[38;5;124;43m\"\u001b[39;49m\u001b[38;5;132;43;01m{\u001b[39;49;00m\u001b[43mnew_metrics\u001b[49m\u001b[43m[\u001b[49m\u001b[38;5;241;43m1\u001b[39;49m\u001b[43m]\u001b[49m\u001b[38;5;241;43m.\u001b[39;49m\u001b[43mitem\u001b[49m\u001b[43m(\u001b[49m\u001b[43m)\u001b[49m\u001b[38;5;132;43;01m:\u001b[39;49;00m\u001b[38;5;124;43m.2f\u001b[39;49m\u001b[38;5;132;43;01m}\u001b[39;49;00m\u001b[38;5;124;43m\"\u001b[39;49m\u001b[43m,\u001b[49m\n\u001b[1;32m     72\u001b[0m \u001b[43m            \u001b[49m\u001b[38;5;124;43m\"\u001b[39;49m\u001b[38;5;124;43mssim\u001b[39;49m\u001b[38;5;124;43m\"\u001b[39;49m\u001b[43m:\u001b[49m\u001b[43m \u001b[49m\u001b[38;5;124;43mf\u001b[39;49m\u001b[38;5;124;43m\"\u001b[39;49m\u001b[38;5;132;43;01m{\u001b[39;49;00m\u001b[43mnew_metrics\u001b[49m\u001b[43m[\u001b[49m\u001b[38;5;241;43m2\u001b[39;49m\u001b[43m]\u001b[49m\u001b[38;5;241;43m.\u001b[39;49m\u001b[43mitem\u001b[49m\u001b[43m(\u001b[49m\u001b[43m)\u001b[49m\u001b[38;5;132;43;01m:\u001b[39;49;00m\u001b[38;5;124;43m.4f\u001b[39;49m\u001b[38;5;132;43;01m}\u001b[39;49;00m\u001b[38;5;124;43m\"\u001b[39;49m\n\u001b[1;32m     73\u001b[0m \u001b[43m        \u001b[49m\u001b[43m}\u001b[49m\u001b[43m)\u001b[49m\n\u001b[1;32m     75\u001b[0m avg_metrics \u001b[38;5;241m=\u001b[39m total_metrics \u001b[38;5;241m/\u001b[39m \u001b[38;5;28mlen\u001b[39m(data_iterator)\n\u001b[1;32m     76\u001b[0m \u001b[38;5;28mprint\u001b[39m(\u001b[38;5;124mf\u001b[39m\u001b[38;5;124m\"\u001b[39m\u001b[38;5;124mmin_val = \u001b[39m\u001b[38;5;132;01m{\u001b[39;00mmin_val\u001b[38;5;132;01m}\u001b[39;00m\u001b[38;5;124m\"\u001b[39m)\n",
      "File \u001b[0;32m/home/GIT/image-denoising-unet-tv-tgv/venv/lib/python3.10/site-packages/tqdm/std.py:1431\u001b[0m, in \u001b[0;36mtqdm.set_postfix\u001b[0;34m(self, ordered_dict, refresh, **kwargs)\u001b[0m\n\u001b[1;32m   1428\u001b[0m \u001b[38;5;28mself\u001b[39m\u001b[38;5;241m.\u001b[39mpostfix \u001b[38;5;241m=\u001b[39m \u001b[38;5;124m'\u001b[39m\u001b[38;5;124m, \u001b[39m\u001b[38;5;124m'\u001b[39m\u001b[38;5;241m.\u001b[39mjoin(key \u001b[38;5;241m+\u001b[39m \u001b[38;5;124m'\u001b[39m\u001b[38;5;124m=\u001b[39m\u001b[38;5;124m'\u001b[39m \u001b[38;5;241m+\u001b[39m postfix[key]\u001b[38;5;241m.\u001b[39mstrip()\n\u001b[1;32m   1429\u001b[0m                          \u001b[38;5;28;01mfor\u001b[39;00m key \u001b[38;5;129;01min\u001b[39;00m postfix\u001b[38;5;241m.\u001b[39mkeys())\n\u001b[1;32m   1430\u001b[0m \u001b[38;5;28;01mif\u001b[39;00m refresh:\n\u001b[0;32m-> 1431\u001b[0m     \u001b[38;5;28;43mself\u001b[39;49m\u001b[38;5;241;43m.\u001b[39;49m\u001b[43mrefresh\u001b[49m\u001b[43m(\u001b[49m\u001b[43m)\u001b[49m\n",
      "File \u001b[0;32m/home/GIT/image-denoising-unet-tv-tgv/venv/lib/python3.10/site-packages/tqdm/std.py:1347\u001b[0m, in \u001b[0;36mtqdm.refresh\u001b[0;34m(self, nolock, lock_args)\u001b[0m\n\u001b[1;32m   1345\u001b[0m     \u001b[38;5;28;01melse\u001b[39;00m:\n\u001b[1;32m   1346\u001b[0m         \u001b[38;5;28mself\u001b[39m\u001b[38;5;241m.\u001b[39m_lock\u001b[38;5;241m.\u001b[39macquire()\n\u001b[0;32m-> 1347\u001b[0m \u001b[38;5;28;43mself\u001b[39;49m\u001b[38;5;241;43m.\u001b[39;49m\u001b[43mdisplay\u001b[49m\u001b[43m(\u001b[49m\u001b[43m)\u001b[49m\n\u001b[1;32m   1348\u001b[0m \u001b[38;5;28;01mif\u001b[39;00m \u001b[38;5;129;01mnot\u001b[39;00m nolock:\n\u001b[1;32m   1349\u001b[0m     \u001b[38;5;28mself\u001b[39m\u001b[38;5;241m.\u001b[39m_lock\u001b[38;5;241m.\u001b[39mrelease()\n",
      "File \u001b[0;32m/home/GIT/image-denoising-unet-tv-tgv/venv/lib/python3.10/site-packages/tqdm/notebook.py:154\u001b[0m, in \u001b[0;36mtqdm_notebook.display\u001b[0;34m(self, msg, pos, close, bar_style, check_delay)\u001b[0m\n\u001b[1;32m    151\u001b[0m     \u001b[38;5;66;03m# remove {bar}\u001b[39;00m\n\u001b[1;32m    152\u001b[0m     d[\u001b[38;5;124m'\u001b[39m\u001b[38;5;124mbar_format\u001b[39m\u001b[38;5;124m'\u001b[39m] \u001b[38;5;241m=\u001b[39m (d[\u001b[38;5;124m'\u001b[39m\u001b[38;5;124mbar_format\u001b[39m\u001b[38;5;124m'\u001b[39m] \u001b[38;5;129;01mor\u001b[39;00m \u001b[38;5;124m\"\u001b[39m\u001b[38;5;132;01m{l_bar}\u001b[39;00m\u001b[38;5;124m<bar/>\u001b[39m\u001b[38;5;132;01m{r_bar}\u001b[39;00m\u001b[38;5;124m\"\u001b[39m)\u001b[38;5;241m.\u001b[39mreplace(\n\u001b[1;32m    153\u001b[0m         \u001b[38;5;124m\"\u001b[39m\u001b[38;5;132;01m{bar}\u001b[39;00m\u001b[38;5;124m\"\u001b[39m, \u001b[38;5;124m\"\u001b[39m\u001b[38;5;124m<bar/>\u001b[39m\u001b[38;5;124m\"\u001b[39m)\n\u001b[0;32m--> 154\u001b[0m     msg \u001b[38;5;241m=\u001b[39m \u001b[38;5;28;43mself\u001b[39;49m\u001b[38;5;241;43m.\u001b[39;49m\u001b[43mformat_meter\u001b[49m\u001b[43m(\u001b[49m\u001b[38;5;241;43m*\u001b[39;49m\u001b[38;5;241;43m*\u001b[39;49m\u001b[43md\u001b[49m\u001b[43m)\u001b[49m\n\u001b[1;32m    156\u001b[0m ltext, pbar, rtext \u001b[38;5;241m=\u001b[39m \u001b[38;5;28mself\u001b[39m\u001b[38;5;241m.\u001b[39mcontainer\u001b[38;5;241m.\u001b[39mchildren\n\u001b[1;32m    157\u001b[0m pbar\u001b[38;5;241m.\u001b[39mvalue \u001b[38;5;241m=\u001b[39m \u001b[38;5;28mself\u001b[39m\u001b[38;5;241m.\u001b[39mn\n",
      "File \u001b[0;32m/home/GIT/image-denoising-unet-tv-tgv/venv/lib/python3.10/site-packages/tqdm/std.py:617\u001b[0m, in \u001b[0;36mtqdm.format_meter\u001b[0;34m(n, total, elapsed, ncols, prefix, ascii, unit, unit_scale, rate, bar_format, postfix, unit_divisor, initial, colour, **extra_kwargs)\u001b[0m\n\u001b[1;32m    613\u001b[0m percentage \u001b[38;5;241m=\u001b[39m frac \u001b[38;5;241m*\u001b[39m \u001b[38;5;241m100\u001b[39m\n\u001b[1;32m    615\u001b[0m l_bar \u001b[38;5;241m+\u001b[39m\u001b[38;5;241m=\u001b[39m \u001b[38;5;124mf\u001b[39m\u001b[38;5;124m'\u001b[39m\u001b[38;5;132;01m{\u001b[39;00mpercentage\u001b[38;5;132;01m:\u001b[39;00m\u001b[38;5;124m3.0f\u001b[39m\u001b[38;5;132;01m}\u001b[39;00m\u001b[38;5;124m%|\u001b[39m\u001b[38;5;124m'\u001b[39m\n\u001b[0;32m--> 617\u001b[0m \u001b[38;5;28;01mif\u001b[39;00m ncols \u001b[38;5;241m==\u001b[39m \u001b[38;5;241m0\u001b[39m:\n\u001b[1;32m    618\u001b[0m     \u001b[38;5;28;01mreturn\u001b[39;00m l_bar[:\u001b[38;5;241m-\u001b[39m\u001b[38;5;241m1\u001b[39m] \u001b[38;5;241m+\u001b[39m r_bar[\u001b[38;5;241m1\u001b[39m:]\n\u001b[1;32m    620\u001b[0m format_dict\u001b[38;5;241m.\u001b[39mupdate(l_bar\u001b[38;5;241m=\u001b[39ml_bar)\n",
      "\u001b[0;31mKeyboardInterrupt\u001b[0m: "
     ]
    }
   ],
   "source": [
    "# acceleration_factor_R = 4\n",
    "# sigma = 0.15\n",
    "# general_action = \"test\"\n",
    "# # action = \"val\"\n",
    "# force_overwrite = False\n",
    "# # force_overwrite = True\n",
    "\n",
    "for acceleration_factor_R in [4]:\n",
    "    for sigma in [0.05, 0.1, 0.15, 0.2]:\n",
    "        test_and_save_results(\n",
    "            config=zero_filled_config,\n",
    "            # model=get_zero_filled, model_name=\"zero_filled\",\n",
    "            # model=u_tv_net, model_name=\"u_tv\",\n",
    "            model=u_tgv_net, model_name=\"u_tgv\",\n",
    "            general_action=\"test\",\n",
    "            acceleration_factor_R=acceleration_factor_R,\n",
    "            sigma=sigma,\n",
    "            # force_overwrite=False\n",
    "            force_overwrite=True\n",
    "        )"
   ]
  },
  {
   "cell_type": "code",
   "execution_count": null,
   "metadata": {},
   "outputs": [],
   "source": []
  }
 ],
 "metadata": {
  "kernelspec": {
   "display_name": "venv",
   "language": "python",
   "name": "python3"
  },
  "language_info": {
   "codemirror_mode": {
    "name": "ipython",
    "version": 3
   },
   "file_extension": ".py",
   "mimetype": "text/x-python",
   "name": "python",
   "nbconvert_exporter": "python",
   "pygments_lexer": "ipython3",
   "version": "3.10.12"
  }
 },
 "nbformat": 4,
 "nbformat_minor": 2
}
