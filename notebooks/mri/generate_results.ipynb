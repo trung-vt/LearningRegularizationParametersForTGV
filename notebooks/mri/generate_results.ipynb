{
 "cells": [
  {
   "cell_type": "code",
   "execution_count": 2,
   "metadata": {},
   "outputs": [],
   "source": [
    "%load_ext autoreload\n",
    "%autoreload 2"
   ]
  },
  {
   "cell_type": "code",
   "execution_count": 3,
   "metadata": {},
   "outputs": [],
   "source": [
    "import torch\n",
    "import os\n",
    "from tqdm.notebook import tqdm\n",
    "from typing import Callable, Union, Dict, Any\n",
    "\n",
    "from networks.mri_pdhg_net import MriPdhgNet\n",
    "from utils.makepath import makepath as mkp\n",
    "from config.config_loader import load_config\n",
    "from data.mri.data_loader import get_data_loader, get_dataset\n",
    "from scripts.epoch import perform_epoch\n",
    "from scripts.mri.test.test_utils import get_config_and_model\n",
    "from scripts.logger import Logger\n",
    "from utils.metrics import ImageMetricsEvaluator\n",
    "from scripts.mri.mri_iteration import MriIteration"
   ]
  },
  {
   "cell_type": "code",
   "execution_count": 4,
   "metadata": {},
   "outputs": [],
   "source": [
    "# device = \"cpu\"\n",
    "# device = \"cuda\"\n",
    "device = \"mps\""
   ]
  },
  {
   "cell_type": "code",
   "execution_count": 5,
   "metadata": {},
   "outputs": [],
   "source": [
    "root_dir = mkp(\"..\", \"..\")"
   ]
  },
  {
   "cell_type": "code",
   "execution_count": 6,
   "metadata": {},
   "outputs": [
    {
     "name": "stdout",
     "output_type": "stream",
     "text": [
      "Config loaded from file ../../pretrained/u_tv_fixed/config.yaml\n",
      "Config loaded from dict\n",
      "Loading model on device: mps\n",
      "Loading model on device: mps\n",
      "Norm of operator A: 1\n",
      "Norm of gradient operator nabla: 2.8284270763397217\n",
      "L: 3.0\n",
      "PDHG net device: mps\n",
      "Using my U-Net implementation!\n",
      "Using my own UNet2d class\n",
      "Loaded model state dict from ../../pretrained/u_tv_fixed/model_state_dict_43.pth\n",
      "u_tv_fixed model loaded\n",
      "U-TV sigma: 0.12612056732177734\n",
      "U-TV tau: 0.8809912204742432\n"
     ]
    }
   ],
   "source": [
    "u_tv_config, u_tv_net = get_config_and_model(\n",
    "    # model_id=\"u_tv\",\n",
    "    # state_dict_file=\"new_u_tv_model_state_dict_30.pth\",\n",
    "    model_id=\"u_tv_fixed\",\n",
    "    state_dict_file=\"model_state_dict_43.pth\",\n",
    "    device=device, root_dir=root_dir)\n",
    "u_tv_data_config = u_tv_config[\"data\"]\n",
    "u_tv_net.eval()\n",
    "print(f\"U-TV sigma: {u_tv_net.sigma}\")\n",
    "print(f\"U-TV tau: {u_tv_net.tau}\")"
   ]
  },
  {
   "cell_type": "code",
   "execution_count": 7,
   "metadata": {},
   "outputs": [],
   "source": [
    "# u_tgv_config, u_tgv_net = get_config_and_model(\n",
    "#     # model_id=\"u_tgv\",\n",
    "#     # state_dict_file=\"new_u_tgv_model_state_dict_30.pth\",\n",
    "#     model_id=\"u_tgv_fixed\",\n",
    "#     state_dict_file=\"model_state_dict_72.pth\",\n",
    "#     device=device, root_dir=root_dir)\n",
    "# u_tgv_data_config = u_tgv_config[\"data\"]\n",
    "# u_tgv_net.eval()\n",
    "# print(f\"U-TGV sigma: {u_tgv_net.sigma}\")\n",
    "# print(f\"U-TGV tau: {u_tgv_net.tau}\")"
   ]
  },
  {
   "cell_type": "code",
   "execution_count": 8,
   "metadata": {},
   "outputs": [],
   "source": [
    "# u_tgv_net"
   ]
  },
  {
   "cell_type": "code",
   "execution_count": 9,
   "metadata": {},
   "outputs": [],
   "source": [
    "# assert u_tv_data_config == u_tgv_data_config, \"Data config must be the same for both models\"\n",
    "data_config = u_tv_data_config\n",
    "# data_config = u_tgv_data_config"
   ]
  },
  {
   "cell_type": "code",
   "execution_count": 10,
   "metadata": {},
   "outputs": [],
   "source": [
    "# test_dataset = get_dataset(\n",
    "#     action=\"test\",\n",
    "#     dataset_type=\"preprocessed\",\n",
    "#     data_config=data_config,\n",
    "#     device=device,\n",
    "#     acceleration_factor_R=4,\n",
    "#     gaussian_noise_standard_deviation_sigma=0.05\n",
    "# )"
   ]
  },
  {
   "cell_type": "code",
   "execution_count": 11,
   "metadata": {},
   "outputs": [],
   "source": [
    "def get_zero_filled(\n",
    "    batch_kdata,\n",
    "    batch_kmask,\n",
    "    batch_x,\n",
    "    batch_csmap\n",
    "):\n",
    "    return batch_x, None"
   ]
  },
  {
   "cell_type": "code",
   "execution_count": 12,
   "metadata": {},
   "outputs": [
    {
     "name": "stdout",
     "output_type": "stream",
     "text": [
      "NOTE: Complex-to-real conversion method: abs\n"
     ]
    }
   ],
   "source": [
    "complex_to_real_conversion = \"abs\"\n",
    "# complex_to_real_conversion = \"view_as_real\"\n",
    "\n",
    "metrics_evaluator = ImageMetricsEvaluator(\n",
    "    complex_to_real_conversion=complex_to_real_conversion, device=device)"
   ]
  },
  {
   "cell_type": "code",
   "execution_count": 13,
   "metadata": {},
   "outputs": [],
   "source": [
    "def test_and_save_results(\n",
    "        config: Dict[str, Any],\n",
    "        model: Union[MriPdhgNet, Callable],\n",
    "        model_name: str,\n",
    "        general_action: str,\n",
    "        acceleration_factor_R: int,\n",
    "        sigma: float,\n",
    "        force_overwrite: bool = False\n",
    "):\n",
    "    print(f\"Testing with {general_action} data, R = {acceleration_factor_R}, sigma = {sigma}\")\n",
    "\n",
    "    test_data_loader = get_data_loader(\n",
    "        data_config=config[\"data\"],\n",
    "        action=general_action,\n",
    "        dataset_type=\"preprocessed\",\n",
    "        device=device,\n",
    "        acceleration_factor_R=acceleration_factor_R,\n",
    "        gaussian_noise_standard_deviation_sigma=sigma\n",
    "    )\n",
    "\n",
    "    specific_action = f\"{general_action}-{complex_to_real_conversion}-R_{acceleration_factor_R}-sigma_{sigma:.2f}\".replace(\".\", \"_\")\n",
    "\n",
    "    test_logger = Logger(\n",
    "        action=specific_action,\n",
    "        config=config,\n",
    "        force_overwrite=force_overwrite\n",
    "    )\n",
    "\n",
    "    # # Adjust the save directory as required\n",
    "    # test_logger.save_dir = mkp(\".\", \"results\", \"test_set\", model_name, specific_action)\n",
    "    # os.makedirs(test_logger.save_dir, exist_ok=True)\n",
    "    # print(f\"NOTE: New save directory: {test_logger.save_dir}\")\n",
    "    print(f\"Final save directory: {test_logger.save_dir}\")\n",
    "\n",
    "    test_logger.init_metrics_logging_options()\n",
    "    # Set the intermediate log frequency to 1\n",
    "    test_logger.log_freq_by_iter[\"intermediate\"] = 1\n",
    "\n",
    "    test_data_iterator = tqdm(test_data_loader, desc=\"Testing\")\n",
    "\n",
    "    mri_iteration = MriIteration(model=model, metrics_evaluator=metrics_evaluator)\n",
    "\n",
    "    with torch.no_grad():\n",
    "        avg_metrics = perform_epoch(\n",
    "            data_loader=test_data_loader,\n",
    "            perform_iteration=mri_iteration.perform_iteration,\n",
    "            is_training=False,\n",
    "            logger=test_logger,\n",
    "            tqdm=tqdm,\n",
    "            sets_tqdm_postfix=False\n",
    "        )\n",
    "    test_data_iterator.close()\n",
    "    del test_data_loader\n",
    "    return avg_metrics"
   ]
  },
  {
   "cell_type": "code",
   "execution_count": 14,
   "metadata": {},
   "outputs": [
    {
     "name": "stdout",
     "output_type": "stream",
     "text": [
      "Config loaded from file ../../config/zero_filled_config.yaml\n"
     ]
    }
   ],
   "source": [
    "zero_filled_config = load_config(\n",
    "    config_choice=mkp(root_dir, \"config\", \"zero_filled_config.yaml\"),\n",
    "    is_training=False,\n",
    "    root_dir=root_dir\n",
    ")"
   ]
  },
  {
   "cell_type": "code",
   "execution_count": 15,
   "metadata": {},
   "outputs": [
    {
     "name": "stdout",
     "output_type": "stream",
     "text": [
      "Testing with test data, R = 4, sigma = 0.05\n",
      "\n",
      "\n",
      "Ground truth data shape: torch.Size([302, 320, 320])\n",
      "min abs val of ground truth: 1.8633207901075366e-06\n",
      "max abs val of ground truth: 1.385725498199463\n",
      "\n",
      "Ground truth data shape: torch.Size([302, 320, 320])\n",
      "Memory size of ground truth: 235.9375 MB\n",
      "Corrupted data shape: torch.Size([302, 320, 320])\n",
      "Memory size of corrupted data: 235.9375 MB\n",
      "min abs val of corrupted: 5.752422566729365e-06\n",
      "max abs val of corrupted: 1.2349826097488403\n",
      "\n",
      "Corrupted kdata shape: torch.Size([302, 1, 320, 320])\n",
      "Memory size of corrupted kdata: 235.9375 MB\n",
      "\n",
      "kmasks shape: torch.Size([302, 320, 320])\n",
      "Memory size of kmasks: 235.9375 MB\n",
      "\n",
      "test_data_loader contains 302 batches.\n",
      "Action: test-abs-R_4-sigma_0_05\n",
      "Save directory: pretrained/u_tv_fixed\n",
      "Force overwrite: False\n",
      "Current epoch: 0\n",
      "Please initialize the logging options.\n",
      "Final save directory: pretrained/u_tv_fixed\n",
      "File 'pretrained/u_tv_fixed/test-abs-R_4-sigma_0_05_epoch_metrics.csv' initialized.\n",
      "File 'pretrained/u_tv_fixed/test-abs-R_4-sigma_0_05_intermediate_metrics.csv' initialized.\n",
      "Metrics logging options initialized.\n"
     ]
    },
    {
     "data": {
      "application/vnd.jupyter.widget-view+json": {
       "model_id": "8019bd64e9d24c619e70e9c783ea5ef6",
       "version_major": 2,
       "version_minor": 0
      },
      "text/plain": [
       "Testing:   0%|          | 0/302 [00:00<?, ?it/s]"
      ]
     },
     "metadata": {},
     "output_type": "display_data"
    },
    {
     "data": {
      "application/vnd.jupyter.widget-view+json": {
       "model_id": "a5e3b7f8133243a1bfd8e4b68546d538",
       "version_major": 2,
       "version_minor": 0
      },
      "text/plain": [
       "  0%|          | 0/302 [00:00<?, ?it/s]"
      ]
     },
     "metadata": {},
     "output_type": "display_data"
    },
    {
     "name": "stdout",
     "output_type": "stream",
     "text": [
      "Testing with test data, R = 4, sigma = 0.1\n",
      "\n",
      "\n",
      "Ground truth data shape: torch.Size([302, 320, 320])\n",
      "min abs val of ground truth: 1.8633207901075366e-06\n",
      "max abs val of ground truth: 1.385725498199463\n",
      "\n",
      "Ground truth data shape: torch.Size([302, 320, 320])\n",
      "Memory size of ground truth: 235.9375 MB\n",
      "Corrupted data shape: torch.Size([302, 320, 320])\n",
      "Memory size of corrupted data: 235.9375 MB\n",
      "min abs val of corrupted: 2.8516878955997527e-06\n",
      "max abs val of corrupted: 1.2406718730926514\n",
      "\n",
      "Corrupted kdata shape: torch.Size([302, 1, 320, 320])\n",
      "Memory size of corrupted kdata: 235.9375 MB\n",
      "\n",
      "kmasks shape: torch.Size([302, 320, 320])\n",
      "Memory size of kmasks: 235.9375 MB\n",
      "\n",
      "test_data_loader contains 302 batches.\n",
      "Action: test-abs-R_4-sigma_0_10\n",
      "Save directory: pretrained/u_tv_fixed\n",
      "Force overwrite: False\n",
      "Current epoch: 0\n",
      "Please initialize the logging options.\n",
      "Final save directory: pretrained/u_tv_fixed\n",
      "File 'pretrained/u_tv_fixed/test-abs-R_4-sigma_0_10_epoch_metrics.csv' initialized.\n",
      "File 'pretrained/u_tv_fixed/test-abs-R_4-sigma_0_10_intermediate_metrics.csv' initialized.\n",
      "Metrics logging options initialized.\n"
     ]
    },
    {
     "data": {
      "application/vnd.jupyter.widget-view+json": {
       "model_id": "3b16dd8d20824a009a2a7a6e60b6f4c5",
       "version_major": 2,
       "version_minor": 0
      },
      "text/plain": [
       "Testing:   0%|          | 0/302 [00:00<?, ?it/s]"
      ]
     },
     "metadata": {},
     "output_type": "display_data"
    },
    {
     "data": {
      "application/vnd.jupyter.widget-view+json": {
       "model_id": "4a1f9827b1284199bcf7f2f479483904",
       "version_major": 2,
       "version_minor": 0
      },
      "text/plain": [
       "  0%|          | 0/302 [00:00<?, ?it/s]"
      ]
     },
     "metadata": {},
     "output_type": "display_data"
    },
    {
     "name": "stdout",
     "output_type": "stream",
     "text": [
      "Testing with test data, R = 4, sigma = 0.2\n",
      "\n",
      "\n",
      "Ground truth data shape: torch.Size([302, 320, 320])\n",
      "min abs val of ground truth: 1.8633207901075366e-06\n",
      "max abs val of ground truth: 1.385725498199463\n",
      "\n",
      "Ground truth data shape: torch.Size([302, 320, 320])\n",
      "Memory size of ground truth: 235.9375 MB\n",
      "Corrupted data shape: torch.Size([302, 320, 320])\n",
      "Memory size of corrupted data: 235.9375 MB\n",
      "min abs val of corrupted: 1.3283834050525911e-06\n",
      "max abs val of corrupted: 1.2621699571609497\n",
      "\n",
      "Corrupted kdata shape: torch.Size([302, 1, 320, 320])\n",
      "Memory size of corrupted kdata: 235.9375 MB\n",
      "\n",
      "kmasks shape: torch.Size([302, 320, 320])\n",
      "Memory size of kmasks: 235.9375 MB\n",
      "\n",
      "test_data_loader contains 302 batches.\n",
      "Action: test-abs-R_4-sigma_0_20\n",
      "Save directory: pretrained/u_tv_fixed\n",
      "Force overwrite: False\n",
      "Current epoch: 0\n",
      "Please initialize the logging options.\n",
      "Final save directory: pretrained/u_tv_fixed\n",
      "File 'pretrained/u_tv_fixed/test-abs-R_4-sigma_0_20_epoch_metrics.csv' initialized.\n",
      "File 'pretrained/u_tv_fixed/test-abs-R_4-sigma_0_20_intermediate_metrics.csv' initialized.\n",
      "Metrics logging options initialized.\n"
     ]
    },
    {
     "data": {
      "application/vnd.jupyter.widget-view+json": {
       "model_id": "b2fc77d47e8543089c7864eeab686c4b",
       "version_major": 2,
       "version_minor": 0
      },
      "text/plain": [
       "Testing:   0%|          | 0/302 [00:00<?, ?it/s]"
      ]
     },
     "metadata": {},
     "output_type": "display_data"
    },
    {
     "data": {
      "application/vnd.jupyter.widget-view+json": {
       "model_id": "ebe9a3e79298463c8a8f142f1537d681",
       "version_major": 2,
       "version_minor": 0
      },
      "text/plain": [
       "  0%|          | 0/302 [00:00<?, ?it/s]"
      ]
     },
     "metadata": {},
     "output_type": "display_data"
    },
    {
     "name": "stdout",
     "output_type": "stream",
     "text": [
      "Testing with test data, R = 8, sigma = 0.05\n",
      "\n",
      "\n",
      "Ground truth data shape: torch.Size([302, 320, 320])\n",
      "min abs val of ground truth: 1.8633207901075366e-06\n",
      "max abs val of ground truth: 1.385725498199463\n",
      "\n",
      "Ground truth data shape: torch.Size([302, 320, 320])\n",
      "Memory size of ground truth: 235.9375 MB\n",
      "Corrupted data shape: torch.Size([302, 320, 320])\n",
      "Memory size of corrupted data: 235.9375 MB\n",
      "min abs val of corrupted: 2.1736816506745527e-06\n",
      "max abs val of corrupted: 1.1920750141143799\n",
      "\n",
      "Corrupted kdata shape: torch.Size([302, 1, 320, 320])\n",
      "Memory size of corrupted kdata: 235.9375 MB\n",
      "\n",
      "kmasks shape: torch.Size([302, 320, 320])\n",
      "Memory size of kmasks: 235.9375 MB\n",
      "\n",
      "test_data_loader contains 302 batches.\n",
      "Action: test-abs-R_8-sigma_0_05\n",
      "Save directory: pretrained/u_tv_fixed\n",
      "Force overwrite: False\n",
      "Current epoch: 0\n",
      "Please initialize the logging options.\n",
      "Final save directory: pretrained/u_tv_fixed\n",
      "File 'pretrained/u_tv_fixed/test-abs-R_8-sigma_0_05_epoch_metrics.csv' initialized.\n",
      "File 'pretrained/u_tv_fixed/test-abs-R_8-sigma_0_05_intermediate_metrics.csv' initialized.\n",
      "Metrics logging options initialized.\n"
     ]
    },
    {
     "data": {
      "application/vnd.jupyter.widget-view+json": {
       "model_id": "29deaf903cb4452da9e5ceb13dd8d291",
       "version_major": 2,
       "version_minor": 0
      },
      "text/plain": [
       "Testing:   0%|          | 0/302 [00:00<?, ?it/s]"
      ]
     },
     "metadata": {},
     "output_type": "display_data"
    },
    {
     "data": {
      "application/vnd.jupyter.widget-view+json": {
       "model_id": "9be42de52f544ef78127870bdc786e31",
       "version_major": 2,
       "version_minor": 0
      },
      "text/plain": [
       "  0%|          | 0/302 [00:00<?, ?it/s]"
      ]
     },
     "metadata": {},
     "output_type": "display_data"
    },
    {
     "name": "stdout",
     "output_type": "stream",
     "text": [
      "Testing with test data, R = 8, sigma = 0.1\n",
      "\n",
      "\n",
      "Ground truth data shape: torch.Size([302, 320, 320])\n",
      "min abs val of ground truth: 1.8633207901075366e-06\n",
      "max abs val of ground truth: 1.385725498199463\n",
      "\n",
      "Ground truth data shape: torch.Size([302, 320, 320])\n",
      "Memory size of ground truth: 235.9375 MB\n",
      "Corrupted data shape: torch.Size([302, 320, 320])\n",
      "Memory size of corrupted data: 235.9375 MB\n",
      "min abs val of corrupted: 5.431713361758739e-06\n",
      "max abs val of corrupted: 1.1884340047836304\n",
      "\n",
      "Corrupted kdata shape: torch.Size([302, 1, 320, 320])\n",
      "Memory size of corrupted kdata: 235.9375 MB\n",
      "\n",
      "kmasks shape: torch.Size([302, 320, 320])\n",
      "Memory size of kmasks: 235.9375 MB\n",
      "\n",
      "test_data_loader contains 302 batches.\n",
      "Action: test-abs-R_8-sigma_0_10\n",
      "Save directory: pretrained/u_tv_fixed\n",
      "Force overwrite: False\n",
      "Current epoch: 0\n",
      "Please initialize the logging options.\n",
      "Final save directory: pretrained/u_tv_fixed\n",
      "File 'pretrained/u_tv_fixed/test-abs-R_8-sigma_0_10_epoch_metrics.csv' initialized.\n",
      "File 'pretrained/u_tv_fixed/test-abs-R_8-sigma_0_10_intermediate_metrics.csv' initialized.\n",
      "Metrics logging options initialized.\n"
     ]
    },
    {
     "data": {
      "application/vnd.jupyter.widget-view+json": {
       "model_id": "37557d71435043d0b5c6926df8179233",
       "version_major": 2,
       "version_minor": 0
      },
      "text/plain": [
       "Testing:   0%|          | 0/302 [00:00<?, ?it/s]"
      ]
     },
     "metadata": {},
     "output_type": "display_data"
    },
    {
     "data": {
      "application/vnd.jupyter.widget-view+json": {
       "model_id": "d50b3e5692c7439a8eddd88fa5d33ba9",
       "version_major": 2,
       "version_minor": 0
      },
      "text/plain": [
       "  0%|          | 0/302 [00:00<?, ?it/s]"
      ]
     },
     "metadata": {},
     "output_type": "display_data"
    },
    {
     "name": "stdout",
     "output_type": "stream",
     "text": [
      "Testing with test data, R = 8, sigma = 0.2\n",
      "\n",
      "\n",
      "Ground truth data shape: torch.Size([302, 320, 320])\n",
      "min abs val of ground truth: 1.8633207901075366e-06\n",
      "max abs val of ground truth: 1.385725498199463\n",
      "\n",
      "Ground truth data shape: torch.Size([302, 320, 320])\n",
      "Memory size of ground truth: 235.9375 MB\n",
      "Corrupted data shape: torch.Size([302, 320, 320])\n",
      "Memory size of corrupted data: 235.9375 MB\n",
      "min abs val of corrupted: 2.0816048618144123e-06\n",
      "max abs val of corrupted: 1.191650629043579\n",
      "\n",
      "Corrupted kdata shape: torch.Size([302, 1, 320, 320])\n",
      "Memory size of corrupted kdata: 235.9375 MB\n",
      "\n",
      "kmasks shape: torch.Size([302, 320, 320])\n",
      "Memory size of kmasks: 235.9375 MB\n",
      "\n",
      "test_data_loader contains 302 batches.\n",
      "Action: test-abs-R_8-sigma_0_20\n",
      "Save directory: pretrained/u_tv_fixed\n",
      "Force overwrite: False\n",
      "Current epoch: 0\n",
      "Please initialize the logging options.\n",
      "Final save directory: pretrained/u_tv_fixed\n",
      "File 'pretrained/u_tv_fixed/test-abs-R_8-sigma_0_20_epoch_metrics.csv' initialized.\n",
      "File 'pretrained/u_tv_fixed/test-abs-R_8-sigma_0_20_intermediate_metrics.csv' initialized.\n",
      "Metrics logging options initialized.\n"
     ]
    },
    {
     "data": {
      "application/vnd.jupyter.widget-view+json": {
       "model_id": "9594a9762e5045b59bd163dfe32c50ac",
       "version_major": 2,
       "version_minor": 0
      },
      "text/plain": [
       "Testing:   0%|          | 0/302 [00:00<?, ?it/s]"
      ]
     },
     "metadata": {},
     "output_type": "display_data"
    },
    {
     "data": {
      "application/vnd.jupyter.widget-view+json": {
       "model_id": "f080742c92ba42b3af390bdf4f8a1588",
       "version_major": 2,
       "version_minor": 0
      },
      "text/plain": [
       "  0%|          | 0/302 [00:00<?, ?it/s]"
      ]
     },
     "metadata": {},
     "output_type": "display_data"
    }
   ],
   "source": [
    "# acceleration_factor_R = 4\n",
    "# sigma = 0.15\n",
    "# general_action = \"test\"\n",
    "# # action = \"val\"\n",
    "# force_overwrite = False\n",
    "# # force_overwrite = True\n",
    "\n",
    "for acceleration_factor_R in [4, 8]:\n",
    "    for sigma in [0.05, 0.10, 0.20]:\n",
    "        test_and_save_results(\n",
    "            # config=zero_filled_config, model=get_zero_filled, model_name=\"zero_filled\",\n",
    "            config=u_tv_config, model=u_tv_net, model_name=\"u_tv\",\n",
    "            # config=u_tgv_config, model=u_tgv_net, model_name=\"u_tgv\",\n",
    "            general_action=\"test\",\n",
    "            acceleration_factor_R=acceleration_factor_R,\n",
    "            sigma=sigma,\n",
    "            force_overwrite=False\n",
    "            # force_overwrite=True\n",
    "        )"
   ]
  },
  {
   "cell_type": "code",
   "execution_count": null,
   "metadata": {},
   "outputs": [],
   "source": []
  }
 ],
 "metadata": {
  "kernelspec": {
   "display_name": "venv",
   "language": "python",
   "name": "python3"
  },
  "language_info": {
   "codemirror_mode": {
    "name": "ipython",
    "version": 3
   },
   "file_extension": ".py",
   "mimetype": "text/x-python",
   "name": "python",
   "nbconvert_exporter": "python",
   "pygments_lexer": "ipython3",
   "version": "3.10.14"
  }
 },
 "nbformat": 4,
 "nbformat_minor": 2
}
