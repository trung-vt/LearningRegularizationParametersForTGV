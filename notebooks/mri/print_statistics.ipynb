{
 "cells": [
  {
   "cell_type": "code",
   "execution_count": 1,
   "metadata": {},
   "outputs": [],
   "source": [
    "%load_ext autoreload\n",
    "%autoreload 2"
   ]
  },
  {
   "cell_type": "code",
   "execution_count": 2,
   "metadata": {},
   "outputs": [],
   "source": [
    "import os\n",
    "import pandas as pd\n",
    "\n",
    "from utils.makepath import makepath"
   ]
  },
  {
   "cell_type": "code",
   "execution_count": 3,
   "metadata": {},
   "outputs": [
    {
     "data": {
      "text/plain": [
       "['scripts',\n",
       " 'requirements.txt',\n",
       " 'mri.egg-info',\n",
       " 'venv',\n",
       " 'README.md',\n",
       " 'pretrained',\n",
       " 'figures',\n",
       " 'config',\n",
       " 'LICENSE',\n",
       " 'notebooks',\n",
       " 'utils',\n",
       " 'networks',\n",
       " 'tmp',\n",
       " '.gitignore',\n",
       " 'train_mri_example.ipynb',\n",
       " 'gradops',\n",
       " 'pyproject.toml',\n",
       " 'results',\n",
       " 'data',\n",
       " 'pdhg',\n",
       " 'model_10_20-15_48.pt',\n",
       " '.gitattributes',\n",
       " 'model_10_20-15_47.pt',\n",
       " 'wandb',\n",
       " 'encoding_objects',\n",
       " '.git',\n",
       " 'model_10_20-15_27.pt']"
      ]
     },
     "execution_count": 3,
     "metadata": {},
     "output_type": "execute_result"
    }
   ],
   "source": [
    "root_dir = makepath(\"..\", \"..\")\n",
    "\n",
    "os.listdir(root_dir)"
   ]
  },
  {
   "cell_type": "code",
   "execution_count": 4,
   "metadata": {},
   "outputs": [
    {
     "data": {
      "text/plain": [
       "['scalar_tgv',\n",
       " 'u_tgv',\n",
       " 'new_u_tv',\n",
       " 'u_tv',\n",
       " 'scalar_tv',\n",
       " 'zero_filled',\n",
       " 'new_u_tgv']"
      ]
     },
     "execution_count": 4,
     "metadata": {},
     "output_type": "execute_result"
    }
   ],
   "source": [
    "results_path = makepath(root_dir, \"results\", \"test_set\")\n",
    "\n",
    "os.listdir(results_path)"
   ]
  },
  {
   "cell_type": "markdown",
   "metadata": {},
   "source": [
    "## Scalar manual search"
   ]
  },
  {
   "cell_type": "code",
   "execution_count": 5,
   "metadata": {},
   "outputs": [
    {
     "name": "stdout",
     "output_type": "stream",
     "text": [
      "R = 4, sigma = 0_05\n",
      "PSNR: 27.21 ± 1.81\n",
      "SSIM: 0.7134 ± 0.088\n",
      "\n",
      "R = 4, sigma = 0_1\n",
      "PSNR: 27.15 ± 1.82\n",
      "SSIM: 0.7144 ± 0.090\n",
      "\n",
      "R = 4, sigma = 0_2\n",
      "PSNR: 26.91 ± 1.79\n",
      "SSIM: 0.7096 ± 0.088\n",
      "\n",
      "R = 8, sigma = 0_05\n",
      "PSNR: 23.92 ± 1.71\n",
      "SSIM: 0.6262 ± 0.085\n",
      "\n",
      "R = 8, sigma = 0_1\n",
      "PSNR: 23.87 ± 1.71\n",
      "SSIM: 0.6264 ± 0.085\n",
      "\n",
      "R = 8, sigma = 0_2\n",
      "PSNR: 23.77 ± 1.71\n",
      "SSIM: 0.6249 ± 0.085\n",
      "\n"
     ]
    }
   ],
   "source": [
    "# model = \"scalar_tgv\"\n",
    "model = \"scalar_tv\"\n",
    "best_metric = \"SSIM\"\n",
    "for acc_R in [4, 8]:\n",
    "    for sigma in [\"0_05\", \"0_1\", \"0_2\"]:\n",
    "        # acc_R, sigma, datetime = 4, \"0_05\", \"21_01_59\"\n",
    "        # acc_R, sigma, datetime = 4, \"0_1\", \"21_03_20\"\n",
    "        # csv_file = f\"test-abs-scalar_tgv-best_SSIM-R_{acc_R}-sigma_{sigma}-lambda0_w_0_to_0_2-lambda1_v_0_to_0_2-ternary_iters_20-dt_{datetime}.csv\"\n",
    "        for file in os.listdir(makepath(results_path, model)):\n",
    "            if f\"test-abs-{model}-best_{best_metric}-R_{acc_R}-sigma_{sigma}\" in file and file.endswith(\".csv\"):\n",
    "                csv_file = file\n",
    "                break\n",
    "        df = pd.read_csv(makepath(results_path, model, csv_file))\n",
    "        # print(df.head())\n",
    "        print(f\"R = {acc_R}, sigma = {sigma}\")\n",
    "        print(f\"PSNR: {df['PSNR'].mean():.2f} ± {df['PSNR'].std():.2f}\")\n",
    "        print(f\"SSIM: {df['SSIM'].mean():.4f} ± {df['SSIM'].std():.3f}\")\n",
    "        print()"
   ]
  },
  {
   "cell_type": "code",
   "execution_count": 6,
   "metadata": {},
   "outputs": [
    {
     "data": {
      "text/html": [
       "<div>\n",
       "<style scoped>\n",
       "    .dataframe tbody tr th:only-of-type {\n",
       "        vertical-align: middle;\n",
       "    }\n",
       "\n",
       "    .dataframe tbody tr th {\n",
       "        vertical-align: top;\n",
       "    }\n",
       "\n",
       "    .dataframe thead th {\n",
       "        text-align: right;\n",
       "    }\n",
       "</style>\n",
       "<table border=\"1\" class=\"dataframe\">\n",
       "  <thead>\n",
       "    <tr style=\"text-align: right;\">\n",
       "      <th></th>\n",
       "      <th>id</th>\n",
       "      <th>PSNR</th>\n",
       "      <th>SSIM</th>\n",
       "      <th>lambda</th>\n",
       "    </tr>\n",
       "  </thead>\n",
       "  <tbody>\n",
       "    <tr>\n",
       "      <th>0</th>\n",
       "      <td>1</td>\n",
       "      <td>24.973553</td>\n",
       "      <td>0.685744</td>\n",
       "      <td>0.014551</td>\n",
       "    </tr>\n",
       "    <tr>\n",
       "      <th>1</th>\n",
       "      <td>2</td>\n",
       "      <td>23.652971</td>\n",
       "      <td>0.560019</td>\n",
       "      <td>0.189642</td>\n",
       "    </tr>\n",
       "    <tr>\n",
       "      <th>2</th>\n",
       "      <td>3</td>\n",
       "      <td>26.778214</td>\n",
       "      <td>0.603287</td>\n",
       "      <td>0.155243</td>\n",
       "    </tr>\n",
       "    <tr>\n",
       "      <th>3</th>\n",
       "      <td>4</td>\n",
       "      <td>23.680239</td>\n",
       "      <td>0.672584</td>\n",
       "      <td>0.012823</td>\n",
       "    </tr>\n",
       "    <tr>\n",
       "      <th>4</th>\n",
       "      <td>5</td>\n",
       "      <td>22.243095</td>\n",
       "      <td>0.625197</td>\n",
       "      <td>0.022588</td>\n",
       "    </tr>\n",
       "  </tbody>\n",
       "</table>\n",
       "</div>"
      ],
      "text/plain": [
       "   id       PSNR      SSIM    lambda\n",
       "0   1  24.973553  0.685744  0.014551\n",
       "1   2  23.652971  0.560019  0.189642\n",
       "2   3  26.778214  0.603287  0.155243\n",
       "3   4  23.680239  0.672584  0.012823\n",
       "4   5  22.243095  0.625197  0.022588"
      ]
     },
     "execution_count": 6,
     "metadata": {},
     "output_type": "execute_result"
    }
   ],
   "source": [
    "csv_path = makepath(results_path, model, csv_file)\n",
    "\n",
    "df = pd.read_csv(csv_path)\n",
    "df.head()"
   ]
  },
  {
   "cell_type": "code",
   "execution_count": 7,
   "metadata": {},
   "outputs": [
    {
     "data": {
      "text/plain": [
       "id        151.500000\n",
       "PSNR       23.771406\n",
       "SSIM        0.624861\n",
       "lambda      0.069194\n",
       "dtype: float64"
      ]
     },
     "execution_count": 7,
     "metadata": {},
     "output_type": "execute_result"
    }
   ],
   "source": [
    "df.mean()"
   ]
  },
  {
   "cell_type": "code",
   "execution_count": 8,
   "metadata": {},
   "outputs": [
    {
     "data": {
      "text/plain": [
       "id        87.324109\n",
       "PSNR       1.712432\n",
       "SSIM       0.085098\n",
       "lambda     0.061887\n",
       "dtype: float64"
      ]
     },
     "execution_count": 8,
     "metadata": {},
     "output_type": "execute_result"
    }
   ],
   "source": [
    "df.std()"
   ]
  },
  {
   "cell_type": "markdown",
   "metadata": {},
   "source": [
    "## Pre-trained models"
   ]
  },
  {
   "cell_type": "code",
   "execution_count": 16,
   "metadata": {},
   "outputs": [
    {
     "name": "stdout",
     "output_type": "stream",
     "text": [
      "R = 4, sigma = 0_05\n",
      "PSNR: 31.17 ± 2.11\n",
      "SSIM: 0.7855 ± 0.078\n",
      "\n",
      "R = 4, sigma = 0_10\n",
      "PSNR: 31.05 ± 2.11\n",
      "SSIM: 0.7867 ± 0.077\n",
      "\n",
      "R = 4, sigma = 0_20\n",
      "PSNR: 30.52 ± 2.11\n",
      "SSIM: 0.7866 ± 0.073\n",
      "\n",
      "R = 8, sigma = 0_05\n",
      "PSNR: 27.34 ± 1.95\n",
      "SSIM: 0.7208 ± 0.076\n",
      "\n",
      "R = 8, sigma = 0_10\n",
      "PSNR: 27.31 ± 1.99\n",
      "SSIM: 0.7240 ± 0.074\n",
      "\n",
      "R = 8, sigma = 0_20\n",
      "PSNR: 26.94 ± 2.00\n",
      "SSIM: 0.7178 ± 0.071\n",
      "\n"
     ]
    }
   ],
   "source": [
    "# model = \"u_tgv\"\n",
    "model = \"new_u_tgv\"\n",
    "df_results = pd.DataFrame()\n",
    "for acc_R in [4, 8]:\n",
    "    for sigma in [\"0_05\", \"0_10\", \"0_20\"]:\n",
    "        csv_file = makepath(\n",
    "            f\"test-abs-R_{acc_R}-sigma_{sigma}\",\n",
    "            f\"test-abs-R_{acc_R}-sigma_{sigma}_intermediate_metrics.csv\",\n",
    "        )\n",
    "        df = pd.read_csv(makepath(results_path, model, csv_file))\n",
    "        # print(df.head())\n",
    "        print(f\"R = {acc_R}, sigma = {sigma}\")\n",
    "        print(f\"PSNR: {df['psnr'].mean():.2f} ± {df['psnr'].std():.2f}\")\n",
    "        print(f\"SSIM: {df['ssim'].mean():.4f} ± {df['ssim'].std():.3f}\")\n",
    "        print()\n",
    "        df_results = pd.concat([\n",
    "            df_results,\n",
    "            pd.DataFrame({\n",
    "                \"R\": [acc_R],\n",
    "                \"sigma\": [sigma],\n",
    "                \"PSNR\": [f\"{df['psnr'].mean():.2f} ± {df['psnr'].std():.2f}\"],\n",
    "                \"SSIM\": [f\"{df['ssim'].mean():.4f} ± {df['ssim'].std():.3f}\"],\n",
    "            }),\n",
    "        ])"
   ]
  },
  {
   "cell_type": "code",
   "execution_count": 17,
   "metadata": {},
   "outputs": [
    {
     "name": "stdout",
     "output_type": "stream",
     "text": [
      "\\begin{tabular}{lrlll}\n",
      "\\toprule\n",
      " & R & sigma & PSNR & SSIM \\\\\n",
      "\\midrule\n",
      "0 & 4 & 0_05 & 31.17 ± 2.11 & 0.7855 ± 0.078 \\\\\n",
      "0 & 4 & 0_10 & 31.05 ± 2.11 & 0.7867 ± 0.077 \\\\\n",
      "0 & 4 & 0_20 & 30.52 ± 2.11 & 0.7866 ± 0.073 \\\\\n",
      "0 & 8 & 0_05 & 27.34 ± 1.95 & 0.7208 ± 0.076 \\\\\n",
      "0 & 8 & 0_10 & 27.31 ± 1.99 & 0.7240 ± 0.074 \\\\\n",
      "0 & 8 & 0_20 & 26.94 ± 2.00 & 0.7178 ± 0.071 \\\\\n",
      "\\bottomrule\n",
      "\\end{tabular}\n",
      "\n"
     ]
    }
   ],
   "source": [
    "print(df_results.to_latex())"
   ]
  },
  {
   "cell_type": "code",
   "execution_count": 11,
   "metadata": {},
   "outputs": [
    {
     "name": "stdout",
     "output_type": "stream",
     "text": [
      "R = 4, sigma = 0_05\n",
      "PSNR: 31.88 ± 2.21\n",
      "SSIM: 0.6895 ± 0.094\n",
      "\n",
      "R = 4, sigma = 0_10\n",
      "PSNR: 31.63 ± 2.18\n",
      "SSIM: 0.6808 ± 0.094\n",
      "\n",
      "R = 4, sigma = 0_20\n",
      "PSNR: 30.79 ± 2.13\n",
      "SSIM: 0.6878 ± 0.092\n",
      "\n",
      "R = 8, sigma = 0_05\n",
      "PSNR: 26.99 ± 1.93\n",
      "SSIM: 0.6676 ± 0.084\n",
      "\n",
      "R = 8, sigma = 0_10\n",
      "PSNR: 27.31 ± 2.05\n",
      "SSIM: 0.6593 ± 0.085\n",
      "\n",
      "R = 8, sigma = 0_20\n",
      "PSNR: 27.17 ± 2.13\n",
      "SSIM: 0.6663 ± 0.084\n",
      "\n"
     ]
    }
   ],
   "source": [
    "# model = \"u_tv\"\n",
    "model = \"new_u_tv\"\n",
    "for acc_R in [4, 8]:\n",
    "    for sigma in [\"0_05\", \"0_10\", \"0_20\"]:\n",
    "        csv_file = makepath(\n",
    "            f\"test-abs-R_{acc_R}-sigma_{sigma}\",\n",
    "            f\"test-abs-R_{acc_R}-sigma_{sigma}_intermediate_metrics.csv\",\n",
    "        )\n",
    "        df = pd.read_csv(makepath(results_path, model, csv_file))\n",
    "        # print(df.head())\n",
    "        print(f\"R = {acc_R}, sigma = {sigma}\")\n",
    "        print(f\"PSNR: {df['psnr'].mean():.2f} ± {df['psnr'].std():.2f}\")\n",
    "        print(f\"SSIM: {df['ssim'].mean():.4f} ± {df['ssim'].std():.3f}\")\n",
    "        print()"
   ]
  }
 ],
 "metadata": {
  "kernelspec": {
   "display_name": "venv",
   "language": "python",
   "name": "python3"
  },
  "language_info": {
   "codemirror_mode": {
    "name": "ipython",
    "version": 3
   },
   "file_extension": ".py",
   "mimetype": "text/x-python",
   "name": "python",
   "nbconvert_exporter": "python",
   "pygments_lexer": "ipython3",
   "version": "3.10.12"
  }
 },
 "nbformat": 4,
 "nbformat_minor": 2
}
