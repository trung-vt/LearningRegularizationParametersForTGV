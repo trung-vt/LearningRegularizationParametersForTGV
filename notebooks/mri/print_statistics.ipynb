{
 "cells": [
  {
   "cell_type": "code",
   "execution_count": 14,
   "metadata": {},
   "outputs": [],
   "source": [
    "import os\n",
    "import pandas as pd\n",
    "\n",
    "from utils.makepath import makepath"
   ]
  },
  {
   "cell_type": "code",
   "execution_count": 15,
   "metadata": {},
   "outputs": [
    {
     "data": {
      "text/plain": [
       "['scripts',\n",
       " 'requirements.txt',\n",
       " 'mri.egg-info',\n",
       " 'venv',\n",
       " 'README.md',\n",
       " 'pretrained',\n",
       " 'figures',\n",
       " 'config',\n",
       " 'LICENSE',\n",
       " 'notebooks',\n",
       " 'utils',\n",
       " 'networks',\n",
       " 'tmp',\n",
       " '.gitignore',\n",
       " 'train_mri_example.ipynb',\n",
       " 'gradops',\n",
       " 'pyproject.toml',\n",
       " 'results',\n",
       " 'data',\n",
       " 'pdhg',\n",
       " 'model_10_20-15_48.pt',\n",
       " '.gitattributes',\n",
       " 'model_10_20-15_47.pt',\n",
       " 'wandb',\n",
       " 'encoding_objects',\n",
       " '.git',\n",
       " 'model_10_20-15_27.pt']"
      ]
     },
     "execution_count": 15,
     "metadata": {},
     "output_type": "execute_result"
    }
   ],
   "source": [
    "root_dir = makepath(\"..\", \"..\")\n",
    "\n",
    "os.listdir(root_dir)"
   ]
  },
  {
   "cell_type": "code",
   "execution_count": 16,
   "metadata": {},
   "outputs": [
    {
     "data": {
      "text/plain": [
       "['scalar_tgv', 'u_tgv', 'u_tv', 'zero_filled']"
      ]
     },
     "execution_count": 16,
     "metadata": {},
     "output_type": "execute_result"
    }
   ],
   "source": [
    "results_path = makepath(root_dir, \"results\", \"test_set\")\n",
    "\n",
    "os.listdir(results_path)"
   ]
  },
  {
   "cell_type": "code",
   "execution_count": 22,
   "metadata": {},
   "outputs": [
    {
     "name": "stdout",
     "output_type": "stream",
     "text": [
      "R = 4, sigma = 0_05\n",
      "PSNR: 27.21 ± 1.81\n",
      "SSIM: 0.7134 ± 0.088\n",
      "\n",
      "R = 4, sigma = 0_1\n",
      "PSNR: 27.15 ± 1.82\n",
      "SSIM: 0.7144 ± 0.090\n",
      "\n",
      "R = 4, sigma = 0_2\n",
      "PSNR: 26.91 ± 1.79\n",
      "SSIM: 0.7096 ± 0.088\n",
      "\n",
      "R = 8, sigma = 0_05\n",
      "PSNR: 23.92 ± 1.71\n",
      "SSIM: 0.6262 ± 0.085\n",
      "\n",
      "R = 8, sigma = 0_1\n",
      "PSNR: 23.87 ± 1.71\n",
      "SSIM: 0.6264 ± 0.085\n",
      "\n",
      "R = 8, sigma = 0_2\n",
      "PSNR: 23.77 ± 1.71\n",
      "SSIM: 0.6249 ± 0.085\n",
      "\n"
     ]
    }
   ],
   "source": [
    "# model = \"scalar_tgv\"\n",
    "model = \"scalar_tv\"\n",
    "best_metric = \"SSIM\"\n",
    "for acc_R in [4, 8]:\n",
    "    for sigma in [\"0_05\", \"0_1\", \"0_2\"]:\n",
    "        # acc_R, sigma, datetime = 4, \"0_05\", \"21_01_59\"\n",
    "        # acc_R, sigma, datetime = 4, \"0_1\", \"21_03_20\"\n",
    "        # csv_file = f\"test-abs-scalar_tgv-best_SSIM-R_{acc_R}-sigma_{sigma}-lambda0_w_0_to_0_2-lambda1_v_0_to_0_2-ternary_iters_20-dt_{datetime}.csv\"\n",
    "        for file in os.listdir(makepath(results_path, model)):\n",
    "            if f\"test-abs-{model}-best_{best_metric}-R_{acc_R}-sigma_{sigma}\" in file and file.endswith(\".csv\"):\n",
    "                csv_file = file\n",
    "                break\n",
    "        df = pd.read_csv(makepath(results_path, model, csv_file))\n",
    "        # print(df.head())\n",
    "        print(f\"R = {acc_R}, sigma = {sigma}\")\n",
    "        print(f\"PSNR: {df['PSNR'].mean():.2f} ± {df['PSNR'].std():.2f}\")\n",
    "        print(f\"SSIM: {df['SSIM'].mean():.4f} ± {df['SSIM'].std():.3f}\")\n",
    "        print()\n",
    "\n",
    "# model = \"u_tv\"\n",
    "# csv_file = makepath(\n",
    "#     \"test-abs-R_4-sigma_0_05\",\n",
    "#     \"test-abs-R_4-sigma_0_05_intermediate_metrics.csv\"\n",
    "# )"
   ]
  },
  {
   "cell_type": "code",
   "execution_count": 15,
   "metadata": {},
   "outputs": [
    {
     "data": {
      "text/html": [
       "<div>\n",
       "<style scoped>\n",
       "    .dataframe tbody tr th:only-of-type {\n",
       "        vertical-align: middle;\n",
       "    }\n",
       "\n",
       "    .dataframe tbody tr th {\n",
       "        vertical-align: top;\n",
       "    }\n",
       "\n",
       "    .dataframe thead th {\n",
       "        text-align: right;\n",
       "    }\n",
       "</style>\n",
       "<table border=\"1\" class=\"dataframe\">\n",
       "  <thead>\n",
       "    <tr style=\"text-align: right;\">\n",
       "      <th></th>\n",
       "      <th>id</th>\n",
       "      <th>PSNR</th>\n",
       "      <th>SSIM</th>\n",
       "      <th>lambda1_v</th>\n",
       "      <th>lambda0_w</th>\n",
       "    </tr>\n",
       "  </thead>\n",
       "  <tbody>\n",
       "    <tr>\n",
       "      <th>0</th>\n",
       "      <td>1</td>\n",
       "      <td>29.207605</td>\n",
       "      <td>0.817631</td>\n",
       "      <td>0.010632</td>\n",
       "      <td>0.016012</td>\n",
       "    </tr>\n",
       "    <tr>\n",
       "      <th>1</th>\n",
       "      <td>2</td>\n",
       "      <td>29.169151</td>\n",
       "      <td>0.738673</td>\n",
       "      <td>0.003013</td>\n",
       "      <td>0.066697</td>\n",
       "    </tr>\n",
       "    <tr>\n",
       "      <th>2</th>\n",
       "      <td>3</td>\n",
       "      <td>29.936134</td>\n",
       "      <td>0.680358</td>\n",
       "      <td>0.045261</td>\n",
       "      <td>0.046436</td>\n",
       "    </tr>\n",
       "    <tr>\n",
       "      <th>3</th>\n",
       "      <td>4</td>\n",
       "      <td>27.751083</td>\n",
       "      <td>0.805316</td>\n",
       "      <td>0.009505</td>\n",
       "      <td>0.015868</td>\n",
       "    </tr>\n",
       "    <tr>\n",
       "      <th>4</th>\n",
       "      <td>5</td>\n",
       "      <td>25.518986</td>\n",
       "      <td>0.756423</td>\n",
       "      <td>0.017461</td>\n",
       "      <td>0.040162</td>\n",
       "    </tr>\n",
       "  </tbody>\n",
       "</table>\n",
       "</div>"
      ],
      "text/plain": [
       "   id       PSNR      SSIM  lambda1_v  lambda0_w\n",
       "0   1  29.207605  0.817631   0.010632   0.016012\n",
       "1   2  29.169151  0.738673   0.003013   0.066697\n",
       "2   3  29.936134  0.680358   0.045261   0.046436\n",
       "3   4  27.751083  0.805316   0.009505   0.015868\n",
       "4   5  25.518986  0.756423   0.017461   0.040162"
      ]
     },
     "execution_count": 15,
     "metadata": {},
     "output_type": "execute_result"
    }
   ],
   "source": [
    "csv_path = makepath(results_path, model, csv_file)\n",
    "\n",
    "df = pd.read_csv(csv_path)\n",
    "df.head()"
   ]
  },
  {
   "cell_type": "code",
   "execution_count": 16,
   "metadata": {},
   "outputs": [
    {
     "data": {
      "text/plain": [
       "id           151.500000\n",
       "PSNR          28.386008\n",
       "SSIM           0.758968\n",
       "lambda1_v      0.015164\n",
       "lambda0_w      0.030659\n",
       "dtype: float64"
      ]
     },
     "execution_count": 16,
     "metadata": {},
     "output_type": "execute_result"
    }
   ],
   "source": [
    "df.mean()"
   ]
  },
  {
   "cell_type": "code",
   "execution_count": 17,
   "metadata": {},
   "outputs": [
    {
     "data": {
      "text/plain": [
       "id           87.324109\n",
       "PSNR          2.115147\n",
       "SSIM          0.063546\n",
       "lambda1_v     0.020878\n",
       "lambda0_w     0.023050\n",
       "dtype: float64"
      ]
     },
     "execution_count": 17,
     "metadata": {},
     "output_type": "execute_result"
    }
   ],
   "source": [
    "df.std()"
   ]
  },
  {
   "cell_type": "code",
   "execution_count": null,
   "metadata": {},
   "outputs": [],
   "source": []
  },
  {
   "cell_type": "code",
   "execution_count": null,
   "metadata": {},
   "outputs": [],
   "source": []
  }
 ],
 "metadata": {
  "kernelspec": {
   "display_name": "venv",
   "language": "python",
   "name": "python3"
  },
  "language_info": {
   "codemirror_mode": {
    "name": "ipython",
    "version": 3
   },
   "file_extension": ".py",
   "mimetype": "text/x-python",
   "name": "python",
   "nbconvert_exporter": "python",
   "pygments_lexer": "ipython3",
   "version": "3.10.12"
  }
 },
 "nbformat": 4,
 "nbformat_minor": 2
}
