{
 "cells": [
  {
   "cell_type": "code",
   "execution_count": 16,
   "metadata": {},
   "outputs": [
    {
     "name": "stdout",
     "output_type": "stream",
     "text": [
      "The autoreload extension is already loaded. To reload it, use:\n",
      "  %reload_ext autoreload\n"
     ]
    }
   ],
   "source": [
    "%load_ext autoreload\n",
    "%autoreload 2"
   ]
  },
  {
   "cell_type": "code",
   "execution_count": 17,
   "metadata": {},
   "outputs": [],
   "source": [
    "import os\n",
    "import pandas as pd\n",
    "\n",
    "from utils.makepath import makepath"
   ]
  },
  {
   "cell_type": "code",
   "execution_count": 18,
   "metadata": {},
   "outputs": [
    {
     "data": {
      "text/plain": [
       "['paper',\n",
       " 'gradops',\n",
       " '.DS_Store',\n",
       " 'activate_venv.sh',\n",
       " 'LICENSE',\n",
       " 'requirements.txt',\n",
       " '.pytest_cache',\n",
       " 'config',\n",
       " 'pyproject.toml',\n",
       " 'tests',\n",
       " 'utils',\n",
       " 'docs',\n",
       " 'TODO.md',\n",
       " '.readthedocs.yml',\n",
       " 'README.md',\n",
       " 'results',\n",
       " 'networks',\n",
       " 'data_lib',\n",
       " '.gitignore',\n",
       " 'encoding_objects',\n",
       " 'figures',\n",
       " 'scripts',\n",
       " '.gitattributes',\n",
       " 'train_mri_example.ipynb',\n",
       " 'report',\n",
       " 'venv',\n",
       " '.git',\n",
       " 'pdhg',\n",
       " 'data',\n",
       " 'results copy',\n",
       " 'tmp',\n",
       " 'notebooks',\n",
       " 'pretrained',\n",
       " 'mri.egg-info']"
      ]
     },
     "execution_count": 18,
     "metadata": {},
     "output_type": "execute_result"
    }
   ],
   "source": [
    "root_dir = makepath(\"..\", \"..\")\n",
    "\n",
    "os.listdir(root_dir)"
   ]
  },
  {
   "cell_type": "code",
   "execution_count": 19,
   "metadata": {},
   "outputs": [
    {
     "data": {
      "text/plain": [
       "['u_tv',\n",
       " 'u_tv_fixed',\n",
       " '.DS_Store',\n",
       " 'new_u_tgv',\n",
       " 'zero_filled',\n",
       " 'scalar_tv',\n",
       " 'u_tgv_fixed',\n",
       " 'u_tgv',\n",
       " 'new_u_tv',\n",
       " 'scalar_tgv']"
      ]
     },
     "execution_count": 19,
     "metadata": {},
     "output_type": "execute_result"
    }
   ],
   "source": [
    "results_path = makepath(root_dir, \"results\", \"test_set\")\n",
    "\n",
    "os.listdir(results_path)"
   ]
  },
  {
   "cell_type": "markdown",
   "metadata": {},
   "source": [
    "## Scalar manual search"
   ]
  },
  {
   "cell_type": "code",
   "execution_count": 20,
   "metadata": {},
   "outputs": [
    {
     "name": "stdout",
     "output_type": "stream",
     "text": [
      "R = 4, sigma = 0_05\n",
      "PSNR: 27.21 ± 1.81\n",
      "SSIM: 0.7134 ± 0.088\n",
      "\n",
      "R = 4, sigma = 0_1\n",
      "PSNR: 27.15 ± 1.82\n",
      "SSIM: 0.7144 ± 0.090\n",
      "\n",
      "R = 4, sigma = 0_2\n",
      "PSNR: 26.91 ± 1.79\n",
      "SSIM: 0.7096 ± 0.088\n",
      "\n",
      "R = 8, sigma = 0_05\n",
      "PSNR: 23.92 ± 1.71\n",
      "SSIM: 0.6262 ± 0.085\n",
      "\n",
      "R = 8, sigma = 0_1\n",
      "PSNR: 23.87 ± 1.71\n",
      "SSIM: 0.6264 ± 0.085\n",
      "\n",
      "R = 8, sigma = 0_2\n",
      "PSNR: 23.77 ± 1.71\n",
      "SSIM: 0.6249 ± 0.085\n",
      "\n"
     ]
    }
   ],
   "source": [
    "# model = \"scalar_tgv\"\n",
    "model = \"scalar_tv\"\n",
    "best_metric = \"SSIM\"\n",
    "for acc_R in [4, 8]:\n",
    "    for sigma in [\"0_05\", \"0_1\", \"0_2\"]:\n",
    "        # acc_R, sigma, datetime = 4, \"0_05\", \"21_01_59\"\n",
    "        # acc_R, sigma, datetime = 4, \"0_1\", \"21_03_20\"\n",
    "        # csv_file = f\"test-abs-scalar_tgv-best_SSIM-R_{acc_R}-sigma_{sigma}-lambda0_w_0_to_0_2-lambda1_v_0_to_0_2-ternary_iters_20-dt_{datetime}.csv\"\n",
    "        for file in os.listdir(makepath(results_path, model)):\n",
    "            if f\"test-abs-{model}-best_{best_metric}-R_{acc_R}-sigma_{sigma}\" in file and file.endswith(\".csv\"):\n",
    "                csv_file = file\n",
    "                break\n",
    "        df = pd.read_csv(makepath(results_path, model, csv_file))\n",
    "        # print(df.head())\n",
    "        print(f\"R = {acc_R}, sigma = {sigma}\")\n",
    "        print(f\"PSNR: {df['PSNR'].mean():.2f} ± {df['PSNR'].std():.2f}\")\n",
    "        print(f\"SSIM: {df['SSIM'].mean():.4f} ± {df['SSIM'].std():.3f}\")\n",
    "        print()"
   ]
  },
  {
   "cell_type": "code",
   "execution_count": 21,
   "metadata": {},
   "outputs": [
    {
     "data": {
      "text/html": [
       "<div>\n",
       "<style scoped>\n",
       "    .dataframe tbody tr th:only-of-type {\n",
       "        vertical-align: middle;\n",
       "    }\n",
       "\n",
       "    .dataframe tbody tr th {\n",
       "        vertical-align: top;\n",
       "    }\n",
       "\n",
       "    .dataframe thead th {\n",
       "        text-align: right;\n",
       "    }\n",
       "</style>\n",
       "<table border=\"1\" class=\"dataframe\">\n",
       "  <thead>\n",
       "    <tr style=\"text-align: right;\">\n",
       "      <th></th>\n",
       "      <th>id</th>\n",
       "      <th>PSNR</th>\n",
       "      <th>SSIM</th>\n",
       "      <th>lambda</th>\n",
       "    </tr>\n",
       "  </thead>\n",
       "  <tbody>\n",
       "    <tr>\n",
       "      <th>0</th>\n",
       "      <td>1</td>\n",
       "      <td>24.973553</td>\n",
       "      <td>0.685744</td>\n",
       "      <td>0.014551</td>\n",
       "    </tr>\n",
       "    <tr>\n",
       "      <th>1</th>\n",
       "      <td>2</td>\n",
       "      <td>23.652971</td>\n",
       "      <td>0.560019</td>\n",
       "      <td>0.189642</td>\n",
       "    </tr>\n",
       "    <tr>\n",
       "      <th>2</th>\n",
       "      <td>3</td>\n",
       "      <td>26.778214</td>\n",
       "      <td>0.603287</td>\n",
       "      <td>0.155243</td>\n",
       "    </tr>\n",
       "    <tr>\n",
       "      <th>3</th>\n",
       "      <td>4</td>\n",
       "      <td>23.680239</td>\n",
       "      <td>0.672584</td>\n",
       "      <td>0.012823</td>\n",
       "    </tr>\n",
       "    <tr>\n",
       "      <th>4</th>\n",
       "      <td>5</td>\n",
       "      <td>22.243095</td>\n",
       "      <td>0.625197</td>\n",
       "      <td>0.022588</td>\n",
       "    </tr>\n",
       "  </tbody>\n",
       "</table>\n",
       "</div>"
      ],
      "text/plain": [
       "   id       PSNR      SSIM    lambda\n",
       "0   1  24.973553  0.685744  0.014551\n",
       "1   2  23.652971  0.560019  0.189642\n",
       "2   3  26.778214  0.603287  0.155243\n",
       "3   4  23.680239  0.672584  0.012823\n",
       "4   5  22.243095  0.625197  0.022588"
      ]
     },
     "execution_count": 21,
     "metadata": {},
     "output_type": "execute_result"
    }
   ],
   "source": [
    "csv_path = makepath(results_path, model, csv_file)\n",
    "\n",
    "df = pd.read_csv(csv_path)\n",
    "df.head()"
   ]
  },
  {
   "cell_type": "code",
   "execution_count": 22,
   "metadata": {},
   "outputs": [
    {
     "data": {
      "text/plain": [
       "id        151.500000\n",
       "PSNR       23.771406\n",
       "SSIM        0.624861\n",
       "lambda      0.069194\n",
       "dtype: float64"
      ]
     },
     "execution_count": 22,
     "metadata": {},
     "output_type": "execute_result"
    }
   ],
   "source": [
    "df.mean()"
   ]
  },
  {
   "cell_type": "code",
   "execution_count": 23,
   "metadata": {},
   "outputs": [
    {
     "data": {
      "text/plain": [
       "id        87.324109\n",
       "PSNR       1.712432\n",
       "SSIM       0.085098\n",
       "lambda     0.061887\n",
       "dtype: float64"
      ]
     },
     "execution_count": 23,
     "metadata": {},
     "output_type": "execute_result"
    }
   ],
   "source": [
    "df.std()"
   ]
  },
  {
   "cell_type": "markdown",
   "metadata": {},
   "source": [
    "## Pre-trained models"
   ]
  },
  {
   "cell_type": "code",
   "execution_count": 24,
   "metadata": {},
   "outputs": [
    {
     "name": "stdout",
     "output_type": "stream",
     "text": [
      "R = 4, sigma = 0_05\n",
      "PSNR: 32.60 ± 2.30\n",
      "SSIM: 0.7129 ± 0.091\n",
      "\n",
      "R = 4, sigma = 0_10\n",
      "PSNR: 32.01 ± 2.20\n",
      "SSIM: 0.7039 ± 0.093\n",
      "\n",
      "R = 4, sigma = 0_20\n",
      "PSNR: 30.94 ± 2.11\n",
      "SSIM: 0.6976 ± 0.095\n",
      "\n",
      "R = 8, sigma = 0_05\n",
      "PSNR: 29.65 ± 2.25\n",
      "SSIM: 0.6681 ± 0.095\n",
      "\n",
      "R = 8, sigma = 0_10\n",
      "PSNR: 29.22 ± 2.19\n",
      "SSIM: 0.6607 ± 0.095\n",
      "\n",
      "R = 8, sigma = 0_20\n",
      "PSNR: 28.38 ± 2.14\n",
      "SSIM: 0.6608 ± 0.095\n",
      "\n"
     ]
    }
   ],
   "source": [
    "# model = \"u_tgv\"\n",
    "# model = \"new_u_tgv\"\n",
    "# model = \"u_tgv_fixed\"\n",
    "model = \"u_tv_fixed\"\n",
    "df_results = pd.DataFrame()\n",
    "for acc_R in [4, 8]:\n",
    "    for sigma in [\"0_05\", \"0_10\", \"0_20\"]:\n",
    "        csv_file = makepath(\n",
    "            # f\"test-abs-R_{acc_R}-sigma_{sigma}\",\n",
    "            f\"test-abs-R_{acc_R}-sigma_{sigma}_intermediate_metrics.csv\",\n",
    "        )\n",
    "        df = pd.read_csv(makepath(results_path, model, csv_file))\n",
    "        # print(df.head())\n",
    "        print(f\"R = {acc_R}, sigma = {sigma}\")\n",
    "        print(f\"PSNR: {df['psnr'].mean():.2f} ± {df['psnr'].std():.2f}\")\n",
    "        print(f\"SSIM: {df['ssim'].mean():.4f} ± {df['ssim'].std():.3f}\")\n",
    "        print()\n",
    "        df_results = pd.concat([\n",
    "            df_results,\n",
    "            pd.DataFrame({\n",
    "                \"R\": [acc_R],\n",
    "                \"sigma\": [sigma],\n",
    "                \"PSNR\": [f\"{df['psnr'].mean():.2f} ± {df['psnr'].std():.2f}\"],\n",
    "                \"SSIM\": [f\"{df['ssim'].mean():.4f} ± {df['ssim'].std():.3f}\"],\n",
    "            }),\n",
    "        ])"
   ]
  },
  {
   "cell_type": "code",
   "execution_count": null,
   "metadata": {},
   "outputs": [],
   "source": []
  },
  {
   "cell_type": "code",
   "execution_count": 25,
   "metadata": {},
   "outputs": [],
   "source": [
    "# !pwd"
   ]
  },
  {
   "cell_type": "code",
   "execution_count": 26,
   "metadata": {},
   "outputs": [],
   "source": [
    "# !less ../../results/test_set/u_tgv_fixed/test-abs-R_4-sigma_0_05/test-abs-R_4-sigma_0_05_intermediate_metrics.csv"
   ]
  },
  {
   "cell_type": "code",
   "execution_count": 27,
   "metadata": {},
   "outputs": [
    {
     "name": "stdout",
     "output_type": "stream",
     "text": [
      "Practical3_working.ipynb                print_statistics.ipynb\n",
      "\u001b[34mcolorbar\u001b[m\u001b[m                                prox_ops.py\n",
      "convert_pretrained_cuda_to_cpu.ipynb    \u001b[34mresults\u001b[m\u001b[m\n",
      "difference_histograms.ipynb             show_training_progress.ipynb\n",
      "example.ipynb                           simple_unet.txt\n",
      "generate_results.ipynb                  split_data.ipynb\n",
      "\u001b[31mgenerate_results_tgv_scalar_torch.ipynb\u001b[m\u001b[m test.ipynb\n",
      "generate_test_data.ipynb                test_example.ipynb\n",
      "grad_ops.py                             test_load_model.ipynb\n",
      "grid_search_tv.ipynb                    train_example.ipynb\n",
      "make_plots.ipynb                        unet.txt\n",
      "model_all_info_example.pt               unet_2d.txt\n",
      "\u001b[34mpretrained\u001b[m\u001b[m                              visualize.ipynb\n"
     ]
    }
   ],
   "source": [
    "!ls"
   ]
  },
  {
   "cell_type": "code",
   "execution_count": 28,
   "metadata": {},
   "outputs": [
    {
     "name": "stdout",
     "output_type": "stream",
     "text": [
      "\\begin{tabular}{lrlll}\n",
      "\\toprule\n",
      " & R & sigma & PSNR & SSIM \\\\\n",
      "\\midrule\n",
      "0 & 4 & 0_05 & 32.60 ± 2.30 & 0.7129 ± 0.091 \\\\\n",
      "0 & 4 & 0_10 & 32.01 ± 2.20 & 0.7039 ± 0.093 \\\\\n",
      "0 & 4 & 0_20 & 30.94 ± 2.11 & 0.6976 ± 0.095 \\\\\n",
      "0 & 8 & 0_05 & 29.65 ± 2.25 & 0.6681 ± 0.095 \\\\\n",
      "0 & 8 & 0_10 & 29.22 ± 2.19 & 0.6607 ± 0.095 \\\\\n",
      "0 & 8 & 0_20 & 28.38 ± 2.14 & 0.6608 ± 0.095 \\\\\n",
      "\\bottomrule\n",
      "\\end{tabular}\n",
      "\n"
     ]
    }
   ],
   "source": [
    "print(df_results.to_latex())"
   ]
  },
  {
   "cell_type": "code",
   "execution_count": 29,
   "metadata": {},
   "outputs": [
    {
     "ename": "FileNotFoundError",
     "evalue": "[Errno 2] No such file or directory: '../../results/test_set/u_tv_fixed/test-abs-R_4-sigma_0_05/test-abs-R_4-sigma_0_05_intermediate_metrics.csv'",
     "output_type": "error",
     "traceback": [
      "\u001b[0;31m---------------------------------------------------------------------------\u001b[0m",
      "\u001b[0;31mFileNotFoundError\u001b[0m                         Traceback (most recent call last)",
      "Cell \u001b[0;32mIn[29], line 10\u001b[0m\n\u001b[1;32m      5\u001b[0m \u001b[38;5;28;01mfor\u001b[39;00m sigma \u001b[38;5;129;01min\u001b[39;00m [\u001b[38;5;124m\"\u001b[39m\u001b[38;5;124m0_05\u001b[39m\u001b[38;5;124m\"\u001b[39m]:\n\u001b[1;32m      6\u001b[0m     csv_file \u001b[38;5;241m=\u001b[39m makepath(\n\u001b[1;32m      7\u001b[0m         \u001b[38;5;124mf\u001b[39m\u001b[38;5;124m\"\u001b[39m\u001b[38;5;124mtest-abs-R_\u001b[39m\u001b[38;5;132;01m{\u001b[39;00macc_R\u001b[38;5;132;01m}\u001b[39;00m\u001b[38;5;124m-sigma_\u001b[39m\u001b[38;5;132;01m{\u001b[39;00msigma\u001b[38;5;132;01m}\u001b[39;00m\u001b[38;5;124m\"\u001b[39m,\n\u001b[1;32m      8\u001b[0m         \u001b[38;5;124mf\u001b[39m\u001b[38;5;124m\"\u001b[39m\u001b[38;5;124mtest-abs-R_\u001b[39m\u001b[38;5;132;01m{\u001b[39;00macc_R\u001b[38;5;132;01m}\u001b[39;00m\u001b[38;5;124m-sigma_\u001b[39m\u001b[38;5;132;01m{\u001b[39;00msigma\u001b[38;5;132;01m}\u001b[39;00m\u001b[38;5;124m_intermediate_metrics.csv\u001b[39m\u001b[38;5;124m\"\u001b[39m,\n\u001b[1;32m      9\u001b[0m     )\n\u001b[0;32m---> 10\u001b[0m     df \u001b[38;5;241m=\u001b[39m \u001b[43mpd\u001b[49m\u001b[38;5;241;43m.\u001b[39;49m\u001b[43mread_csv\u001b[49m\u001b[43m(\u001b[49m\u001b[43mmakepath\u001b[49m\u001b[43m(\u001b[49m\u001b[43mresults_path\u001b[49m\u001b[43m,\u001b[49m\u001b[43m \u001b[49m\u001b[43mmodel\u001b[49m\u001b[43m,\u001b[49m\u001b[43m \u001b[49m\u001b[43mcsv_file\u001b[49m\u001b[43m)\u001b[49m\u001b[43m)\u001b[49m\n\u001b[1;32m     11\u001b[0m     \u001b[38;5;66;03m# print(df.head())\u001b[39;00m\n\u001b[1;32m     12\u001b[0m     \u001b[38;5;28mprint\u001b[39m(\u001b[38;5;124mf\u001b[39m\u001b[38;5;124m\"\u001b[39m\u001b[38;5;124mR = \u001b[39m\u001b[38;5;132;01m{\u001b[39;00macc_R\u001b[38;5;132;01m}\u001b[39;00m\u001b[38;5;124m, sigma = \u001b[39m\u001b[38;5;132;01m{\u001b[39;00msigma\u001b[38;5;132;01m}\u001b[39;00m\u001b[38;5;124m\"\u001b[39m)\n",
      "File \u001b[0;32m~/Documents/GIT/LearningRegularizationParametersForTGV/venv/lib/python3.10/site-packages/pandas/io/parsers/readers.py:1026\u001b[0m, in \u001b[0;36mread_csv\u001b[0;34m(filepath_or_buffer, sep, delimiter, header, names, index_col, usecols, dtype, engine, converters, true_values, false_values, skipinitialspace, skiprows, skipfooter, nrows, na_values, keep_default_na, na_filter, verbose, skip_blank_lines, parse_dates, infer_datetime_format, keep_date_col, date_parser, date_format, dayfirst, cache_dates, iterator, chunksize, compression, thousands, decimal, lineterminator, quotechar, quoting, doublequote, escapechar, comment, encoding, encoding_errors, dialect, on_bad_lines, delim_whitespace, low_memory, memory_map, float_precision, storage_options, dtype_backend)\u001b[0m\n\u001b[1;32m   1013\u001b[0m kwds_defaults \u001b[38;5;241m=\u001b[39m _refine_defaults_read(\n\u001b[1;32m   1014\u001b[0m     dialect,\n\u001b[1;32m   1015\u001b[0m     delimiter,\n\u001b[0;32m   (...)\u001b[0m\n\u001b[1;32m   1022\u001b[0m     dtype_backend\u001b[38;5;241m=\u001b[39mdtype_backend,\n\u001b[1;32m   1023\u001b[0m )\n\u001b[1;32m   1024\u001b[0m kwds\u001b[38;5;241m.\u001b[39mupdate(kwds_defaults)\n\u001b[0;32m-> 1026\u001b[0m \u001b[38;5;28;01mreturn\u001b[39;00m \u001b[43m_read\u001b[49m\u001b[43m(\u001b[49m\u001b[43mfilepath_or_buffer\u001b[49m\u001b[43m,\u001b[49m\u001b[43m \u001b[49m\u001b[43mkwds\u001b[49m\u001b[43m)\u001b[49m\n",
      "File \u001b[0;32m~/Documents/GIT/LearningRegularizationParametersForTGV/venv/lib/python3.10/site-packages/pandas/io/parsers/readers.py:620\u001b[0m, in \u001b[0;36m_read\u001b[0;34m(filepath_or_buffer, kwds)\u001b[0m\n\u001b[1;32m    617\u001b[0m _validate_names(kwds\u001b[38;5;241m.\u001b[39mget(\u001b[38;5;124m\"\u001b[39m\u001b[38;5;124mnames\u001b[39m\u001b[38;5;124m\"\u001b[39m, \u001b[38;5;28;01mNone\u001b[39;00m))\n\u001b[1;32m    619\u001b[0m \u001b[38;5;66;03m# Create the parser.\u001b[39;00m\n\u001b[0;32m--> 620\u001b[0m parser \u001b[38;5;241m=\u001b[39m \u001b[43mTextFileReader\u001b[49m\u001b[43m(\u001b[49m\u001b[43mfilepath_or_buffer\u001b[49m\u001b[43m,\u001b[49m\u001b[43m \u001b[49m\u001b[38;5;241;43m*\u001b[39;49m\u001b[38;5;241;43m*\u001b[39;49m\u001b[43mkwds\u001b[49m\u001b[43m)\u001b[49m\n\u001b[1;32m    622\u001b[0m \u001b[38;5;28;01mif\u001b[39;00m chunksize \u001b[38;5;129;01mor\u001b[39;00m iterator:\n\u001b[1;32m    623\u001b[0m     \u001b[38;5;28;01mreturn\u001b[39;00m parser\n",
      "File \u001b[0;32m~/Documents/GIT/LearningRegularizationParametersForTGV/venv/lib/python3.10/site-packages/pandas/io/parsers/readers.py:1620\u001b[0m, in \u001b[0;36mTextFileReader.__init__\u001b[0;34m(self, f, engine, **kwds)\u001b[0m\n\u001b[1;32m   1617\u001b[0m     \u001b[38;5;28mself\u001b[39m\u001b[38;5;241m.\u001b[39moptions[\u001b[38;5;124m\"\u001b[39m\u001b[38;5;124mhas_index_names\u001b[39m\u001b[38;5;124m\"\u001b[39m] \u001b[38;5;241m=\u001b[39m kwds[\u001b[38;5;124m\"\u001b[39m\u001b[38;5;124mhas_index_names\u001b[39m\u001b[38;5;124m\"\u001b[39m]\n\u001b[1;32m   1619\u001b[0m \u001b[38;5;28mself\u001b[39m\u001b[38;5;241m.\u001b[39mhandles: IOHandles \u001b[38;5;241m|\u001b[39m \u001b[38;5;28;01mNone\u001b[39;00m \u001b[38;5;241m=\u001b[39m \u001b[38;5;28;01mNone\u001b[39;00m\n\u001b[0;32m-> 1620\u001b[0m \u001b[38;5;28mself\u001b[39m\u001b[38;5;241m.\u001b[39m_engine \u001b[38;5;241m=\u001b[39m \u001b[38;5;28;43mself\u001b[39;49m\u001b[38;5;241;43m.\u001b[39;49m\u001b[43m_make_engine\u001b[49m\u001b[43m(\u001b[49m\u001b[43mf\u001b[49m\u001b[43m,\u001b[49m\u001b[43m \u001b[49m\u001b[38;5;28;43mself\u001b[39;49m\u001b[38;5;241;43m.\u001b[39;49m\u001b[43mengine\u001b[49m\u001b[43m)\u001b[49m\n",
      "File \u001b[0;32m~/Documents/GIT/LearningRegularizationParametersForTGV/venv/lib/python3.10/site-packages/pandas/io/parsers/readers.py:1880\u001b[0m, in \u001b[0;36mTextFileReader._make_engine\u001b[0;34m(self, f, engine)\u001b[0m\n\u001b[1;32m   1878\u001b[0m     \u001b[38;5;28;01mif\u001b[39;00m \u001b[38;5;124m\"\u001b[39m\u001b[38;5;124mb\u001b[39m\u001b[38;5;124m\"\u001b[39m \u001b[38;5;129;01mnot\u001b[39;00m \u001b[38;5;129;01min\u001b[39;00m mode:\n\u001b[1;32m   1879\u001b[0m         mode \u001b[38;5;241m+\u001b[39m\u001b[38;5;241m=\u001b[39m \u001b[38;5;124m\"\u001b[39m\u001b[38;5;124mb\u001b[39m\u001b[38;5;124m\"\u001b[39m\n\u001b[0;32m-> 1880\u001b[0m \u001b[38;5;28mself\u001b[39m\u001b[38;5;241m.\u001b[39mhandles \u001b[38;5;241m=\u001b[39m \u001b[43mget_handle\u001b[49m\u001b[43m(\u001b[49m\n\u001b[1;32m   1881\u001b[0m \u001b[43m    \u001b[49m\u001b[43mf\u001b[49m\u001b[43m,\u001b[49m\n\u001b[1;32m   1882\u001b[0m \u001b[43m    \u001b[49m\u001b[43mmode\u001b[49m\u001b[43m,\u001b[49m\n\u001b[1;32m   1883\u001b[0m \u001b[43m    \u001b[49m\u001b[43mencoding\u001b[49m\u001b[38;5;241;43m=\u001b[39;49m\u001b[38;5;28;43mself\u001b[39;49m\u001b[38;5;241;43m.\u001b[39;49m\u001b[43moptions\u001b[49m\u001b[38;5;241;43m.\u001b[39;49m\u001b[43mget\u001b[49m\u001b[43m(\u001b[49m\u001b[38;5;124;43m\"\u001b[39;49m\u001b[38;5;124;43mencoding\u001b[39;49m\u001b[38;5;124;43m\"\u001b[39;49m\u001b[43m,\u001b[49m\u001b[43m \u001b[49m\u001b[38;5;28;43;01mNone\u001b[39;49;00m\u001b[43m)\u001b[49m\u001b[43m,\u001b[49m\n\u001b[1;32m   1884\u001b[0m \u001b[43m    \u001b[49m\u001b[43mcompression\u001b[49m\u001b[38;5;241;43m=\u001b[39;49m\u001b[38;5;28;43mself\u001b[39;49m\u001b[38;5;241;43m.\u001b[39;49m\u001b[43moptions\u001b[49m\u001b[38;5;241;43m.\u001b[39;49m\u001b[43mget\u001b[49m\u001b[43m(\u001b[49m\u001b[38;5;124;43m\"\u001b[39;49m\u001b[38;5;124;43mcompression\u001b[39;49m\u001b[38;5;124;43m\"\u001b[39;49m\u001b[43m,\u001b[49m\u001b[43m \u001b[49m\u001b[38;5;28;43;01mNone\u001b[39;49;00m\u001b[43m)\u001b[49m\u001b[43m,\u001b[49m\n\u001b[1;32m   1885\u001b[0m \u001b[43m    \u001b[49m\u001b[43mmemory_map\u001b[49m\u001b[38;5;241;43m=\u001b[39;49m\u001b[38;5;28;43mself\u001b[39;49m\u001b[38;5;241;43m.\u001b[39;49m\u001b[43moptions\u001b[49m\u001b[38;5;241;43m.\u001b[39;49m\u001b[43mget\u001b[49m\u001b[43m(\u001b[49m\u001b[38;5;124;43m\"\u001b[39;49m\u001b[38;5;124;43mmemory_map\u001b[39;49m\u001b[38;5;124;43m\"\u001b[39;49m\u001b[43m,\u001b[49m\u001b[43m \u001b[49m\u001b[38;5;28;43;01mFalse\u001b[39;49;00m\u001b[43m)\u001b[49m\u001b[43m,\u001b[49m\n\u001b[1;32m   1886\u001b[0m \u001b[43m    \u001b[49m\u001b[43mis_text\u001b[49m\u001b[38;5;241;43m=\u001b[39;49m\u001b[43mis_text\u001b[49m\u001b[43m,\u001b[49m\n\u001b[1;32m   1887\u001b[0m \u001b[43m    \u001b[49m\u001b[43merrors\u001b[49m\u001b[38;5;241;43m=\u001b[39;49m\u001b[38;5;28;43mself\u001b[39;49m\u001b[38;5;241;43m.\u001b[39;49m\u001b[43moptions\u001b[49m\u001b[38;5;241;43m.\u001b[39;49m\u001b[43mget\u001b[49m\u001b[43m(\u001b[49m\u001b[38;5;124;43m\"\u001b[39;49m\u001b[38;5;124;43mencoding_errors\u001b[39;49m\u001b[38;5;124;43m\"\u001b[39;49m\u001b[43m,\u001b[49m\u001b[43m \u001b[49m\u001b[38;5;124;43m\"\u001b[39;49m\u001b[38;5;124;43mstrict\u001b[39;49m\u001b[38;5;124;43m\"\u001b[39;49m\u001b[43m)\u001b[49m\u001b[43m,\u001b[49m\n\u001b[1;32m   1888\u001b[0m \u001b[43m    \u001b[49m\u001b[43mstorage_options\u001b[49m\u001b[38;5;241;43m=\u001b[39;49m\u001b[38;5;28;43mself\u001b[39;49m\u001b[38;5;241;43m.\u001b[39;49m\u001b[43moptions\u001b[49m\u001b[38;5;241;43m.\u001b[39;49m\u001b[43mget\u001b[49m\u001b[43m(\u001b[49m\u001b[38;5;124;43m\"\u001b[39;49m\u001b[38;5;124;43mstorage_options\u001b[39;49m\u001b[38;5;124;43m\"\u001b[39;49m\u001b[43m,\u001b[49m\u001b[43m \u001b[49m\u001b[38;5;28;43;01mNone\u001b[39;49;00m\u001b[43m)\u001b[49m\u001b[43m,\u001b[49m\n\u001b[1;32m   1889\u001b[0m \u001b[43m\u001b[49m\u001b[43m)\u001b[49m\n\u001b[1;32m   1890\u001b[0m \u001b[38;5;28;01massert\u001b[39;00m \u001b[38;5;28mself\u001b[39m\u001b[38;5;241m.\u001b[39mhandles \u001b[38;5;129;01mis\u001b[39;00m \u001b[38;5;129;01mnot\u001b[39;00m \u001b[38;5;28;01mNone\u001b[39;00m\n\u001b[1;32m   1891\u001b[0m f \u001b[38;5;241m=\u001b[39m \u001b[38;5;28mself\u001b[39m\u001b[38;5;241m.\u001b[39mhandles\u001b[38;5;241m.\u001b[39mhandle\n",
      "File \u001b[0;32m~/Documents/GIT/LearningRegularizationParametersForTGV/venv/lib/python3.10/site-packages/pandas/io/common.py:873\u001b[0m, in \u001b[0;36mget_handle\u001b[0;34m(path_or_buf, mode, encoding, compression, memory_map, is_text, errors, storage_options)\u001b[0m\n\u001b[1;32m    868\u001b[0m \u001b[38;5;28;01melif\u001b[39;00m \u001b[38;5;28misinstance\u001b[39m(handle, \u001b[38;5;28mstr\u001b[39m):\n\u001b[1;32m    869\u001b[0m     \u001b[38;5;66;03m# Check whether the filename is to be opened in binary mode.\u001b[39;00m\n\u001b[1;32m    870\u001b[0m     \u001b[38;5;66;03m# Binary mode does not support 'encoding' and 'newline'.\u001b[39;00m\n\u001b[1;32m    871\u001b[0m     \u001b[38;5;28;01mif\u001b[39;00m ioargs\u001b[38;5;241m.\u001b[39mencoding \u001b[38;5;129;01mand\u001b[39;00m \u001b[38;5;124m\"\u001b[39m\u001b[38;5;124mb\u001b[39m\u001b[38;5;124m\"\u001b[39m \u001b[38;5;129;01mnot\u001b[39;00m \u001b[38;5;129;01min\u001b[39;00m ioargs\u001b[38;5;241m.\u001b[39mmode:\n\u001b[1;32m    872\u001b[0m         \u001b[38;5;66;03m# Encoding\u001b[39;00m\n\u001b[0;32m--> 873\u001b[0m         handle \u001b[38;5;241m=\u001b[39m \u001b[38;5;28;43mopen\u001b[39;49m\u001b[43m(\u001b[49m\n\u001b[1;32m    874\u001b[0m \u001b[43m            \u001b[49m\u001b[43mhandle\u001b[49m\u001b[43m,\u001b[49m\n\u001b[1;32m    875\u001b[0m \u001b[43m            \u001b[49m\u001b[43mioargs\u001b[49m\u001b[38;5;241;43m.\u001b[39;49m\u001b[43mmode\u001b[49m\u001b[43m,\u001b[49m\n\u001b[1;32m    876\u001b[0m \u001b[43m            \u001b[49m\u001b[43mencoding\u001b[49m\u001b[38;5;241;43m=\u001b[39;49m\u001b[43mioargs\u001b[49m\u001b[38;5;241;43m.\u001b[39;49m\u001b[43mencoding\u001b[49m\u001b[43m,\u001b[49m\n\u001b[1;32m    877\u001b[0m \u001b[43m            \u001b[49m\u001b[43merrors\u001b[49m\u001b[38;5;241;43m=\u001b[39;49m\u001b[43merrors\u001b[49m\u001b[43m,\u001b[49m\n\u001b[1;32m    878\u001b[0m \u001b[43m            \u001b[49m\u001b[43mnewline\u001b[49m\u001b[38;5;241;43m=\u001b[39;49m\u001b[38;5;124;43m\"\u001b[39;49m\u001b[38;5;124;43m\"\u001b[39;49m\u001b[43m,\u001b[49m\n\u001b[1;32m    879\u001b[0m \u001b[43m        \u001b[49m\u001b[43m)\u001b[49m\n\u001b[1;32m    880\u001b[0m     \u001b[38;5;28;01melse\u001b[39;00m:\n\u001b[1;32m    881\u001b[0m         \u001b[38;5;66;03m# Binary mode\u001b[39;00m\n\u001b[1;32m    882\u001b[0m         handle \u001b[38;5;241m=\u001b[39m \u001b[38;5;28mopen\u001b[39m(handle, ioargs\u001b[38;5;241m.\u001b[39mmode)\n",
      "\u001b[0;31mFileNotFoundError\u001b[0m: [Errno 2] No such file or directory: '../../results/test_set/u_tv_fixed/test-abs-R_4-sigma_0_05/test-abs-R_4-sigma_0_05_intermediate_metrics.csv'"
     ]
    }
   ],
   "source": [
    "# model = \"u_tv\"\n",
    "# model = \"new_u_tv\"\n",
    "model = \"u_tv_fixed\"\n",
    "for acc_R in [4]:\n",
    "    for sigma in [\"0_05\"]:\n",
    "        csv_file = makepath(\n",
    "            f\"test-abs-R_{acc_R}-sigma_{sigma}\",\n",
    "            f\"test-abs-R_{acc_R}-sigma_{sigma}_intermediate_metrics.csv\",\n",
    "        )\n",
    "        df = pd.read_csv(makepath(results_path, model, csv_file))\n",
    "        # print(df.head())\n",
    "        print(f\"R = {acc_R}, sigma = {sigma}\")\n",
    "        print(f\"PSNR: {df['psnr'].mean():.2f} ± {df['psnr'].std():.2f}\")\n",
    "        print(f\"SSIM: {df['ssim'].mean():.4f} ± {df['ssim'].std():.3f}\")\n",
    "        print()"
   ]
  }
 ],
 "metadata": {
  "kernelspec": {
   "display_name": "venv",
   "language": "python",
   "name": "python3"
  },
  "language_info": {
   "codemirror_mode": {
    "name": "ipython",
    "version": 3
   },
   "file_extension": ".py",
   "mimetype": "text/x-python",
   "name": "python",
   "nbconvert_exporter": "python",
   "pygments_lexer": "ipython3",
   "version": "3.10.14"
  }
 },
 "nbformat": 4,
 "nbformat_minor": 2
}
