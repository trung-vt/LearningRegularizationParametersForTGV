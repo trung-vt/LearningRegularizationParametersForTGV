{
 "cells": [
  {
   "cell_type": "markdown",
   "metadata": {},
   "source": [
    "# Imports"
   ]
  },
  {
   "cell_type": "code",
   "execution_count": 65,
   "metadata": {},
   "outputs": [],
   "source": [
    "import os\n",
    "import pandas as pd\n",
    "from typing import Optional\n",
    "\n",
    "from utils.makepath import makepath as mkp"
   ]
  },
  {
   "cell_type": "code",
   "execution_count": 30,
   "metadata": {},
   "outputs": [],
   "source": [
    "from sithom.plot import (\n",
    "    plot_defaults,\n",
    "    label_subplots,\n",
    "    get_dim,\n",
    "    set_dim,\n",
    "    PALETTE,\n",
    "    STD_CLR_LIST,\n",
    "    CAM_BLUE,\n",
    "    BRICK_RED,\n",
    "    OX_BLUE,\n",
    ")\n",
    "\n",
    "# # Use Latex (optional)\n",
    "uses_latex = True\n",
    "# uses_latex = False\n",
    "plot_defaults(use_tex=uses_latex)"
   ]
  },
  {
   "cell_type": "markdown",
   "metadata": {},
   "source": [
    "# Helpers"
   ]
  },
  {
   "cell_type": "code",
   "execution_count": 62,
   "metadata": {},
   "outputs": [],
   "source": [
    "loss_key = \"loss\"\n",
    "psnr_key = \"psnr\"\n",
    "ssim_key = \"ssim\"\n",
    "\n",
    "def print_mean_and_std(df):\n",
    "    loss_mean = df[loss_key].mean()\n",
    "    loss_std = df[loss_key].std()\n",
    "    psnr_mean = df[psnr_key].mean()\n",
    "    psnr_std = df[psnr_key].std()\n",
    "    ssim_mean = df[ssim_key].mean()\n",
    "    ssim_std = df[ssim_key].std()\n",
    "    # print(f\"{psnr_mean:.2f} ± {psnr_std:.2f} \\t {ssim_mean:.4f} ± {ssim_std:.3f}\", end=\"\\t\")\n",
    "    print(f\"{psnr_mean:.2f} ± {psnr_std:.2f} \\t {ssim_mean:.4f} ± {ssim_std:.3f}\")\n",
    "    # print(f\"{loss_mean:.6f} ± {loss_std:.6f} \\t {psnr_mean:.2f} ± {psnr_std:.2f} \\t {ssim_mean:.4f} ± {ssim_std:.3f}\")"
   ]
  },
  {
   "cell_type": "markdown",
   "metadata": {},
   "source": [
    "# Paths"
   ]
  },
  {
   "cell_type": "code",
   "execution_count": 39,
   "metadata": {},
   "outputs": [],
   "source": [
    "root_dir = mkp(\"..\", \"..\")\n",
    "results_dir = mkp(root_dir, \"tmp\")\n",
    "model_name = \"mri_model_09_12-23_02-good_TGV-sigma_to_0_2-R_from_4\"\n",
    "model_dir = mkp(results_dir, model_name)\n",
    "results_dir = mkp(model_dir, \"checkpoint_30\")"
   ]
  },
  {
   "cell_type": "code",
   "execution_count": 40,
   "metadata": {},
   "outputs": [
    {
     "data": {
      "text/plain": [
       "['test-R_6-sigma_0_20_intermediate_metrics.csv',\n",
       " 'val-R_4-sigma_0_05_intermediate_metrics.csv',\n",
       " 'test-R_4-sigma_0_10_intermediate_metrics.csv',\n",
       " 'test-R_4-sigma_0_05_intermediate_metrics.csv',\n",
       " 'model_state_dict_30.pth',\n",
       " 'test-R_6-sigma_0_05_intermediate_metrics.csv',\n",
       " 'test-R_8-sigma_0_20_intermediate_metrics.csv',\n",
       " 'test-R_6-sigma_0_10_intermediate_metrics.csv',\n",
       " 'test-R_4-sigma_0_20_intermediate_metrics.csv',\n",
       " 'test-R_6-sigma_0_15_intermediate_metrics.csv',\n",
       " 'test-R_8-sigma_0_10_intermediate_metrics.csv',\n",
       " 'test-R_8-sigma_0_05_intermediate_metrics.csv',\n",
       " 'test-R_8-sigma_0_15_intermediate_metrics.csv',\n",
       " 'test-R_4-sigma_0_15_intermediate_metrics.csv']"
      ]
     },
     "execution_count": 40,
     "metadata": {},
     "output_type": "execute_result"
    }
   ],
   "source": [
    "os.listdir(results_dir)"
   ]
  },
  {
   "cell_type": "markdown",
   "metadata": {},
   "source": [
    "# Results"
   ]
  },
  {
   "cell_type": "code",
   "execution_count": 41,
   "metadata": {},
   "outputs": [],
   "source": [
    "acc_R = 4\n",
    "sigma = 0.05\n",
    "\n",
    "csv_file = f\"test-R_{acc_R}-sigma_{sigma:.2f}_intermediate_metrics\".replace(\".\", \"_\") + \".csv\""
   ]
  },
  {
   "cell_type": "code",
   "execution_count": 42,
   "metadata": {},
   "outputs": [],
   "source": [
    "df = pd.read_csv(mkp(results_dir, csv_file))"
   ]
  },
  {
   "cell_type": "code",
   "execution_count": 43,
   "metadata": {},
   "outputs": [
    {
     "data": {
      "text/html": [
       "<div>\n",
       "<style scoped>\n",
       "    .dataframe tbody tr th:only-of-type {\n",
       "        vertical-align: middle;\n",
       "    }\n",
       "\n",
       "    .dataframe tbody tr th {\n",
       "        vertical-align: top;\n",
       "    }\n",
       "\n",
       "    .dataframe thead th {\n",
       "        text-align: right;\n",
       "    }\n",
       "</style>\n",
       "<table border=\"1\" class=\"dataframe\">\n",
       "  <thead>\n",
       "    <tr style=\"text-align: right;\">\n",
       "      <th></th>\n",
       "      <th>epoch</th>\n",
       "      <th>iter</th>\n",
       "      <th>loss</th>\n",
       "      <th>psnr</th>\n",
       "      <th>ssim</th>\n",
       "    </tr>\n",
       "  </thead>\n",
       "  <tbody>\n",
       "    <tr>\n",
       "      <th>0</th>\n",
       "      <td>1</td>\n",
       "      <td>1</td>\n",
       "      <td>0.000212</td>\n",
       "      <td>32.740307</td>\n",
       "      <td>0.884298</td>\n",
       "    </tr>\n",
       "    <tr>\n",
       "      <th>1</th>\n",
       "      <td>1</td>\n",
       "      <td>2</td>\n",
       "      <td>0.000334</td>\n",
       "      <td>32.531658</td>\n",
       "      <td>0.695213</td>\n",
       "    </tr>\n",
       "    <tr>\n",
       "      <th>2</th>\n",
       "      <td>1</td>\n",
       "      <td>3</td>\n",
       "      <td>0.000662</td>\n",
       "      <td>33.287067</td>\n",
       "      <td>0.679704</td>\n",
       "    </tr>\n",
       "    <tr>\n",
       "      <th>3</th>\n",
       "      <td>1</td>\n",
       "      <td>4</td>\n",
       "      <td>0.000172</td>\n",
       "      <td>31.819696</td>\n",
       "      <td>0.867264</td>\n",
       "    </tr>\n",
       "    <tr>\n",
       "      <th>4</th>\n",
       "      <td>1</td>\n",
       "      <td>5</td>\n",
       "      <td>0.000489</td>\n",
       "      <td>30.590446</td>\n",
       "      <td>0.831022</td>\n",
       "    </tr>\n",
       "  </tbody>\n",
       "</table>\n",
       "</div>"
      ],
      "text/plain": [
       "   epoch  iter      loss       psnr      ssim\n",
       "0      1     1  0.000212  32.740307  0.884298\n",
       "1      1     2  0.000334  32.531658  0.695213\n",
       "2      1     3  0.000662  33.287067  0.679704\n",
       "3      1     4  0.000172  31.819696  0.867264\n",
       "4      1     5  0.000489  30.590446  0.831022"
      ]
     },
     "execution_count": 43,
     "metadata": {},
     "output_type": "execute_result"
    }
   ],
   "source": [
    "df.head()"
   ]
  },
  {
   "cell_type": "code",
   "execution_count": 49,
   "metadata": {},
   "outputs": [
    {
     "name": "stdout",
     "output_type": "stream",
     "text": [
      "31.89 ± 2.22 \t 0.7970 ± 0.080\n"
     ]
    }
   ],
   "source": [
    "print_mean_and_std(df)"
   ]
  },
  {
   "cell_type": "markdown",
   "metadata": {},
   "source": [
    "# Plots"
   ]
  },
  {
   "cell_type": "code",
   "execution_count": 45,
   "metadata": {},
   "outputs": [
    {
     "data": {
      "text/plain": [
       "array([[<Axes: title={'center': 'loss'}>]], dtype=object)"
      ]
     },
     "execution_count": 45,
     "metadata": {},
     "output_type": "execute_result"
    },
    {
     "data": {
      "image/png": "[encoded data removed]",
      "text/plain": [
       "<Figure size 826.772x510.973 with 1 Axes>"
      ]
     },
     "metadata": {},
     "output_type": "display_data"
    }
   ],
   "source": [
    "df.hist(column=\"loss\", bins=100)"
   ]
  },
  {
   "cell_type": "code",
   "execution_count": 46,
   "metadata": {},
   "outputs": [
    {
     "data": {
      "text/plain": [
       "array([[<Axes: title={'center': 'psnr'}>]], dtype=object)"
      ]
     },
     "execution_count": 46,
     "metadata": {},
     "output_type": "execute_result"
    },
    {
     "data": {
      "image/png": "[encoded data removed]",
      "text/plain": [
       "<Figure size 826.772x510.973 with 1 Axes>"
      ]
     },
     "metadata": {},
     "output_type": "display_data"
    }
   ],
   "source": [
    "df.hist(column=\"psnr\", bins=100)"
   ]
  },
  {
   "cell_type": "code",
   "execution_count": 47,
   "metadata": {},
   "outputs": [
    {
     "data": {
      "text/plain": [
       "array([[<Axes: title={'center': 'ssim'}>]], dtype=object)"
      ]
     },
     "execution_count": 47,
     "metadata": {},
     "output_type": "execute_result"
    },
    {
     "data": {
      "image/png": "[encoded data removed]",
      "text/plain": [
       "<Figure size 826.772x510.973 with 1 Axes>"
      ]
     },
     "metadata": {},
     "output_type": "display_data"
    }
   ],
   "source": [
    "df.hist(column=\"ssim\", bins=100)"
   ]
  },
  {
   "cell_type": "markdown",
   "metadata": {},
   "source": [
    "# Combined"
   ]
  },
  {
   "cell_type": "code",
   "execution_count": 66,
   "metadata": {},
   "outputs": [],
   "source": [
    "def load_and_display_results(\n",
    "        acc_R: int,\n",
    "        sigma: float,\n",
    "        model_name: str,\n",
    "        checkpoint: Optional[int] = None,\n",
    ") -> pd.DataFrame:\n",
    "    root_dir = mkp(\"..\", \"..\")\n",
    "    results_dir = mkp(root_dir, \"tmp\")\n",
    "    model_dir = mkp(results_dir, model_name)\n",
    "    if checkpoint is None:\n",
    "        results_dir = model_dir\n",
    "    else:\n",
    "        results_dir = mkp(model_dir, f\"checkpoint_{checkpoint}\")\n",
    "    csv_file = f\"test-R_{acc_R}-sigma_{sigma:.2f}_intermediate_metrics\".replace(\".\", \"_\") + \".csv\"\n",
    "    df = pd.read_csv(mkp(results_dir, csv_file))\n",
    "    print_mean_and_std(df)\n",
    "    return df"
   ]
  },
  {
   "cell_type": "code",
   "execution_count": 60,
   "metadata": {},
   "outputs": [
    {
     "name": "stdout",
     "output_type": "stream",
     "text": [
      "0.000302 ± 0.000273 \t 31.89 ± 2.22 \t 0.7970 ± 0.080\n"
     ]
    }
   ],
   "source": [
    "df = load_and_display_results(\n",
    "    acc_R=4,\n",
    "    sigma=0.05,\n",
    "\n",
    "    model_name=\"mri_model_09_12-23_02-good_TGV-sigma_to_0_2-R_from_4\",\n",
    "    checkpoint=30,\n",
    ")"
   ]
  },
  {
   "cell_type": "code",
   "execution_count": 67,
   "metadata": {},
   "outputs": [
    {
     "name": "stdout",
     "output_type": "stream",
     "text": [
      "31.89 ± 2.22 \t 0.7970 ± 0.080\n",
      "31.80 ± 2.19 \t 0.7956 ± 0.078\n",
      "31.59 ± 2.16 \t 0.7946 ± 0.077\n",
      "31.26 ± 2.11 \t 0.7932 ± 0.075\n",
      "29.83 ± 2.21 \t 0.7681 ± 0.080\n",
      "29.81 ± 2.22 \t 0.7679 ± 0.078\n",
      "29.66 ± 2.20 \t 0.7669 ± 0.076\n",
      "29.40 ± 2.15 \t 0.7638 ± 0.074\n",
      "27.38 ± 2.08 \t 0.7206 ± 0.074\n",
      "27.44 ± 2.10 \t 0.7231 ± 0.073\n",
      "27.39 ± 2.10 \t 0.7229 ± 0.071\n",
      "27.24 ± 2.08 \t 0.7190 ± 0.070\n"
     ]
    }
   ],
   "source": [
    "for acc_R in [4, 6, 8]:\n",
    "    for sigma in [0.05, 0.10, 0.15, 0.20]:\n",
    "        load_and_display_results(\n",
    "            acc_R=acc_R,\n",
    "            sigma=sigma,\n",
    "\n",
    "            model_name=\"mri_model_09_12-23_02-good_TGV-sigma_to_0_2-R_from_4\",\n",
    "            checkpoint=30,\n",
    "        )"
   ]
  },
  {
   "cell_type": "code",
   "execution_count": 68,
   "metadata": {},
   "outputs": [
    {
     "name": "stdout",
     "output_type": "stream",
     "text": [
      "31.87 ± 2.21 \t 0.6890 ± 0.101\n",
      "31.70 ± 2.17 \t 0.6828 ± 0.099\n",
      "31.36 ± 2.13 \t 0.6822 ± 0.098\n",
      "30.94 ± 2.09 \t 0.6846 ± 0.096\n",
      "29.39 ± 2.24 \t 0.6781 ± 0.099\n",
      "29.56 ± 2.26 \t 0.6674 ± 0.097\n",
      "29.44 ± 2.22 \t 0.6663 ± 0.096\n",
      "29.15 ± 2.17 \t 0.6697 ± 0.093\n",
      "26.74 ± 2.09 \t 0.6410 ± 0.091\n",
      "27.11 ± 2.18 \t 0.6370 ± 0.092\n",
      "27.23 ± 2.18 \t 0.6390 ± 0.091\n",
      "27.12 ± 2.16 \t 0.6460 ± 0.089\n"
     ]
    }
   ],
   "source": [
    "for acc_R in [4, 6, 8]:\n",
    "    for sigma in [0.05, 0.10, 0.15, 0.20]:\n",
    "        load_and_display_results(\n",
    "            acc_R=acc_R,\n",
    "            sigma=sigma,\n",
    "\n",
    "            model_name=\"mri_model_09_14-14_37-good_TV-sigma_to_0_2-R_from_4\",\n",
    "            checkpoint=20,\n",
    "        )"
   ]
  },
  {
   "cell_type": "code",
   "execution_count": 69,
   "metadata": {},
   "outputs": [
    {
     "name": "stdout",
     "output_type": "stream",
     "text": [
      "24.93 ± 1.56 \t 0.6361 ± 0.045\n",
      "24.83 ± 1.55 \t 0.6235 ± 0.046\n",
      "24.65 ± 1.54 \t 0.5965 ± 0.047\n",
      "24.41 ± 1.53 \t 0.5607 ± 0.048\n",
      "23.93 ± 1.56 \t 0.6033 ± 0.050\n",
      "23.85 ± 1.56 \t 0.5938 ± 0.052\n",
      "23.71 ± 1.55 \t 0.5685 ± 0.052\n",
      "23.52 ± 1.54 \t 0.5337 ± 0.052\n",
      "23.08 ± 1.55 \t 0.5723 ± 0.053\n",
      "23.02 ± 1.55 \t 0.5648 ± 0.056\n",
      "22.91 ± 1.55 \t 0.5406 ± 0.057\n",
      "22.76 ± 1.54 \t 0.5065 ± 0.056\n"
     ]
    }
   ],
   "source": [
    "for acc_R in [4, 6, 8]:\n",
    "    for sigma in [0.05, 0.10, 0.15, 0.20]:\n",
    "        load_and_display_results(\n",
    "            acc_R=acc_R,\n",
    "            sigma=sigma,\n",
    "\n",
    "            model_name=\"zero_filled\"\n",
    "        )"
   ]
  }
 ],
 "metadata": {
  "kernelspec": {
   "display_name": "venv",
   "language": "python",
   "name": "python3"
  },
  "language_info": {
   "codemirror_mode": {
    "name": "ipython",
    "version": 3
   },
   "file_extension": ".py",
   "mimetype": "text/x-python",
   "name": "python",
   "nbconvert_exporter": "python",
   "pygments_lexer": "ipython3",
   "version": "3.10.12"
  }
 },
 "nbformat": 4,
 "nbformat_minor": 2
}
