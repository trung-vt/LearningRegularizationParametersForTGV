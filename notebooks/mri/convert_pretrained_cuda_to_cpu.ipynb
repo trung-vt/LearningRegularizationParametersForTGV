{
 "cells": [
  {
   "cell_type": "code",
   "execution_count": 1,
   "metadata": {},
   "outputs": [],
   "source": [
    "%load_ext autoreload\n",
    "%autoreload 2"
   ]
  },
  {
   "cell_type": "code",
   "execution_count": 2,
   "metadata": {},
   "outputs": [],
   "source": [
    "import torch\n",
    "\n",
    "from scripts.mri.model_loader import ModelLoader\n",
    "from utils.makepath import makepath as mkp\n",
    "from scripts.mri.test_utils import get_config_and_model"
   ]
  },
  {
   "cell_type": "code",
   "execution_count": 3,
   "metadata": {},
   "outputs": [],
   "source": [
    "root_dir = mkp(\"..\", \"..\")"
   ]
  },
  {
   "cell_type": "code",
   "execution_count": 4,
   "metadata": {},
   "outputs": [
    {
     "name": "stdout",
     "output_type": "stream",
     "text": [
      "Config loaded from file ../../tmp/mri_model_09_14-14_37-good_TV-sigma_to_0_2-R_from_4/config.yaml\n",
      "Config loaded from dict\n",
      "Norm of operator A: 1\n",
      "Norm of gradient operator nabla: 2.8284270763397217\n",
      "L: 3.0\n",
      "u_tv model loaded\n"
     ]
    }
   ],
   "source": [
    "u_tv_config, u_tv_model_cpu = get_config_and_model(\n",
    "    model_id=\"u_tv\", device=\"cpu\", root_dir=root_dir)"
   ]
  },
  {
   "cell_type": "code",
   "execution_count": 5,
   "metadata": {},
   "outputs": [
    {
     "name": "stdout",
     "output_type": "stream",
     "text": [
      "<bound method Module.type of TvPdhgTorch()>\n"
     ]
    },
    {
     "data": {
      "text/plain": [
       "'cpu'"
      ]
     },
     "execution_count": 5,
     "metadata": {},
     "output_type": "execute_result"
    }
   ],
   "source": [
    "print(u_tv_model_cpu.pdhg_solver.pdhg_solver.type)\n",
    "u_tv_model_cpu.device"
   ]
  },
  {
   "cell_type": "code",
   "execution_count": 6,
   "metadata": {},
   "outputs": [
    {
     "name": "stdout",
     "output_type": "stream",
     "text": [
      "Config loaded from file ../../tmp/mri_model_09_12-23_02-good_TGV-sigma_to_0_2-R_from_4/config.yaml\n",
      "Config loaded from dict\n",
      "Norm of operator A: 1\n",
      "Norm of gradient operator nabla: 2.8284270763397217\n",
      "L: 3.0\n",
      "u_tgv model loaded\n"
     ]
    }
   ],
   "source": [
    "u_tgv_config, u_tgv_model_cpu = get_config_and_model(\n",
    "    model_id=\"u_tgv\", device=\"cpu\", root_dir=root_dir)"
   ]
  },
  {
   "cell_type": "code",
   "execution_count": 7,
   "metadata": {},
   "outputs": [
    {
     "name": "stdout",
     "output_type": "stream",
     "text": [
      "<bound method Module.type of TgvPdhgTorch()>\n"
     ]
    },
    {
     "data": {
      "text/plain": [
       "'cpu'"
      ]
     },
     "execution_count": 7,
     "metadata": {},
     "output_type": "execute_result"
    }
   ],
   "source": [
    "print(u_tgv_model_cpu.pdhg_solver.pdhg_solver.type)\n",
    "u_tgv_model_cpu.device"
   ]
  },
  {
   "cell_type": "code",
   "execution_count": 8,
   "metadata": {},
   "outputs": [],
   "source": [
    "pretrained_dir = \"pretrained\"\n",
    "u_tv_cpu_file = \"u_tv-model_state_dict_20-cpu.pth\"\n",
    "u_tgv_cpu_file = \"u_tgv-model_state_dict_30-cpu.pth\""
   ]
  },
  {
   "cell_type": "code",
   "execution_count": 9,
   "metadata": {},
   "outputs": [],
   "source": [
    "torch.save(obj=u_tv_model_cpu.state_dict(), f=mkp(pretrained_dir, u_tv_cpu_file))"
   ]
  },
  {
   "cell_type": "code",
   "execution_count": 10,
   "metadata": {},
   "outputs": [],
   "source": [
    "torch.save(obj=u_tgv_model_cpu.state_dict(), f=mkp(pretrained_dir, u_tgv_cpu_file))"
   ]
  }
 ],
 "metadata": {
  "kernelspec": {
   "display_name": "venv",
   "language": "python",
   "name": "python3"
  },
  "language_info": {
   "codemirror_mode": {
    "name": "ipython",
    "version": 3
   },
   "file_extension": ".py",
   "mimetype": "text/x-python",
   "name": "python",
   "nbconvert_exporter": "python",
   "pygments_lexer": "ipython3",
   "version": "3.10.12"
  }
 },
 "nbformat": 4,
 "nbformat_minor": 2
}
