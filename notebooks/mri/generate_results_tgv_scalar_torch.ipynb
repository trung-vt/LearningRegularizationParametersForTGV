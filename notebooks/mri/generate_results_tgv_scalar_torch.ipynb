{
 "cells": [
  {
   "cell_type": "code",
   "execution_count": 1,
   "metadata": {},
   "outputs": [],
   "source": [
    "%load_ext autoreload\n",
    "%autoreload 2"
   ]
  },
  {
   "cell_type": "code",
   "execution_count": 2,
   "metadata": {},
   "outputs": [],
   "source": [
    "import torch\n",
    "import pandas as pd"
   ]
  },
  {
   "cell_type": "code",
   "execution_count": 3,
   "metadata": {},
   "outputs": [],
   "source": [
    "default_device = \"cpu\"\n",
    "# default_device = \"cuda\""
   ]
  },
  {
   "cell_type": "code",
   "execution_count": null,
   "metadata": {},
   "outputs": [],
   "source": [
    "from utils.makepath import makepath\n",
    "root_dir = makepath(\"..\", \"..\")\n",
    "data_dir = makepath(root_dir, \"tmp\", \"mri_data\")\n",
    "\n",
    "import os\n",
    "os.listdir(data_dir)"
   ]
  },
  {
   "cell_type": "code",
   "execution_count": 5,
   "metadata": {},
   "outputs": [],
   "source": [
    "data_config = {\n",
    "    \"data_path\": data_dir,\n",
    "    \"data_scale_factor\": 1000,\n",
    "    \"test_file_name\": \"x_true_test_302.pt\",\n",
    "    \"test_num_samples\": 302,\n",
    "}"
   ]
  },
  {
   "cell_type": "code",
   "execution_count": 6,
   "metadata": {},
   "outputs": [],
   "source": [
    "import matplotlib.pyplot as plt\n",
    "def plot_image_with_color_bar(x: torch.Tensor, title=None):\n",
    "    plt.imshow(x[0].abs().detach().cpu().numpy(), cmap=\"gray\")\n",
    "    plt.colorbar()\n",
    "    plt.title(title)\n",
    "    plt.show()"
   ]
  },
  {
   "cell_type": "code",
   "execution_count": 7,
   "metadata": {},
   "outputs": [],
   "source": [
    "# plot_image_with_color_bar(x_corrupted, \"x_corrupted\")\n",
    "# plot_image_with_color_bar(x_true, \"x_true\")"
   ]
  },
  {
   "cell_type": "code",
   "execution_count": null,
   "metadata": {},
   "outputs": [],
   "source": [
    "for acc_factor_R in [4, 8, 6]:\n",
    "    for gaussian_noise_sigma in [0.05, 0.10, 0.20]:\n",
    "\n",
    "        best_metric = \"SSIM\"\n",
    "        range_lambda = (0, 0.2)\n",
    "        num_search_iters = 20\n",
    "        from datetime import datetime\n",
    "        cur_datetime = datetime.now().strftime(\"%d_%H_%M\")\n",
    "        csv_file_name = f\"test-abs-scalar_tv-best_{best_metric}-\" + \\\n",
    "            f\"R_{acc_factor_R}-\" + \\\n",
    "            f\"sigma_{gaussian_noise_sigma}-\" + \\\n",
    "            f\"lambda_{range_lambda[0]}_to_{range_lambda[1]}-\" + \\\n",
    "            f\"ternary_iters_{num_search_iters}-dt_{cur_datetime}\"\n",
    "        csv_file_name = csv_file_name.replace(\".\", \"_\")\n",
    "\n",
    "        with open(csv_file_name + \".csv\", \"w\") as f:\n",
    "            f.write(\"id,PSNR,SSIM,lambda\\n\")\n",
    "\n",
    "        log_file = csv_file_name + \".log\"\n",
    "        with open(log_file, \"w\") as f:\n",
    "            f.write(\"\")\n",
    "        def log_func(*args):\n",
    "            with open(log_file, \"a\") as f:\n",
    "                f.write(\" \".join(map(str, args)) + \"\\n\")\n",
    "        from utils.search import ternary_search_1d\n",
    "        def ternary_search_1d_with_log(\n",
    "                range_x, compute, best, num_iters,\n",
    "                func=None, round_func=None):\n",
    "            return ternary_search_1d(\n",
    "                range_x, compute, best, num_iters,\n",
    "                func=func, round_func=round_func, log_func=log_func)\n",
    "\n",
    "        from data.mri.data_loader import get_dataset\n",
    "        dataset = get_dataset(\n",
    "            data_config=data_config,\n",
    "            action=\"test\",\n",
    "            dataset_type=\"preprocessed\",\n",
    "            device=default_device,\n",
    "            acceleration_factor_R=acc_factor_R,\n",
    "            gaussian_noise_standard_deviation_sigma=gaussian_noise_sigma\n",
    "        )\n",
    "\n",
    "        batch_size = 1\n",
    "        # generator = torch.Generator(device=default_device)\n",
    "        data_loader = torch.utils.data.DataLoader(\n",
    "            dataset,\n",
    "            batch_size=batch_size,\n",
    "            shuffle=False,\n",
    "            # generator=generator\n",
    "            # num_workers=0,\n",
    "            # pin_memory=True\n",
    "        )\n",
    "\n",
    "        from tqdm.notebook import tqdm\n",
    "\n",
    "        # all_results_df = pd.DataFrame()\n",
    "        id = 0\n",
    "        for data in tqdm(data_loader):\n",
    "            id += 1\n",
    "            x_corrupted, x_true, kdata_corrupted, undersampling_kmask = data\n",
    "\n",
    "            from pdhg.mri_pdhg import MriPdhgTorchTest\n",
    "            mri_tv_test = MriPdhgTorchTest(\n",
    "                device=default_device,\n",
    "                pdhg_algorithm=\"tv\",\n",
    "                num_iters=256,\n",
    "                kdata=kdata_corrupted,\n",
    "                kmask=undersampling_kmask,\n",
    "                state=x_corrupted\n",
    "            )\n",
    "\n",
    "            from utils.metrics import ImageMetricsEvaluator\n",
    "            metrics_evaluator = ImageMetricsEvaluator(device=default_device)\n",
    "\n",
    "            def compute_metrics_mri(denoised: torch.Tensor) -> pd.DataFrame:\n",
    "                # plot_image_with_color_bar(denoised)\n",
    "                psnr, ssim = metrics_evaluator.compute_torch_complex(x=denoised, x_true=x_true)\n",
    "                return psnr, ssim\n",
    "\n",
    "            from pdhg.scalar_searcher import ScalarSearcher\n",
    "            scalar_searcher = ScalarSearcher(\n",
    "                get_denoised=mri_tv_test.get_denoised,\n",
    "                compute_metrics=compute_metrics_mri,\n",
    "                best_metric=best_metric\n",
    "            )\n",
    "\n",
    "            with open(log_file, \"a\") as f:\n",
    "                f.write(f\"BEGIN ID: {id}\\n\")\n",
    "            best_denoised, best_lambda, best_metrics = \\\n",
    "                scalar_searcher.brute_force_and_denoise_tv(\n",
    "                    # search_1d=ternary_search_1d,\n",
    "                    search_1d=ternary_search_1d_with_log,\n",
    "                    range_lambda=range_lambda,\n",
    "                    num_search_iters=num_search_iters,\n",
    "                )\n",
    "            with open(log_file, \"a\") as f:\n",
    "                f.write(f\"END ID: {id}\\n\\n\")\n",
    "\n",
    "            psnr, ssim = best_metrics\n",
    "            with open(csv_file_name + \".csv\", \"a\") as f:\n",
    "                f.write(f\"{id},{psnr},{ssim},{best_lambda}\\n\")"
   ]
  },
  {
   "cell_type": "code",
   "execution_count": 10,
   "metadata": {},
   "outputs": [],
   "source": [
    "# all_results_df.to_csv(csv_file_name + \".csv\")"
   ]
  },
  {
   "cell_type": "code",
   "execution_count": 11,
   "metadata": {},
   "outputs": [],
   "source": [
    "# from utils.search import ternary_search_2d\n",
    "# scalar_searcher_best_ssim.brute_force_and_denoise_tgv(\n",
    "#     search_2d=ternary_search_2d,\n",
    "#     range_lambda0=[0, 0.5],\n",
    "#     range_lambda1=[0, 0.5],\n",
    "#     num_iters=40,\n",
    "# )"
   ]
  },
  {
   "cell_type": "code",
   "execution_count": 12,
   "metadata": {},
   "outputs": [],
   "source": [
    "# from utils.search import grid_search_2d\n",
    "# import numpy as np\n",
    "# scalar_searcher.brute_force_and_denoise_tgv(\n",
    "#     search_2d=grid_search_2d,\n",
    "#     range_lambda0=np.linspace(0, 0.02, 11),\n",
    "#     range_lambda1=np.linspace(0, 0.02, 11),\n",
    "# )"
   ]
  },
  {
   "cell_type": "code",
   "execution_count": 13,
   "metadata": {},
   "outputs": [],
   "source": [
    "# scalar_searcher_best_psnr = ScalarSearcher(\n",
    "#     get_denoised=mri_tgv_test.get_denoised,\n",
    "#     compute_metrics=compute_metrics_mri,\n",
    "#     best_metric=\"PSNR\"\n",
    "# )"
   ]
  },
  {
   "cell_type": "code",
   "execution_count": 14,
   "metadata": {},
   "outputs": [],
   "source": [
    "# scalar_searcher_best_psnr.brute_force_and_denoise_tgv(\n",
    "#     search_2d=ternary_search_2d,\n",
    "#     range_lambda0=[0, 0.5],\n",
    "#     range_lambda1=[0, 0.5],\n",
    "#     num_iters=40,\n",
    "# )"
   ]
  },
  {
   "cell_type": "code",
   "execution_count": 15,
   "metadata": {},
   "outputs": [],
   "source": [
    "# scalar_searcher_best_psnr.brute_force_and_denoise_tgv(\n",
    "#     search_2d=grid_search_2d,\n",
    "#     range_lambda0=np.linspace(0, 0.02, 11),\n",
    "#     range_lambda1=np.linspace(0, 0.02, 11),\n",
    "# )"
   ]
  },
  {
   "cell_type": "code",
   "execution_count": null,
   "metadata": {},
   "outputs": [],
   "source": []
  }
 ],
 "metadata": {
  "kernelspec": {
   "display_name": "venv",
   "language": "python",
   "name": "python3"
  },
  "language_info": {
   "codemirror_mode": {
    "name": "ipython",
    "version": 3
   },
   "file_extension": ".py",
   "mimetype": "text/x-python",
   "name": "python",
   "nbconvert_exporter": "python",
   "pygments_lexer": "ipython3",
   "version": "3.10.12"
  }
 },
 "nbformat": 4,
 "nbformat_minor": 2
}
