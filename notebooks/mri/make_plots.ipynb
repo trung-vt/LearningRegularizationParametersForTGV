{
 "cells": [
  {
   "cell_type": "markdown",
   "metadata": {},
   "source": [
    "# Present the numerial results\n",
    "\n",
    "This notebook focuses on reading the metrics from the output files \n",
    "and presenting them."
   ]
  },
  {
   "cell_type": "code",
   "execution_count": 3,
   "metadata": {},
   "outputs": [
    {
     "name": "stdout",
     "output_type": "stream",
     "text": [
      "The autoreload extension is already loaded. To reload it, use:\n",
      "  %reload_ext autoreload\n"
     ]
    }
   ],
   "source": [
    "%load_ext autoreload\n",
    "%autoreload 2"
   ]
  },
  {
   "cell_type": "markdown",
   "metadata": {},
   "source": [
    "## Import libraries"
   ]
  },
  {
   "cell_type": "code",
   "execution_count": 4,
   "metadata": {},
   "outputs": [],
   "source": [
    "import os\n",
    "import pandas as pd\n",
    "from pprint import pprint\n",
    "import matplotlib.pyplot as plt\n",
    "import seaborn as sns\n",
    "from typing import List, Literal, Tuple, Dict, Any, Optional\n",
    "from PIL import Image\n",
    "from tqdm.notebook import tqdm\n",
    "from pathlib import Path\n",
    "\n",
    "from sithom.plot import (\n",
    "    plot_defaults,\n",
    "    label_subplots,\n",
    "    get_dim,\n",
    "    set_dim,\n",
    "    PALETTE,\n",
    "    STD_CLR_LIST,\n",
    "    CAM_BLUE,\n",
    "    BRICK_RED,\n",
    "    OX_BLUE,\n",
    ")\n",
    "\n",
    "# # Use Latex (optional)\n",
    "# uses_latex = True\n",
    "uses_latex = False\n",
    "plot_defaults(use_tex=uses_latex)\n",
    "\n",
    "# # ---- example set of graphs ---\n",
    "\n",
    "# import numpy as np\n",
    "# import matplotlib.pyplot as plt\n",
    "\n",
    "# fig, axs = plt.subplots(2, 2)\n",
    "\n",
    "# x = np.linspace(0, np.pi, num=100)\n",
    "# axs[0, 0].plot(x, np.sin(x), color=STD_CLR_LIST[0])\n",
    "# axs[0, 1].plot(x, np.cos(x), color=STD_CLR_LIST[1])\n",
    "# axs[1, 0].plot(x, np.sinc(x), color=STD_CLR_LIST[2])\n",
    "# axs[1, 1].plot(x, np.abs(x), color=STD_CLR_LIST[3])\n",
    "\n",
    "# # set size\n",
    "# set_dim(fig, fraction_of_line_width=1, ratio=(5 ** 0.5 - 1) / 2)\n",
    "\n",
    "# # label subplots\n",
    "\n",
    "# label_subplots(axs.T,  labels=[\"i\"*x for x in range(1,5)], start_from=0, fontsize=10, x_pos=-0.1, y_pos=1.2)"
   ]
  },
  {
   "cell_type": "code",
   "execution_count": 9,
   "metadata": {},
   "outputs": [],
   "source": [
    "from utils.makepath import makepath as mkp\n",
    "from data.mri.mri_data import DataUtil"
   ]
  },
  {
   "cell_type": "markdown",
   "metadata": {},
   "source": [
    "## Locate project root directory\n",
    "\n",
    "First, make sure we know the relative path to the root of the project."
   ]
  },
  {
   "cell_type": "code",
   "execution_count": 7,
   "metadata": {},
   "outputs": [
    {
     "data": {
      "text/plain": [
       "['scripts',\n",
       " 'requirements.txt',\n",
       " 'mri.egg-info',\n",
       " 'venv',\n",
       " 'README.md',\n",
       " 'figures',\n",
       " 'config',\n",
       " 'LICENSE',\n",
       " 'utils',\n",
       " 'networks',\n",
       " 'tmp',\n",
       " 'dyn_mri_test.py',\n",
       " '.gitignore',\n",
       " 'gradops',\n",
       " 'pyproject.toml',\n",
       " 'gifs',\n",
       " 'data',\n",
       " 'pdhg',\n",
       " 'data_lib',\n",
       " 'wandb',\n",
       " 'encoding_objects',\n",
       " '.git']"
      ]
     },
     "execution_count": 7,
     "metadata": {},
     "output_type": "execute_result"
    }
   ],
   "source": [
    "# Root directory of the project is two levels up from this notebook.\n",
    "# Change this if the notebook is moved.\n",
    "num_levels_up = 2\n",
    "\n",
    "root_dir = mkp(\".\")\n",
    "for _ in range(num_levels_up):\n",
    "    root_dir = mkp(root_dir, \"..\")  # go up one level\n",
    "\n",
    "os.listdir(root_dir)    # We should see the project root directory"
   ]
  },
  {
   "cell_type": "code",
   "execution_count": 10,
   "metadata": {},
   "outputs": [
    {
     "ename": "TypeError",
     "evalue": "DataUtil.__init__() missing 1 required positional argument: 'config'",
     "output_type": "error",
     "traceback": [
      "\u001b[0;31m---------------------------------------------------------------------------\u001b[0m",
      "\u001b[0;31mTypeError\u001b[0m                                 Traceback (most recent call last)",
      "Cell \u001b[0;32mIn[10], line 4\u001b[0m\n\u001b[1;32m      1\u001b[0m default_device \u001b[38;5;241m=\u001b[39m \u001b[38;5;124m\"\u001b[39m\u001b[38;5;124mcpu\u001b[39m\u001b[38;5;124m\"\u001b[39m\n\u001b[1;32m      2\u001b[0m \u001b[38;5;66;03m# default_device = \"cuda\"\u001b[39;00m\n\u001b[0;32m----> 4\u001b[0m data_util \u001b[38;5;241m=\u001b[39m \u001b[43mDataUtil\u001b[49m\u001b[43m(\u001b[49m\u001b[43mdevice\u001b[49m\u001b[38;5;241;43m=\u001b[39;49m\u001b[43mdefault_device\u001b[49m\u001b[43m)\u001b[49m\n",
      "\u001b[0;31mTypeError\u001b[0m: DataUtil.__init__() missing 1 required positional argument: 'config'"
     ]
    }
   ],
   "source": [
    "default_device = \"cpu\"\n",
    "# default_device = \"cuda\""
   ]
  },
  {
   "cell_type": "markdown",
   "metadata": {},
   "source": [
    "## Config"
   ]
  },
  {
   "cell_type": "code",
   "execution_count": 6,
   "metadata": {},
   "outputs": [],
   "source": [
    "T = 256\n",
    "# dataset_name = \"turtleid\"\n",
    "dataset_name = \"standard50\"\n",
    "data_path = mkp(root_dir, \"data\", dataset_name)\n",
    "action = \"test\"\n",
    "sigmas = [0.05, 0.1, 0.15, 0.2]\n",
    "# If 0, all samples are used.\n",
    "# Will be multiplied by the number of sigma values to get the total number of samples per epoch.\n",
    "# num_samples = 1\n",
    "num_samples = 50\n",
    "first_sample_index = 0\n",
    "\n",
    "\n",
    "def get_common_config():\n",
    "    return {\n",
    "        \"device\": default_device,\n",
    "        \"data\" : {\n",
    "            \"dataset\": dataset_name,\n",
    "            \"data_path\": data_path,\n",
    "            \"generated_data_path\": mkp(data_path, \"generated\"),\n",
    "\n",
    "            f\"{action}_num_samples\": num_samples,\n",
    "            f\"{action}_first_sample_index\": first_sample_index,\n",
    "            \"resize_square\": 512,\n",
    "            \"sigmas\" : str(sigmas),\n",
    "\n",
    "            \"loading_method\": \"test_mat\",\n",
    "        },\n",
    "\n",
    "        \"pdhg\" : {\n",
    "            \"T\": T,\n",
    "        },\n",
    "\n",
    "        \"results\" : {\n",
    "            \"action\": action,\n",
    "        },\n",
    "    }"
   ]
  },
  {
   "cell_type": "markdown",
   "metadata": {},
   "source": [
    "## Read the output files"
   ]
  },
  {
   "cell_type": "markdown",
   "metadata": {},
   "source": [
    "### Utility functions"
   ]
  },
  {
   "cell_type": "code",
   "execution_count": 7,
   "metadata": {},
   "outputs": [],
   "source": [
    "metrics_obj = Metrics()\n",
    "\n",
    "def get_df_all_results(npy_dataset):\n",
    "    df_all_results = pd.DataFrame()\n",
    "    for np_arr, clean_np in npy_dataset:\n",
    "        df_results = metrics_obj.compute_np(np_arr, clean_np)\n",
    "        df_all_results = pd.concat([df_all_results, df_results])\n",
    "    return df_all_results\n",
    "\n",
    "def get_df(config, loads_precomputed=False, saves_results=False):\n",
    "    results_obj = Results(\n",
    "        config=config,\n",
    "        dataset_constructor_class=TurtleDatasetConstructor,\n",
    "        tqdm=tqdm,\n",
    "    )\n",
    "\n",
    "    if loads_precomputed:\n",
    "        df = results_obj.load_metrics_csv()\n",
    "    else:\n",
    "        df = results_obj.generate_metrics_results_dataframe(saves_results=saves_results)\n",
    "\n",
    "    return df\n",
    "\n",
    "def merge_dicts(a, b):\n",
    "    c = {}\n",
    "    for key in a:\n",
    "        c[key] = a[key]\n",
    "    for key in b:\n",
    "        if key in a:\n",
    "            c[key] = {**a[key], **b[key]}\n",
    "        else:\n",
    "            c[key] = b[key]\n",
    "    return c\n",
    "\n",
    "def print_mean_and_std(df):\n",
    "    psnr_mean = df[\"PSNR\"].mean()\n",
    "    psnr_std = df[\"PSNR\"].std()\n",
    "    ssim_mean = df[\"SSIM\"].mean()\n",
    "    ssim_std = df[\"SSIM\"].std()\n",
    "    # print(f\"{psnr_mean:.2f} ± {psnr_std:.2f} \\t {ssim_mean:.4f} ± {ssim_std:.3f}\", end=\"\\t\")\n",
    "    print(f\"{psnr_mean:.2f} ± {psnr_std:.2f} \\t {ssim_mean:.4f} ± {ssim_std:.3f}\")\n",
    "\n",
    "def print_mean_and_std_by_sigma(df):\n",
    "    print(sigmas)\n",
    "    for sigma in sigmas:\n",
    "        df_sigma = df[df[\"sigma\"] == sigma]\n",
    "        print_mean_and_std(df_sigma)\n",
    "    print_mean_and_std(df)  # all sigmas"
   ]
  },
  {
   "cell_type": "code",
   "execution_count": 8,
   "metadata": {},
   "outputs": [],
   "source": [
    "def get_results(\n",
    "        dataset: Literal[\"turtleid\", \"standard50\"],\n",
    "        model_name: Literal[\"u_tv\", \"u_tgv_type_1\", \"u_tgv_type_2\"],\n",
    "        results_dir = mkp(root_dir, \"results\"),\n",
    "):\n",
    "    results_csv = mkp(results_dir, f\"{model_name}_results_{dataset}.csv\")\n",
    "    results_df = pd.read_csv(results_csv)\n",
    "    return results_df"
   ]
  },
  {
   "cell_type": "markdown",
   "metadata": {},
   "source": [
    "## Compare by dataset"
   ]
  },
  {
   "cell_type": "markdown",
   "metadata": {},
   "source": [
    "### Four examples"
   ]
  },
  {
   "cell_type": "markdown",
   "metadata": {},
   "source": [
    "##### U-TV"
   ]
  },
  {
   "cell_type": "code",
   "execution_count": 9,
   "metadata": {},
   "outputs": [
    {
     "data": {
      "text/html": [
       "<div>\n",
       "<style scoped>\n",
       "    .dataframe tbody tr th:only-of-type {\n",
       "        vertical-align: middle;\n",
       "    }\n",
       "\n",
       "    .dataframe tbody tr th {\n",
       "        vertical-align: top;\n",
       "    }\n",
       "\n",
       "    .dataframe thead th {\n",
       "        text-align: right;\n",
       "    }\n",
       "</style>\n",
       "<table border=\"1\" class=\"dataframe\">\n",
       "  <thead>\n",
       "    <tr style=\"text-align: right;\">\n",
       "      <th></th>\n",
       "      <th>Unnamed: 0</th>\n",
       "      <th>mat_file_name</th>\n",
       "      <th>sigma</th>\n",
       "      <th>MSE</th>\n",
       "      <th>PSNR</th>\n",
       "      <th>SSIM</th>\n",
       "    </tr>\n",
       "  </thead>\n",
       "  <tbody>\n",
       "    <tr>\n",
       "      <th>0</th>\n",
       "      <td>0</td>\n",
       "      <td>../../data/examples/greyscale_256/cameraman</td>\n",
       "      <td>0.05</td>\n",
       "      <td>0.000723</td>\n",
       "      <td>31.407604</td>\n",
       "      <td>0.889027</td>\n",
       "    </tr>\n",
       "    <tr>\n",
       "      <th>1</th>\n",
       "      <td>1</td>\n",
       "      <td>../../data/examples/greyscale_256/parrot</td>\n",
       "      <td>0.05</td>\n",
       "      <td>0.000401</td>\n",
       "      <td>33.965744</td>\n",
       "      <td>0.920537</td>\n",
       "    </tr>\n",
       "    <tr>\n",
       "      <th>2</th>\n",
       "      <td>2</td>\n",
       "      <td>../../data/examples/greyscale_256/orestis</td>\n",
       "      <td>0.05</td>\n",
       "      <td>0.000410</td>\n",
       "      <td>33.876552</td>\n",
       "      <td>0.908583</td>\n",
       "    </tr>\n",
       "    <tr>\n",
       "      <th>3</th>\n",
       "      <td>3</td>\n",
       "      <td>../../data/examples/greyscale_256/hatchling</td>\n",
       "      <td>0.05</td>\n",
       "      <td>0.000582</td>\n",
       "      <td>32.347156</td>\n",
       "      <td>0.906070</td>\n",
       "    </tr>\n",
       "    <tr>\n",
       "      <th>4</th>\n",
       "      <td>4</td>\n",
       "      <td>../../data/examples/greyscale_256/cameraman</td>\n",
       "      <td>0.10</td>\n",
       "      <td>0.001410</td>\n",
       "      <td>28.506677</td>\n",
       "      <td>0.839941</td>\n",
       "    </tr>\n",
       "  </tbody>\n",
       "</table>\n",
       "</div>"
      ],
      "text/plain": [
       "   Unnamed: 0                                mat_file_name  sigma       MSE  \\\n",
       "0           0  ../../data/examples/greyscale_256/cameraman   0.05  0.000723   \n",
       "1           1     ../../data/examples/greyscale_256/parrot   0.05  0.000401   \n",
       "2           2    ../../data/examples/greyscale_256/orestis   0.05  0.000410   \n",
       "3           3  ../../data/examples/greyscale_256/hatchling   0.05  0.000582   \n",
       "4           4  ../../data/examples/greyscale_256/cameraman   0.10  0.001410   \n",
       "\n",
       "        PSNR      SSIM  \n",
       "0  31.407604  0.889027  \n",
       "1  33.965744  0.920537  \n",
       "2  33.876552  0.908583  \n",
       "3  32.347156  0.906070  \n",
       "4  28.506677  0.839941  "
      ]
     },
     "execution_count": 9,
     "metadata": {},
     "output_type": "execute_result"
    }
   ],
   "source": [
    "u_tv_examples_df = get_results(dataset=\"examples\", model_name=\"u_tv\")\n",
    "u_tv_examples_df.head()"
   ]
  },
  {
   "cell_type": "code",
   "execution_count": 10,
   "metadata": {},
   "outputs": [
    {
     "name": "stdout",
     "output_type": "stream",
     "text": [
      "['../../data/examples/greyscale_256/cameraman'\n",
      " '../../data/examples/greyscale_256/parrot'\n",
      " '../../data/examples/greyscale_256/orestis'\n",
      " '../../data/examples/greyscale_256/hatchling']\n"
     ]
    }
   ],
   "source": [
    "print(u_tv_examples_df[\"mat_file_name\"].unique())"
   ]
  },
  {
   "cell_type": "code",
   "execution_count": 11,
   "metadata": {},
   "outputs": [],
   "source": [
    "def print_examples(df: pd.DataFrame) -> None:\n",
    "    for sigma in [0.05, 0.1, 0.15, 0.2]:\n",
    "        df_sigma = df[df[\"sigma\"] == sigma]\n",
    "        print(f\"sigma = {sigma}\")\n",
    "        print(df_sigma[[\"PSNR\", \"SSIM\"]])\n",
    "        print()"
   ]
  },
  {
   "cell_type": "code",
   "execution_count": 12,
   "metadata": {},
   "outputs": [
    {
     "name": "stdout",
     "output_type": "stream",
     "text": [
      "sigma = 0.05\n",
      "        PSNR      SSIM\n",
      "0  31.407604  0.889027\n",
      "1  33.965744  0.920537\n",
      "2  33.876552  0.908583\n",
      "3  32.347156  0.906070\n",
      "\n",
      "sigma = 0.1\n",
      "        PSNR      SSIM\n",
      "4  28.506677  0.839941\n",
      "5  30.874601  0.880224\n",
      "6  30.589943  0.850938\n",
      "7  28.675792  0.823014\n",
      "\n",
      "sigma = 0.15\n",
      "         PSNR      SSIM\n",
      "8   26.072773  0.775618\n",
      "9   28.465734  0.847865\n",
      "10  28.680602  0.818394\n",
      "11  26.583166  0.745418\n",
      "\n",
      "sigma = 0.2\n",
      "         PSNR      SSIM\n",
      "12  24.573627  0.739775\n",
      "13  26.858620  0.823327\n",
      "14  27.052586  0.788044\n",
      "15  25.330899  0.690937\n",
      "\n"
     ]
    }
   ],
   "source": [
    "print_examples(u_tv_examples_df)"
   ]
  },
  {
   "cell_type": "markdown",
   "metadata": {},
   "source": [
    "##### U-TGV type-1"
   ]
  },
  {
   "cell_type": "code",
   "execution_count": 13,
   "metadata": {},
   "outputs": [
    {
     "data": {
      "text/html": [
       "<div>\n",
       "<style scoped>\n",
       "    .dataframe tbody tr th:only-of-type {\n",
       "        vertical-align: middle;\n",
       "    }\n",
       "\n",
       "    .dataframe tbody tr th {\n",
       "        vertical-align: top;\n",
       "    }\n",
       "\n",
       "    .dataframe thead th {\n",
       "        text-align: right;\n",
       "    }\n",
       "</style>\n",
       "<table border=\"1\" class=\"dataframe\">\n",
       "  <thead>\n",
       "    <tr style=\"text-align: right;\">\n",
       "      <th></th>\n",
       "      <th>Unnamed: 0</th>\n",
       "      <th>mat_file_name</th>\n",
       "      <th>sigma</th>\n",
       "      <th>MSE</th>\n",
       "      <th>PSNR</th>\n",
       "      <th>SSIM</th>\n",
       "    </tr>\n",
       "  </thead>\n",
       "  <tbody>\n",
       "    <tr>\n",
       "      <th>0</th>\n",
       "      <td>0</td>\n",
       "      <td>../../data/examples/greyscale_256/cameraman</td>\n",
       "      <td>0.05</td>\n",
       "      <td>0.000716</td>\n",
       "      <td>31.451323</td>\n",
       "      <td>0.888464</td>\n",
       "    </tr>\n",
       "    <tr>\n",
       "      <th>1</th>\n",
       "      <td>1</td>\n",
       "      <td>../../data/examples/greyscale_256/parrot</td>\n",
       "      <td>0.05</td>\n",
       "      <td>0.000408</td>\n",
       "      <td>33.897069</td>\n",
       "      <td>0.920185</td>\n",
       "    </tr>\n",
       "    <tr>\n",
       "      <th>2</th>\n",
       "      <td>2</td>\n",
       "      <td>../../data/examples/greyscale_256/orestis</td>\n",
       "      <td>0.05</td>\n",
       "      <td>0.000416</td>\n",
       "      <td>33.807516</td>\n",
       "      <td>0.908947</td>\n",
       "    </tr>\n",
       "    <tr>\n",
       "      <th>3</th>\n",
       "      <td>3</td>\n",
       "      <td>../../data/examples/greyscale_256/hatchling</td>\n",
       "      <td>0.05</td>\n",
       "      <td>0.000568</td>\n",
       "      <td>32.454157</td>\n",
       "      <td>0.910185</td>\n",
       "    </tr>\n",
       "    <tr>\n",
       "      <th>4</th>\n",
       "      <td>4</td>\n",
       "      <td>../../data/examples/greyscale_256/cameraman</td>\n",
       "      <td>0.10</td>\n",
       "      <td>0.001406</td>\n",
       "      <td>28.521136</td>\n",
       "      <td>0.836887</td>\n",
       "    </tr>\n",
       "  </tbody>\n",
       "</table>\n",
       "</div>"
      ],
      "text/plain": [
       "   Unnamed: 0                                mat_file_name  sigma       MSE  \\\n",
       "0           0  ../../data/examples/greyscale_256/cameraman   0.05  0.000716   \n",
       "1           1     ../../data/examples/greyscale_256/parrot   0.05  0.000408   \n",
       "2           2    ../../data/examples/greyscale_256/orestis   0.05  0.000416   \n",
       "3           3  ../../data/examples/greyscale_256/hatchling   0.05  0.000568   \n",
       "4           4  ../../data/examples/greyscale_256/cameraman   0.10  0.001406   \n",
       "\n",
       "        PSNR      SSIM  \n",
       "0  31.451323  0.888464  \n",
       "1  33.897069  0.920185  \n",
       "2  33.807516  0.908947  \n",
       "3  32.454157  0.910185  \n",
       "4  28.521136  0.836887  "
      ]
     },
     "execution_count": 13,
     "metadata": {},
     "output_type": "execute_result"
    }
   ],
   "source": [
    "u_tgv_type_1_examples_df = get_results(dataset=\"examples\", model_name=\"u_tgv_type_1\")\n",
    "u_tgv_type_1_examples_df.head()"
   ]
  },
  {
   "cell_type": "code",
   "execution_count": 14,
   "metadata": {},
   "outputs": [
    {
     "data": {
      "text/plain": [
       "array(['../../data/examples/greyscale_256/cameraman',\n",
       "       '../../data/examples/greyscale_256/parrot',\n",
       "       '../../data/examples/greyscale_256/orestis',\n",
       "       '../../data/examples/greyscale_256/hatchling'], dtype=object)"
      ]
     },
     "execution_count": 14,
     "metadata": {},
     "output_type": "execute_result"
    }
   ],
   "source": [
    "u_tgv_type_1_examples_df[\"mat_file_name\"].unique()"
   ]
  },
  {
   "cell_type": "code",
   "execution_count": 15,
   "metadata": {},
   "outputs": [
    {
     "name": "stdout",
     "output_type": "stream",
     "text": [
      "sigma = 0.05\n",
      "        PSNR      SSIM\n",
      "0  31.451323  0.888464\n",
      "1  33.897069  0.920185\n",
      "2  33.807516  0.908947\n",
      "3  32.454157  0.910185\n",
      "\n",
      "sigma = 0.1\n",
      "        PSNR      SSIM\n",
      "4  28.521136  0.836887\n",
      "5  30.854972  0.882732\n",
      "6  30.548996  0.853846\n",
      "7  28.783710  0.831616\n",
      "\n",
      "sigma = 0.15\n",
      "         PSNR      SSIM\n",
      "8   26.051340  0.773595\n",
      "9   28.494022  0.849940\n",
      "10  28.602682  0.819308\n",
      "11  26.664165  0.754778\n",
      "\n",
      "sigma = 0.2\n",
      "         PSNR      SSIM\n",
      "12  24.524545  0.735380\n",
      "13  26.804303  0.821270\n",
      "14  26.994277  0.787389\n",
      "15  25.347850  0.695135\n",
      "\n"
     ]
    }
   ],
   "source": [
    "print_examples(u_tgv_type_1_examples_df)"
   ]
  },
  {
   "cell_type": "markdown",
   "metadata": {},
   "source": [
    "##### U-TGV type-2"
   ]
  },
  {
   "cell_type": "code",
   "execution_count": 16,
   "metadata": {},
   "outputs": [
    {
     "data": {
      "text/html": [
       "<div>\n",
       "<style scoped>\n",
       "    .dataframe tbody tr th:only-of-type {\n",
       "        vertical-align: middle;\n",
       "    }\n",
       "\n",
       "    .dataframe tbody tr th {\n",
       "        vertical-align: top;\n",
       "    }\n",
       "\n",
       "    .dataframe thead th {\n",
       "        text-align: right;\n",
       "    }\n",
       "</style>\n",
       "<table border=\"1\" class=\"dataframe\">\n",
       "  <thead>\n",
       "    <tr style=\"text-align: right;\">\n",
       "      <th></th>\n",
       "      <th>Unnamed: 0</th>\n",
       "      <th>mat_file_name</th>\n",
       "      <th>sigma</th>\n",
       "      <th>MSE</th>\n",
       "      <th>PSNR</th>\n",
       "      <th>SSIM</th>\n",
       "    </tr>\n",
       "  </thead>\n",
       "  <tbody>\n",
       "    <tr>\n",
       "      <th>0</th>\n",
       "      <td>0</td>\n",
       "      <td>../../data/examples/greyscale_256/cameraman</td>\n",
       "      <td>0.05</td>\n",
       "      <td>0.000692</td>\n",
       "      <td>31.601515</td>\n",
       "      <td>0.892459</td>\n",
       "    </tr>\n",
       "    <tr>\n",
       "      <th>1</th>\n",
       "      <td>1</td>\n",
       "      <td>../../data/examples/greyscale_256/parrot</td>\n",
       "      <td>0.05</td>\n",
       "      <td>0.000383</td>\n",
       "      <td>34.164572</td>\n",
       "      <td>0.923900</td>\n",
       "    </tr>\n",
       "    <tr>\n",
       "      <th>2</th>\n",
       "      <td>2</td>\n",
       "      <td>../../data/examples/greyscale_256/orestis</td>\n",
       "      <td>0.05</td>\n",
       "      <td>0.000404</td>\n",
       "      <td>33.933980</td>\n",
       "      <td>0.912234</td>\n",
       "    </tr>\n",
       "    <tr>\n",
       "      <th>3</th>\n",
       "      <td>3</td>\n",
       "      <td>../../data/examples/greyscale_256/hatchling</td>\n",
       "      <td>0.05</td>\n",
       "      <td>0.000537</td>\n",
       "      <td>32.703378</td>\n",
       "      <td>0.916253</td>\n",
       "    </tr>\n",
       "    <tr>\n",
       "      <th>4</th>\n",
       "      <td>4</td>\n",
       "      <td>../../data/examples/greyscale_256/cameraman</td>\n",
       "      <td>0.10</td>\n",
       "      <td>0.001373</td>\n",
       "      <td>28.624303</td>\n",
       "      <td>0.840889</td>\n",
       "    </tr>\n",
       "  </tbody>\n",
       "</table>\n",
       "</div>"
      ],
      "text/plain": [
       "   Unnamed: 0                                mat_file_name  sigma       MSE  \\\n",
       "0           0  ../../data/examples/greyscale_256/cameraman   0.05  0.000692   \n",
       "1           1     ../../data/examples/greyscale_256/parrot   0.05  0.000383   \n",
       "2           2    ../../data/examples/greyscale_256/orestis   0.05  0.000404   \n",
       "3           3  ../../data/examples/greyscale_256/hatchling   0.05  0.000537   \n",
       "4           4  ../../data/examples/greyscale_256/cameraman   0.10  0.001373   \n",
       "\n",
       "        PSNR      SSIM  \n",
       "0  31.601515  0.892459  \n",
       "1  34.164572  0.923900  \n",
       "2  33.933980  0.912234  \n",
       "3  32.703378  0.916253  \n",
       "4  28.624303  0.840889  "
      ]
     },
     "execution_count": 16,
     "metadata": {},
     "output_type": "execute_result"
    }
   ],
   "source": [
    "u_tgv_type_2_examples_df = get_results(dataset=\"examples\", model_name=\"u_tgv_type_2\")\n",
    "u_tgv_type_2_examples_df.head()"
   ]
  },
  {
   "cell_type": "code",
   "execution_count": 17,
   "metadata": {},
   "outputs": [
    {
     "data": {
      "text/plain": [
       "array(['../../data/examples/greyscale_256/cameraman',\n",
       "       '../../data/examples/greyscale_256/parrot',\n",
       "       '../../data/examples/greyscale_256/orestis',\n",
       "       '../../data/examples/greyscale_256/hatchling'], dtype=object)"
      ]
     },
     "execution_count": 17,
     "metadata": {},
     "output_type": "execute_result"
    }
   ],
   "source": [
    "u_tgv_type_2_examples_df[\"mat_file_name\"].unique()"
   ]
  },
  {
   "cell_type": "code",
   "execution_count": 18,
   "metadata": {},
   "outputs": [
    {
     "name": "stdout",
     "output_type": "stream",
     "text": [
      "sigma = 0.05\n",
      "        PSNR      SSIM\n",
      "0  31.601515  0.892459\n",
      "1  34.164572  0.923900\n",
      "2  33.933980  0.912234\n",
      "3  32.703378  0.916253\n",
      "\n",
      "sigma = 0.1\n",
      "        PSNR      SSIM\n",
      "4  28.624303  0.840889\n",
      "5  31.025984  0.888304\n",
      "6  30.755578  0.860041\n",
      "7  29.016131  0.842008\n",
      "\n",
      "sigma = 0.15\n",
      "         PSNR      SSIM\n",
      "8   26.185746  0.778819\n",
      "9   28.766414  0.858883\n",
      "10  28.788419  0.825310\n",
      "11  26.887364  0.770587\n",
      "\n",
      "sigma = 0.2\n",
      "         PSNR      SSIM\n",
      "12  24.669621  0.742807\n",
      "13  27.079167  0.832739\n",
      "14  27.181850  0.793840\n",
      "15  25.531866  0.714181\n",
      "\n"
     ]
    }
   ],
   "source": [
    "print_examples(u_tgv_type_2_examples_df)"
   ]
  },
  {
   "cell_type": "markdown",
   "metadata": {},
   "source": [
    "### TurtleID50"
   ]
  },
  {
   "cell_type": "code",
   "execution_count": 19,
   "metadata": {},
   "outputs": [
    {
     "data": {
      "text/html": [
       "<div>\n",
       "<style scoped>\n",
       "    .dataframe tbody tr th:only-of-type {\n",
       "        vertical-align: middle;\n",
       "    }\n",
       "\n",
       "    .dataframe tbody tr th {\n",
       "        vertical-align: top;\n",
       "    }\n",
       "\n",
       "    .dataframe thead th {\n",
       "        text-align: right;\n",
       "    }\n",
       "</style>\n",
       "<table border=\"1\" class=\"dataframe\">\n",
       "  <thead>\n",
       "    <tr style=\"text-align: right;\">\n",
       "      <th></th>\n",
       "      <th>Unnamed: 0</th>\n",
       "      <th>mat_file_name</th>\n",
       "      <th>sigma</th>\n",
       "      <th>MSE</th>\n",
       "      <th>PSNR</th>\n",
       "      <th>SSIM</th>\n",
       "    </tr>\n",
       "  </thead>\n",
       "  <tbody>\n",
       "    <tr>\n",
       "      <th>0</th>\n",
       "      <td>0</td>\n",
       "      <td>../../data/turtleid/greyscale_512/t085/RKYeghQ...</td>\n",
       "      <td>0.05</td>\n",
       "      <td>0.000176</td>\n",
       "      <td>37.536519</td>\n",
       "      <td>0.940888</td>\n",
       "    </tr>\n",
       "    <tr>\n",
       "      <th>1</th>\n",
       "      <td>1</td>\n",
       "      <td>../../data/turtleid/greyscale_512/t004/KooRzgw...</td>\n",
       "      <td>0.05</td>\n",
       "      <td>0.000317</td>\n",
       "      <td>34.987786</td>\n",
       "      <td>0.916212</td>\n",
       "    </tr>\n",
       "    <tr>\n",
       "      <th>2</th>\n",
       "      <td>2</td>\n",
       "      <td>../../data/turtleid/greyscale_512/t136/ztMVXcE...</td>\n",
       "      <td>0.05</td>\n",
       "      <td>0.000277</td>\n",
       "      <td>35.582378</td>\n",
       "      <td>0.915904</td>\n",
       "    </tr>\n",
       "    <tr>\n",
       "      <th>3</th>\n",
       "      <td>3</td>\n",
       "      <td>../../data/turtleid/greyscale_512/t224/yTBwrhf...</td>\n",
       "      <td>0.05</td>\n",
       "      <td>0.000517</td>\n",
       "      <td>32.862549</td>\n",
       "      <td>0.843687</td>\n",
       "    </tr>\n",
       "    <tr>\n",
       "      <th>4</th>\n",
       "      <td>4</td>\n",
       "      <td>../../data/turtleid/greyscale_512/t333/RcPWUfN...</td>\n",
       "      <td>0.05</td>\n",
       "      <td>0.000149</td>\n",
       "      <td>38.255320</td>\n",
       "      <td>0.935452</td>\n",
       "    </tr>\n",
       "  </tbody>\n",
       "</table>\n",
       "</div>"
      ],
      "text/plain": [
       "   Unnamed: 0                                      mat_file_name  sigma  \\\n",
       "0           0  ../../data/turtleid/greyscale_512/t085/RKYeghQ...   0.05   \n",
       "1           1  ../../data/turtleid/greyscale_512/t004/KooRzgw...   0.05   \n",
       "2           2  ../../data/turtleid/greyscale_512/t136/ztMVXcE...   0.05   \n",
       "3           3  ../../data/turtleid/greyscale_512/t224/yTBwrhf...   0.05   \n",
       "4           4  ../../data/turtleid/greyscale_512/t333/RcPWUfN...   0.05   \n",
       "\n",
       "        MSE       PSNR      SSIM  \n",
       "0  0.000176  37.536519  0.940888  \n",
       "1  0.000317  34.987786  0.916212  \n",
       "2  0.000277  35.582378  0.915904  \n",
       "3  0.000517  32.862549  0.843687  \n",
       "4  0.000149  38.255320  0.935452  "
      ]
     },
     "execution_count": 19,
     "metadata": {},
     "output_type": "execute_result"
    }
   ],
   "source": [
    "u_tv_turtleid_df = get_results(dataset=\"turtleid\", model_name=\"u_tv\")\n",
    "u_tv_turtleid_df.head()"
   ]
  },
  {
   "cell_type": "code",
   "execution_count": 20,
   "metadata": {},
   "outputs": [
    {
     "name": "stdout",
     "output_type": "stream",
     "text": [
      "[0.05, 0.1, 0.15, 0.2]\n",
      "36.55 ± 2.47 \t 0.9199 ± 0.027\n",
      "33.86 ± 2.69 \t 0.8743 ± 0.048\n",
      "32.44 ± 2.77 \t 0.8458 ± 0.061\n",
      "31.46 ± 2.78 \t 0.8259 ± 0.071\n",
      "33.58 ± 3.28 \t 0.8665 ± 0.064\n"
     ]
    }
   ],
   "source": [
    "print_mean_and_std_by_sigma(u_tv_turtleid_df)"
   ]
  },
  {
   "cell_type": "code",
   "execution_count": 21,
   "metadata": {},
   "outputs": [
    {
     "data": {
      "text/html": [
       "<div>\n",
       "<style scoped>\n",
       "    .dataframe tbody tr th:only-of-type {\n",
       "        vertical-align: middle;\n",
       "    }\n",
       "\n",
       "    .dataframe tbody tr th {\n",
       "        vertical-align: top;\n",
       "    }\n",
       "\n",
       "    .dataframe thead th {\n",
       "        text-align: right;\n",
       "    }\n",
       "</style>\n",
       "<table border=\"1\" class=\"dataframe\">\n",
       "  <thead>\n",
       "    <tr style=\"text-align: right;\">\n",
       "      <th></th>\n",
       "      <th>Unnamed: 0</th>\n",
       "      <th>mat_file_name</th>\n",
       "      <th>sigma</th>\n",
       "      <th>MSE</th>\n",
       "      <th>PSNR</th>\n",
       "      <th>SSIM</th>\n",
       "    </tr>\n",
       "  </thead>\n",
       "  <tbody>\n",
       "    <tr>\n",
       "      <th>0</th>\n",
       "      <td>0</td>\n",
       "      <td>../../data/turtleid/greyscale_512/t085/RKYeghQ...</td>\n",
       "      <td>0.05</td>\n",
       "      <td>0.000185</td>\n",
       "      <td>37.324133</td>\n",
       "      <td>0.940008</td>\n",
       "    </tr>\n",
       "    <tr>\n",
       "      <th>1</th>\n",
       "      <td>1</td>\n",
       "      <td>../../data/turtleid/greyscale_512/t004/KooRzgw...</td>\n",
       "      <td>0.05</td>\n",
       "      <td>0.000328</td>\n",
       "      <td>34.834696</td>\n",
       "      <td>0.915038</td>\n",
       "    </tr>\n",
       "    <tr>\n",
       "      <th>2</th>\n",
       "      <td>2</td>\n",
       "      <td>../../data/turtleid/greyscale_512/t136/ztMVXcE...</td>\n",
       "      <td>0.05</td>\n",
       "      <td>0.000283</td>\n",
       "      <td>35.486854</td>\n",
       "      <td>0.914762</td>\n",
       "    </tr>\n",
       "    <tr>\n",
       "      <th>3</th>\n",
       "      <td>3</td>\n",
       "      <td>../../data/turtleid/greyscale_512/t224/yTBwrhf...</td>\n",
       "      <td>0.05</td>\n",
       "      <td>0.000526</td>\n",
       "      <td>32.788043</td>\n",
       "      <td>0.840576</td>\n",
       "    </tr>\n",
       "    <tr>\n",
       "      <th>4</th>\n",
       "      <td>4</td>\n",
       "      <td>../../data/turtleid/greyscale_512/t333/RcPWUfN...</td>\n",
       "      <td>0.05</td>\n",
       "      <td>0.000153</td>\n",
       "      <td>38.157680</td>\n",
       "      <td>0.934629</td>\n",
       "    </tr>\n",
       "  </tbody>\n",
       "</table>\n",
       "</div>"
      ],
      "text/plain": [
       "   Unnamed: 0                                      mat_file_name  sigma  \\\n",
       "0           0  ../../data/turtleid/greyscale_512/t085/RKYeghQ...   0.05   \n",
       "1           1  ../../data/turtleid/greyscale_512/t004/KooRzgw...   0.05   \n",
       "2           2  ../../data/turtleid/greyscale_512/t136/ztMVXcE...   0.05   \n",
       "3           3  ../../data/turtleid/greyscale_512/t224/yTBwrhf...   0.05   \n",
       "4           4  ../../data/turtleid/greyscale_512/t333/RcPWUfN...   0.05   \n",
       "\n",
       "        MSE       PSNR      SSIM  \n",
       "0  0.000185  37.324133  0.940008  \n",
       "1  0.000328  34.834696  0.915038  \n",
       "2  0.000283  35.486854  0.914762  \n",
       "3  0.000526  32.788043  0.840576  \n",
       "4  0.000153  38.157680  0.934629  "
      ]
     },
     "execution_count": 21,
     "metadata": {},
     "output_type": "execute_result"
    }
   ],
   "source": [
    "u_tgv_type_1_turtleid_df = get_results(dataset=\"turtleid\", model_name=\"u_tgv_type_1\")\n",
    "u_tgv_type_1_turtleid_df.head()"
   ]
  },
  {
   "cell_type": "code",
   "execution_count": 22,
   "metadata": {},
   "outputs": [
    {
     "name": "stdout",
     "output_type": "stream",
     "text": [
      "[0.05, 0.1, 0.15, 0.2]\n",
      "36.38 ± 2.42 \t 0.9177 ± 0.028\n",
      "33.61 ± 2.49 \t 0.8706 ± 0.048\n",
      "32.04 ± 2.39 \t 0.8395 ± 0.061\n",
      "30.91 ± 2.26 \t 0.8151 ± 0.069\n",
      "33.23 ± 3.14 \t 0.8607 ± 0.066\n"
     ]
    }
   ],
   "source": [
    "print_mean_and_std_by_sigma(u_tgv_type_1_turtleid_df)"
   ]
  },
  {
   "cell_type": "code",
   "execution_count": 23,
   "metadata": {},
   "outputs": [
    {
     "data": {
      "text/html": [
       "<div>\n",
       "<style scoped>\n",
       "    .dataframe tbody tr th:only-of-type {\n",
       "        vertical-align: middle;\n",
       "    }\n",
       "\n",
       "    .dataframe tbody tr th {\n",
       "        vertical-align: top;\n",
       "    }\n",
       "\n",
       "    .dataframe thead th {\n",
       "        text-align: right;\n",
       "    }\n",
       "</style>\n",
       "<table border=\"1\" class=\"dataframe\">\n",
       "  <thead>\n",
       "    <tr style=\"text-align: right;\">\n",
       "      <th></th>\n",
       "      <th>Unnamed: 0</th>\n",
       "      <th>mat_file_name</th>\n",
       "      <th>sigma</th>\n",
       "      <th>MSE</th>\n",
       "      <th>PSNR</th>\n",
       "      <th>SSIM</th>\n",
       "    </tr>\n",
       "  </thead>\n",
       "  <tbody>\n",
       "    <tr>\n",
       "      <th>0</th>\n",
       "      <td>0</td>\n",
       "      <td>../../data/turtleid/greyscale_512/t085/RKYeghQ...</td>\n",
       "      <td>0.05</td>\n",
       "      <td>0.000178</td>\n",
       "      <td>37.501370</td>\n",
       "      <td>0.942163</td>\n",
       "    </tr>\n",
       "    <tr>\n",
       "      <th>1</th>\n",
       "      <td>1</td>\n",
       "      <td>../../data/turtleid/greyscale_512/t004/KooRzgw...</td>\n",
       "      <td>0.05</td>\n",
       "      <td>0.000310</td>\n",
       "      <td>35.085843</td>\n",
       "      <td>0.919692</td>\n",
       "    </tr>\n",
       "    <tr>\n",
       "      <th>2</th>\n",
       "      <td>2</td>\n",
       "      <td>../../data/turtleid/greyscale_512/t136/ztMVXcE...</td>\n",
       "      <td>0.05</td>\n",
       "      <td>0.000261</td>\n",
       "      <td>35.825443</td>\n",
       "      <td>0.921485</td>\n",
       "    </tr>\n",
       "    <tr>\n",
       "      <th>3</th>\n",
       "      <td>3</td>\n",
       "      <td>../../data/turtleid/greyscale_512/t224/yTBwrhf...</td>\n",
       "      <td>0.05</td>\n",
       "      <td>0.000502</td>\n",
       "      <td>32.996243</td>\n",
       "      <td>0.850172</td>\n",
       "    </tr>\n",
       "    <tr>\n",
       "      <th>4</th>\n",
       "      <td>4</td>\n",
       "      <td>../../data/turtleid/greyscale_512/t333/RcPWUfN...</td>\n",
       "      <td>0.05</td>\n",
       "      <td>0.000140</td>\n",
       "      <td>38.530363</td>\n",
       "      <td>0.940124</td>\n",
       "    </tr>\n",
       "  </tbody>\n",
       "</table>\n",
       "</div>"
      ],
      "text/plain": [
       "   Unnamed: 0                                      mat_file_name  sigma  \\\n",
       "0           0  ../../data/turtleid/greyscale_512/t085/RKYeghQ...   0.05   \n",
       "1           1  ../../data/turtleid/greyscale_512/t004/KooRzgw...   0.05   \n",
       "2           2  ../../data/turtleid/greyscale_512/t136/ztMVXcE...   0.05   \n",
       "3           3  ../../data/turtleid/greyscale_512/t224/yTBwrhf...   0.05   \n",
       "4           4  ../../data/turtleid/greyscale_512/t333/RcPWUfN...   0.05   \n",
       "\n",
       "        MSE       PSNR      SSIM  \n",
       "0  0.000178  37.501370  0.942163  \n",
       "1  0.000310  35.085843  0.919692  \n",
       "2  0.000261  35.825443  0.921485  \n",
       "3  0.000502  32.996243  0.850172  \n",
       "4  0.000140  38.530363  0.940124  "
      ]
     },
     "execution_count": 23,
     "metadata": {},
     "output_type": "execute_result"
    }
   ],
   "source": [
    "u_tgv_type_2_turtleid_df = get_results(dataset=\"turtleid\", model_name=\"u_tgv_type_2\")\n",
    "u_tgv_type_2_turtleid_df.head()"
   ]
  },
  {
   "cell_type": "code",
   "execution_count": 24,
   "metadata": {},
   "outputs": [
    {
     "name": "stdout",
     "output_type": "stream",
     "text": [
      "[0.05, 0.1, 0.15, 0.2]\n",
      "36.64 ± 2.43 \t 0.9228 ± 0.026\n",
      "33.79 ± 2.45 \t 0.8768 ± 0.047\n",
      "32.16 ± 2.34 \t 0.8461 ± 0.060\n",
      "31.01 ± 2.22 \t 0.8228 ± 0.069\n",
      "33.40 ± 3.16 \t 0.8671 ± 0.065\n"
     ]
    }
   ],
   "source": [
    "print_mean_and_std_by_sigma(u_tgv_type_2_turtleid_df)"
   ]
  },
  {
   "cell_type": "markdown",
   "metadata": {},
   "source": [
    "### Create a difference histogram"
   ]
  },
  {
   "cell_type": "code",
   "execution_count": 25,
   "metadata": {},
   "outputs": [
    {
     "name": "stdout",
     "output_type": "stream",
     "text": [
      "U-TGV type-2 vs U-TV, TurtleID dataset\n"
     ]
    },
    {
     "data": {
      "application/vnd.jupyter.widget-view+json": {
       "model_id": "ffaf7993456c41d8aa6b08d79658a6a1",
       "version_major": 2,
       "version_minor": 0
      },
      "text/plain": [
       "  0%|          | 0/4 [00:00<?, ?it/s]"
      ]
     },
     "metadata": {},
     "output_type": "display_data"
    },
    {
     "data": {
      "image/png": "[encoded data removed]",
      "text/plain": [
       "<Figure size 900x1200 with 8 Axes>"
      ]
     },
     "metadata": {},
     "output_type": "display_data"
    }
   ],
   "source": [
    "def visualize_hist(sigmas, df_A, df_B, ratio):\n",
    "\n",
    "    psnr_diffs = {}\n",
    "    ssim_diffs = {}\n",
    "    sigmas = [0.05, 0.1, 0.15, 0.2]\n",
    "    for sigma in sigmas:\n",
    "        df_A_sigma = df_A[df_A[\"sigma\"] == sigma]\n",
    "        df_B_sigma = df_B[df_B[\"sigma\"] == sigma]\n",
    "\n",
    "        psnr_diffs[sigma] = df_A_sigma[\"PSNR\"] - df_B_sigma[\"PSNR\"]\n",
    "        ssim_diffs[sigma] = df_A_sigma[\"SSIM\"] - df_B_sigma[\"SSIM\"]\n",
    "\n",
    "    fig, axs = plt.subplots(len(sigmas), 2)\n",
    "\n",
    "    if uses_latex:\n",
    "        # set size\n",
    "        set_dim(\n",
    "            fig,\n",
    "            fraction_of_line_width=1,\n",
    "            ratio=ratio\n",
    "        )\n",
    "        # label subplots\n",
    "        label_subplots(\n",
    "            axs,\n",
    "            # start_from=0,\n",
    "            # fontcolor=\"red\",\n",
    "            fontsize=10\n",
    "        )\n",
    "    else:\n",
    "        fig.set_size_inches(6, len(sigmas) * ratio)\n",
    "\n",
    "    for i_sigma in tqdm(range(len(sigmas)), leave=False):\n",
    "        sigma = sigmas[i_sigma]\n",
    "\n",
    "        n_bins = 50\n",
    "\n",
    "        plt.subplot(len(sigmas), 2, i_sigma * 2 + 1)\n",
    "        plt.hist(\n",
    "            psnr_diffs[sigma], bins=n_bins,\n",
    "            color=STD_CLR_LIST[0] if uses_latex else 'blue',\n",
    "            alpha=0.5, label=\"PSNR\",\n",
    "            # range=(-abs_psnr, abs_psnr)\n",
    "        )\n",
    "        # Draw a vertical line at 0\n",
    "        plt.axvline(x=0, color='k',\n",
    "                    linestyle='--',\n",
    "                    alpha=0.5,\n",
    "                    linewidth=0.5)\n",
    "        # plt.title(f\"PSNR difference, SD = {sigma}\",\n",
    "        #           fontdict={\"fontsize\": 6},\n",
    "        #           position=(0.5, 0.5))\n",
    "        plt.legend()\n",
    "\n",
    "        plt.subplot(len(sigmas), 2, i_sigma * 2 + 2)\n",
    "        plt.hist(\n",
    "            ssim_diffs[sigma], bins=n_bins,\n",
    "            color=STD_CLR_LIST[1] if uses_latex else 'red',\n",
    "            alpha=0.5, label=\"SSIM\",\n",
    "            # range=(-abs_ssim, abs_ssim)\n",
    "        )\n",
    "        # Draw a vertical line at 0\n",
    "        plt.axvline(x=0, color='k',\n",
    "                    linestyle='--',\n",
    "                    alpha=0.5,\n",
    "                    linewidth=0.5)\n",
    "        # plt.title(f\"SSIM difference, SD = {sigma}\",\n",
    "        #             fontdict={\"fontsize\": 6},\n",
    "        #           position=(0.5, 0.5))\n",
    "\n",
    "        # plt.suptitle(f\"PSNR and SSIM differences for sigma = {sigma}, T = {T}\")\n",
    "        sigma_str = str(sigma).replace(\".\", \"_\")\n",
    "        plt.legend()\n",
    "\n",
    "        # plt.savefig(f\"../../data/test_cases/CCIA_dataset/histograms_T_{T}_sigma_{sigma_str}.png\")\n",
    "        # plt.show()\n",
    "\n",
    "\n",
    "print(\"U-TGV type-2 vs U-TV, TurtleID dataset\")\n",
    "visualize_hist(\n",
    "    [0.05, 0.1, 0.15, 0.2],\n",
    "    df_A = u_tgv_type_2_turtleid_df,\n",
    "    df_B = u_tv_turtleid_df,\n",
    "    ratio=2)\n",
    "plt.show()"
   ]
  },
  {
   "cell_type": "markdown",
   "metadata": {},
   "source": [
    "### Standard50"
   ]
  },
  {
   "cell_type": "code",
   "execution_count": 26,
   "metadata": {},
   "outputs": [
    {
     "data": {
      "text/html": [
       "<div>\n",
       "<style scoped>\n",
       "    .dataframe tbody tr th:only-of-type {\n",
       "        vertical-align: middle;\n",
       "    }\n",
       "\n",
       "    .dataframe tbody tr th {\n",
       "        vertical-align: top;\n",
       "    }\n",
       "\n",
       "    .dataframe thead th {\n",
       "        text-align: right;\n",
       "    }\n",
       "</style>\n",
       "<table border=\"1\" class=\"dataframe\">\n",
       "  <thead>\n",
       "    <tr style=\"text-align: right;\">\n",
       "      <th></th>\n",
       "      <th>Unnamed: 0</th>\n",
       "      <th>mat_file_name</th>\n",
       "      <th>sigma</th>\n",
       "      <th>MSE</th>\n",
       "      <th>PSNR</th>\n",
       "      <th>SSIM</th>\n",
       "    </tr>\n",
       "  </thead>\n",
       "  <tbody>\n",
       "    <tr>\n",
       "      <th>0</th>\n",
       "      <td>0</td>\n",
       "      <td>../../data/standard50/greyscale_512/1.png</td>\n",
       "      <td>0.05</td>\n",
       "      <td>0.001298</td>\n",
       "      <td>28.866131</td>\n",
       "      <td>0.869918</td>\n",
       "    </tr>\n",
       "    <tr>\n",
       "      <th>1</th>\n",
       "      <td>1</td>\n",
       "      <td>../../data/standard50/greyscale_512/2.png</td>\n",
       "      <td>0.05</td>\n",
       "      <td>0.000616</td>\n",
       "      <td>32.102601</td>\n",
       "      <td>0.844636</td>\n",
       "    </tr>\n",
       "    <tr>\n",
       "      <th>2</th>\n",
       "      <td>2</td>\n",
       "      <td>../../data/standard50/greyscale_512/3.png</td>\n",
       "      <td>0.05</td>\n",
       "      <td>0.000549</td>\n",
       "      <td>32.601322</td>\n",
       "      <td>0.879784</td>\n",
       "    </tr>\n",
       "    <tr>\n",
       "      <th>3</th>\n",
       "      <td>3</td>\n",
       "      <td>../../data/standard50/greyscale_512/4.png</td>\n",
       "      <td>0.05</td>\n",
       "      <td>0.000587</td>\n",
       "      <td>32.310623</td>\n",
       "      <td>0.852984</td>\n",
       "    </tr>\n",
       "    <tr>\n",
       "      <th>4</th>\n",
       "      <td>4</td>\n",
       "      <td>../../data/standard50/greyscale_512/5.png</td>\n",
       "      <td>0.05</td>\n",
       "      <td>0.000530</td>\n",
       "      <td>32.760746</td>\n",
       "      <td>0.875616</td>\n",
       "    </tr>\n",
       "  </tbody>\n",
       "</table>\n",
       "</div>"
      ],
      "text/plain": [
       "   Unnamed: 0                              mat_file_name  sigma       MSE  \\\n",
       "0           0  ../../data/standard50/greyscale_512/1.png   0.05  0.001298   \n",
       "1           1  ../../data/standard50/greyscale_512/2.png   0.05  0.000616   \n",
       "2           2  ../../data/standard50/greyscale_512/3.png   0.05  0.000549   \n",
       "3           3  ../../data/standard50/greyscale_512/4.png   0.05  0.000587   \n",
       "4           4  ../../data/standard50/greyscale_512/5.png   0.05  0.000530   \n",
       "\n",
       "        PSNR      SSIM  \n",
       "0  28.866131  0.869918  \n",
       "1  32.102601  0.844636  \n",
       "2  32.601322  0.879784  \n",
       "3  32.310623  0.852984  \n",
       "4  32.760746  0.875616  "
      ]
     },
     "execution_count": 26,
     "metadata": {},
     "output_type": "execute_result"
    }
   ],
   "source": [
    "u_tv_standard50_df = get_results(dataset=\"standard50\", model_name=\"u_tv\")\n",
    "u_tv_standard50_df.head()"
   ]
  },
  {
   "cell_type": "code",
   "execution_count": 27,
   "metadata": {},
   "outputs": [
    {
     "name": "stdout",
     "output_type": "stream",
     "text": [
      "[0.05, 0.1, 0.15, 0.2]\n",
      "30.86 ± 2.70 \t 0.8567 ± 0.051\n",
      "27.96 ± 2.67 \t 0.7746 ± 0.068\n",
      "26.41 ± 2.67 \t 0.7135 ± 0.085\n",
      "25.38 ± 2.65 \t 0.6686 ± 0.098\n",
      "27.65 ± 3.37 \t 0.7534 ± 0.105\n"
     ]
    }
   ],
   "source": [
    "print_mean_and_std_by_sigma(u_tv_standard50_df)"
   ]
  },
  {
   "cell_type": "code",
   "execution_count": 28,
   "metadata": {},
   "outputs": [
    {
     "data": {
      "text/html": [
       "<div>\n",
       "<style scoped>\n",
       "    .dataframe tbody tr th:only-of-type {\n",
       "        vertical-align: middle;\n",
       "    }\n",
       "\n",
       "    .dataframe tbody tr th {\n",
       "        vertical-align: top;\n",
       "    }\n",
       "\n",
       "    .dataframe thead th {\n",
       "        text-align: right;\n",
       "    }\n",
       "</style>\n",
       "<table border=\"1\" class=\"dataframe\">\n",
       "  <thead>\n",
       "    <tr style=\"text-align: right;\">\n",
       "      <th></th>\n",
       "      <th>Unnamed: 0</th>\n",
       "      <th>mat_file_name</th>\n",
       "      <th>sigma</th>\n",
       "      <th>MSE</th>\n",
       "      <th>PSNR</th>\n",
       "      <th>SSIM</th>\n",
       "    </tr>\n",
       "  </thead>\n",
       "  <tbody>\n",
       "    <tr>\n",
       "      <th>0</th>\n",
       "      <td>0</td>\n",
       "      <td>../../data/standard50/greyscale_512/1.png</td>\n",
       "      <td>0.05</td>\n",
       "      <td>0.001779</td>\n",
       "      <td>27.497765</td>\n",
       "      <td>0.841585</td>\n",
       "    </tr>\n",
       "    <tr>\n",
       "      <th>1</th>\n",
       "      <td>1</td>\n",
       "      <td>../../data/standard50/greyscale_512/2.png</td>\n",
       "      <td>0.05</td>\n",
       "      <td>0.000641</td>\n",
       "      <td>31.933000</td>\n",
       "      <td>0.839749</td>\n",
       "    </tr>\n",
       "    <tr>\n",
       "      <th>2</th>\n",
       "      <td>2</td>\n",
       "      <td>../../data/standard50/greyscale_512/3.png</td>\n",
       "      <td>0.05</td>\n",
       "      <td>0.000569</td>\n",
       "      <td>32.450809</td>\n",
       "      <td>0.874889</td>\n",
       "    </tr>\n",
       "    <tr>\n",
       "      <th>3</th>\n",
       "      <td>3</td>\n",
       "      <td>../../data/standard50/greyscale_512/4.png</td>\n",
       "      <td>0.05</td>\n",
       "      <td>0.000607</td>\n",
       "      <td>32.170815</td>\n",
       "      <td>0.847830</td>\n",
       "    </tr>\n",
       "    <tr>\n",
       "      <th>4</th>\n",
       "      <td>4</td>\n",
       "      <td>../../data/standard50/greyscale_512/5.png</td>\n",
       "      <td>0.05</td>\n",
       "      <td>0.000524</td>\n",
       "      <td>32.809567</td>\n",
       "      <td>0.876530</td>\n",
       "    </tr>\n",
       "  </tbody>\n",
       "</table>\n",
       "</div>"
      ],
      "text/plain": [
       "   Unnamed: 0                              mat_file_name  sigma       MSE  \\\n",
       "0           0  ../../data/standard50/greyscale_512/1.png   0.05  0.001779   \n",
       "1           1  ../../data/standard50/greyscale_512/2.png   0.05  0.000641   \n",
       "2           2  ../../data/standard50/greyscale_512/3.png   0.05  0.000569   \n",
       "3           3  ../../data/standard50/greyscale_512/4.png   0.05  0.000607   \n",
       "4           4  ../../data/standard50/greyscale_512/5.png   0.05  0.000524   \n",
       "\n",
       "        PSNR      SSIM  \n",
       "0  27.497765  0.841585  \n",
       "1  31.933000  0.839749  \n",
       "2  32.450809  0.874889  \n",
       "3  32.170815  0.847830  \n",
       "4  32.809567  0.876530  "
      ]
     },
     "execution_count": 28,
     "metadata": {},
     "output_type": "execute_result"
    }
   ],
   "source": [
    "u_tgv_type_1_standard50_df = get_results(dataset=\"standard50\", model_name=\"u_tgv_type_1\")\n",
    "u_tgv_type_1_standard50_df.head()"
   ]
  },
  {
   "cell_type": "code",
   "execution_count": 29,
   "metadata": {},
   "outputs": [
    {
     "name": "stdout",
     "output_type": "stream",
     "text": [
      "[0.05, 0.1, 0.15, 0.2]\n",
      "30.75 ± 2.64 \t 0.8528 ± 0.052\n",
      "27.89 ± 2.60 \t 0.7695 ± 0.070\n",
      "26.33 ± 2.58 \t 0.7079 ± 0.086\n",
      "25.25 ± 2.55 \t 0.6595 ± 0.098\n",
      "27.56 ± 3.31 \t 0.7474 ± 0.106\n"
     ]
    }
   ],
   "source": [
    "print_mean_and_std_by_sigma(u_tgv_type_1_standard50_df)"
   ]
  },
  {
   "cell_type": "code",
   "execution_count": 30,
   "metadata": {},
   "outputs": [
    {
     "data": {
      "text/html": [
       "<div>\n",
       "<style scoped>\n",
       "    .dataframe tbody tr th:only-of-type {\n",
       "        vertical-align: middle;\n",
       "    }\n",
       "\n",
       "    .dataframe tbody tr th {\n",
       "        vertical-align: top;\n",
       "    }\n",
       "\n",
       "    .dataframe thead th {\n",
       "        text-align: right;\n",
       "    }\n",
       "</style>\n",
       "<table border=\"1\" class=\"dataframe\">\n",
       "  <thead>\n",
       "    <tr style=\"text-align: right;\">\n",
       "      <th></th>\n",
       "      <th>Unnamed: 0</th>\n",
       "      <th>mat_file_name</th>\n",
       "      <th>sigma</th>\n",
       "      <th>MSE</th>\n",
       "      <th>PSNR</th>\n",
       "      <th>SSIM</th>\n",
       "    </tr>\n",
       "  </thead>\n",
       "  <tbody>\n",
       "    <tr>\n",
       "      <th>0</th>\n",
       "      <td>0</td>\n",
       "      <td>../../data/standard50/greyscale_512/1.png</td>\n",
       "      <td>0.05</td>\n",
       "      <td>0.001250</td>\n",
       "      <td>29.029291</td>\n",
       "      <td>0.873901</td>\n",
       "    </tr>\n",
       "    <tr>\n",
       "      <th>1</th>\n",
       "      <td>1</td>\n",
       "      <td>../../data/standard50/greyscale_512/2.png</td>\n",
       "      <td>0.05</td>\n",
       "      <td>0.000616</td>\n",
       "      <td>32.100715</td>\n",
       "      <td>0.846062</td>\n",
       "    </tr>\n",
       "    <tr>\n",
       "      <th>2</th>\n",
       "      <td>2</td>\n",
       "      <td>../../data/standard50/greyscale_512/3.png</td>\n",
       "      <td>0.05</td>\n",
       "      <td>0.000544</td>\n",
       "      <td>32.641548</td>\n",
       "      <td>0.883112</td>\n",
       "    </tr>\n",
       "    <tr>\n",
       "      <th>3</th>\n",
       "      <td>3</td>\n",
       "      <td>../../data/standard50/greyscale_512/4.png</td>\n",
       "      <td>0.05</td>\n",
       "      <td>0.000577</td>\n",
       "      <td>32.386924</td>\n",
       "      <td>0.855404</td>\n",
       "    </tr>\n",
       "    <tr>\n",
       "      <th>4</th>\n",
       "      <td>4</td>\n",
       "      <td>../../data/standard50/greyscale_512/5.png</td>\n",
       "      <td>0.05</td>\n",
       "      <td>0.000488</td>\n",
       "      <td>33.117235</td>\n",
       "      <td>0.883496</td>\n",
       "    </tr>\n",
       "  </tbody>\n",
       "</table>\n",
       "</div>"
      ],
      "text/plain": [
       "   Unnamed: 0                              mat_file_name  sigma       MSE  \\\n",
       "0           0  ../../data/standard50/greyscale_512/1.png   0.05  0.001250   \n",
       "1           1  ../../data/standard50/greyscale_512/2.png   0.05  0.000616   \n",
       "2           2  ../../data/standard50/greyscale_512/3.png   0.05  0.000544   \n",
       "3           3  ../../data/standard50/greyscale_512/4.png   0.05  0.000577   \n",
       "4           4  ../../data/standard50/greyscale_512/5.png   0.05  0.000488   \n",
       "\n",
       "        PSNR      SSIM  \n",
       "0  29.029291  0.873901  \n",
       "1  32.100715  0.846062  \n",
       "2  32.641548  0.883112  \n",
       "3  32.386924  0.855404  \n",
       "4  33.117235  0.883496  "
      ]
     },
     "execution_count": 30,
     "metadata": {},
     "output_type": "execute_result"
    }
   ],
   "source": [
    "u_tgv_type_2_standard50_df = get_results(dataset=\"standard50\", model_name=\"u_tgv_type_2\")\n",
    "u_tgv_type_2_standard50_df.head()"
   ]
  },
  {
   "cell_type": "code",
   "execution_count": 31,
   "metadata": {},
   "outputs": [
    {
     "name": "stdout",
     "output_type": "stream",
     "text": [
      "[0.05, 0.1, 0.15, 0.2]\n",
      "31.03 ± 2.60 \t 0.8590 ± 0.051\n",
      "28.11 ± 2.60 \t 0.7786 ± 0.069\n",
      "26.49 ± 2.61 \t 0.7174 ± 0.086\n",
      "25.40 ± 2.58 \t 0.6706 ± 0.098\n",
      "27.76 ± 3.34 \t 0.7564 ± 0.105\n"
     ]
    }
   ],
   "source": [
    "print_mean_and_std_by_sigma(u_tgv_type_2_standard50_df)"
   ]
  },
  {
   "cell_type": "code",
   "execution_count": 32,
   "metadata": {},
   "outputs": [
    {
     "name": "stdout",
     "output_type": "stream",
     "text": [
      "U-TGV type-2 vs U-TV, Standard50 dataset\n"
     ]
    },
    {
     "data": {
      "application/vnd.jupyter.widget-view+json": {
       "model_id": "5703571ad1294dbd91e58037a4721938",
       "version_major": 2,
       "version_minor": 0
      },
      "text/plain": [
       "  0%|          | 0/4 [00:00<?, ?it/s]"
      ]
     },
     "metadata": {},
     "output_type": "display_data"
    },
    {
     "data": {
      "image/png": "[encoded data removed]",
      "text/plain": [
       "<Figure size 900x1200 with 8 Axes>"
      ]
     },
     "metadata": {},
     "output_type": "display_data"
    }
   ],
   "source": [
    "print(\"U-TGV type-2 vs U-TV, Standard50 dataset\")\n",
    "visualize_hist(\n",
    "    [0.05, 0.1, 0.15, 0.2],\n",
    "    df_A = u_tgv_type_2_standard50_df,\n",
    "    df_B = u_tv_standard50_df,\n",
    "    ratio=2)\n",
    "plt.show()"
   ]
  }
 ],
 "metadata": {
  "kernelspec": {
   "display_name": "venv_2",
   "language": "python",
   "name": "python3"
  },
  "language_info": {
   "codemirror_mode": {
    "name": "ipython",
    "version": 3
   },
   "file_extension": ".py",
   "mimetype": "text/x-python",
   "name": "python",
   "nbconvert_exporter": "python",
   "pygments_lexer": "ipython3",
   "version": "3.10.12"
  }
 },
 "nbformat": 4,
 "nbformat_minor": 2
}
