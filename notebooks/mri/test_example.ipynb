{
 "cells": [
  {
   "cell_type": "code",
   "execution_count": 199,
   "metadata": {},
   "outputs": [
    {
     "name": "stdout",
     "output_type": "stream",
     "text": [
      "The autoreload extension is already loaded. To reload it, use:\n",
      "  %reload_ext autoreload\n"
     ]
    }
   ],
   "source": [
    "%load_ext autoreload\n",
    "%autoreload 2"
   ]
  },
  {
   "cell_type": "code",
   "execution_count": 200,
   "metadata": {},
   "outputs": [],
   "source": [
    "import os\n",
    "import torch\n",
    "import matplotlib.pyplot as plt\n",
    "from matplotlib.colors import Colormap\n",
    "from scripts.mri.logger import Logger\n",
    "from tqdm.notebook import tqdm\n",
    "from pathlib import Path\n",
    "from typing import Callable, Union, Dict, Any\n",
    "\n",
    "from utils.makepath import makepath as mkp\n",
    "from config.config_loader import load_config\n",
    "from data.mri.data_loader import get_data_loader\n",
    "from scripts.mri.epoch import perform_epoch\n",
    "# from utils.data_util import DataUtil as GeneralDataUtil\n",
    "# from encoding_objects.cart_2d_enc_obj import Cart2DEncObj\n",
    "# from utils.metrics import ImageMetricsEvaluator\n",
    "from utils.visualize import make_colorbar"
   ]
  },
  {
   "cell_type": "code",
   "execution_count": 201,
   "metadata": {},
   "outputs": [],
   "source": [
    "from sithom.plot import (\n",
    "    plot_defaults,\n",
    "    label_subplots,\n",
    "    get_dim,\n",
    "    set_dim,\n",
    "    PALETTE,\n",
    "    STD_CLR_LIST,\n",
    "    CAM_BLUE,\n",
    "    BRICK_RED,\n",
    "    OX_BLUE,\n",
    ")\n",
    "\n",
    "# # Use Latex (optional)\n",
    "uses_latex = True\n",
    "# uses_latex = False\n",
    "plot_defaults(use_tex=uses_latex)"
   ]
  },
  {
   "cell_type": "code",
   "execution_count": 202,
   "metadata": {},
   "outputs": [],
   "source": [
    "# device = \"cpu\"\n",
    "device = \"cuda\""
   ]
  },
  {
   "cell_type": "code",
   "execution_count": 203,
   "metadata": {},
   "outputs": [],
   "source": [
    "root_dir = mkp(\"..\", \"..\")"
   ]
  },
  {
   "cell_type": "code",
   "execution_count": 204,
   "metadata": {},
   "outputs": [],
   "source": [
    "# data_config, u_tv_net, u_tgv_net = get_data_config_and_models(\n",
    "#     device=device, root_dir=root_dir)"
   ]
  },
  {
   "cell_type": "code",
   "execution_count": 205,
   "metadata": {},
   "outputs": [],
   "source": [
    "# print(f\"U-TV sigma: {u_tv_net.sigma}\")\n",
    "# print(f\"U-TV tau: {u_tv_net.tau}\")"
   ]
  },
  {
   "cell_type": "code",
   "execution_count": 206,
   "metadata": {},
   "outputs": [],
   "source": [
    "# print(f\"U-TGV sigma: {u_tgv_net.sigma}\")\n",
    "# print(f\"U-TGV tau: {u_tgv_net.tau}\")"
   ]
  },
  {
   "cell_type": "code",
   "execution_count": 207,
   "metadata": {},
   "outputs": [],
   "source": [
    "# test_dataset = get_dataset(\n",
    "#     action=\"test\",\n",
    "#     data_config=data_config,\n",
    "#     device=device,\n",
    "#     acceleration_factor_R=8,\n",
    "#     gaussian_noise_standard_deviation_sigma=0.05\n",
    "# )"
   ]
  },
  {
   "cell_type": "code",
   "execution_count": 208,
   "metadata": {},
   "outputs": [],
   "source": [
    "# enc_obj = Cart2DEncObj()"
   ]
  },
  {
   "cell_type": "code",
   "execution_count": 209,
   "metadata": {},
   "outputs": [],
   "source": [
    "# metrics_evaluator = ImageMetricsEvaluator(\n",
    "#     complex_to_real_conversion=\"abs\", device=device)"
   ]
  },
  {
   "cell_type": "code",
   "execution_count": 210,
   "metadata": {},
   "outputs": [
    {
     "name": "stdout",
     "output_type": "stream",
     "text": [
      "Output directory: cuda\n"
     ]
    }
   ],
   "source": [
    "out_dir = mkp(\".\", str(device))\n",
    "os.makedirs(out_dir, exist_ok=True)\n",
    "print(f\"Output directory: {out_dir}\")"
   ]
  },
  {
   "cell_type": "code",
   "execution_count": 211,
   "metadata": {},
   "outputs": [],
   "source": [
    "x_clip_range = (0, 0.5)\n",
    "kdata_clip_range = (0, 0.2)\n",
    "lambda1_v_clip_range = (0, 0.05)\n",
    "lambda0_w_clip_range = (0, 1)\n",
    "lambda_ratio_clip_range = (0, 10)"
   ]
  },
  {
   "cell_type": "code",
   "execution_count": 212,
   "metadata": {},
   "outputs": [],
   "source": [
    "fraction_of_line_width = 0.5\n",
    "height_to_width_ratio = 0.3"
   ]
  },
  {
   "cell_type": "code",
   "execution_count": 213,
   "metadata": {},
   "outputs": [],
   "source": [
    "def save_colorbar(\n",
    "        min_val: Union[int, float],\n",
    "        max_val: Union[int, float],\n",
    "        cmap: Union[str, Colormap],\n",
    "        out_path: Union[str, Path],\n",
    "        # fraction_of_line_width: float,\n",
    "):\n",
    "    fig = plt.figure()\n",
    "    set_dim(\n",
    "        fig,\n",
    "        fraction_of_line_width=fraction_of_line_width,   # Adjust font size\n",
    "        ratio=height_to_width_ratio   # Height/Width ratio\n",
    "    )\n",
    "    print(f\"Saving colorbar to {str(out_path)}\")\n",
    "    make_colorbar(\n",
    "        min_val=min_val, max_val=max_val,\n",
    "        leq_min=True, geq_max=True,\n",
    "        cmap=cmap, out_path=out_path)"
   ]
  },
  {
   "cell_type": "code",
   "execution_count": 214,
   "metadata": {},
   "outputs": [
    {
     "name": "stdout",
     "output_type": "stream",
     "text": [
      "Saving colorbar to cuda/colorbar_x.pdf\n",
      "Saving colorbar to cuda/colorbar_kdata.pdf\n",
      "Saving colorbar to cuda/colorbar_lambda1_v.pdf\n",
      "Saving colorbar to cuda/colorbar_lambda0_w.pdf\n",
      "Saving colorbar to cuda/colorbar_lambda_ratio.pdf\n"
     ]
    },
    {
     "data": {
      "image/png": "[encoded data removed]",
      "text/plain": [
       "<Figure size 413.386x124.016 with 1 Axes>"
      ]
     },
     "metadata": {},
     "output_type": "display_data"
    },
    {
     "data": {
      "image/png": "[encoded data removed]",
      "text/plain": [
       "<Figure size 413.386x124.016 with 1 Axes>"
      ]
     },
     "metadata": {},
     "output_type": "display_data"
    },
    {
     "data": {
      "image/png": "[encoded data removed]",
      "text/plain": [
       "<Figure size 413.386x124.016 with 1 Axes>"
      ]
     },
     "metadata": {},
     "output_type": "display_data"
    },
    {
     "data": {
      "image/png": "[encoded data removed]",
      "text/plain": [
       "<Figure size 413.386x124.016 with 1 Axes>"
      ]
     },
     "metadata": {},
     "output_type": "display_data"
    },
    {
     "data": {
      "image/png": "[encoded data removed]",
      "text/plain": [
       "<Figure size 413.386x124.016 with 1 Axes>"
      ]
     },
     "metadata": {},
     "output_type": "display_data"
    }
   ],
   "source": [
    "save_colorbar(*x_clip_range, cmap=\"gray\", out_path=mkp(out_dir, \"colorbar_x.pdf\"))\n",
    "save_colorbar(*kdata_clip_range, cmap=\"gray\", out_path=mkp(out_dir, \"colorbar_kdata.pdf\"))\n",
    "save_colorbar(*lambda1_v_clip_range, cmap=\"magma\", out_path=mkp(out_dir, \"colorbar_lambda1_v.pdf\"))\n",
    "save_colorbar(*lambda0_w_clip_range, cmap=\"magma\", out_path=mkp(out_dir, \"colorbar_lambda0_w.pdf\"))\n",
    "save_colorbar(*lambda_ratio_clip_range, cmap=\"magma\", out_path=mkp(out_dir, \"colorbar_lambda_ratio.pdf\"))\n"
   ]
  },
  {
   "cell_type": "code",
   "execution_count": 215,
   "metadata": {},
   "outputs": [],
   "source": [
    "# test_image_saver = TestImageSaver(\n",
    "#     acc_factor_R=8,\n",
    "#     gaussian_noise_sigma=0.05,\n",
    "#     complex_to_real_conversion=\"abs\",\n",
    "#     out_dir=out_dir,\n",
    "#     num_iters=256,\n",
    "#     fraction_of_line_width=0.6,\n",
    "#     height_to_width_ratio=0.3,\n",
    "\n",
    "#     root_dir=root_dir,\n",
    "#     x_clip_range=x_clip_range,\n",
    "#     kdata_clip_range=kdata_clip_range,\n",
    "#     lambda1_v_clip_range=lambda1_v_clip_range,\n",
    "#     lambda0_w_clip_range=lambda0_w_clip_range,\n",
    "#     lambda_ratio_clip_range=lambda_ratio_clip_range,\n",
    "#     device=device,\n",
    "#     tqdm_progress_bar=tqdm,\n",
    "# )"
   ]
  },
  {
   "cell_type": "code",
   "execution_count": 216,
   "metadata": {},
   "outputs": [],
   "source": [
    "# plt.figure(figsize=(24, 20))\n",
    "# test_image_saver.test_sample_and_save_images(\n",
    "#     sample_idx=0\n",
    "# )\n",
    "# # test_sample_and_save_images(\n",
    "# #     saves=False,\n",
    "# #     sample_idx=0,\n",
    "# #     dataset=test_dataset,\n",
    "# #     enc_obj=enc_obj,\n",
    "# #     u_tv_net=u_tv_net,\n",
    "# #     u_tgv_net=u_tgv_net,\n",
    "# #     num_iters=256,\n",
    "\n",
    "# #     out_dir=out_dir,\n",
    "# #     metrics_evaluator=metrics_evaluator,\n",
    "# #     x_clip_range=x_clip_range,\n",
    "# #     kdata_clip_range=kdata_clip_range,\n",
    "# #     lambda1_v_clip_range=lambda1_v_clip_range,\n",
    "# #     lambda0_w_clip_range=lambda0_w_clip_range,\n",
    "# #     lambda_ratio_clip_range=lambda_ratio_clip_range,\n",
    "# #     fraction_of_line_width=0.33,\n",
    "# #     tqdm_progress_bar=tqdm\n",
    "# # )\n",
    "# plt.show()\n"
   ]
  },
  {
   "cell_type": "code",
   "execution_count": 217,
   "metadata": {},
   "outputs": [],
   "source": [
    "def get_zero_filled(\n",
    "    kdata,\n",
    "    kmask,\n",
    "    x,\n",
    "    csmap\n",
    "):\n",
    "    return x, None"
   ]
  },
  {
   "cell_type": "code",
   "execution_count": 218,
   "metadata": {},
   "outputs": [],
   "source": [
    "def test_and_save_results(\n",
    "        config: Dict[str, Any],\n",
    "        reconstructor: Union[torch.nn.Module, Callable],\n",
    "        general_action: str,\n",
    "        acceleration_factor_R: int,\n",
    "        sigma: float,\n",
    "        force_overwrite: bool = False\n",
    "):\n",
    "    print(f\"Testing with {general_action} data, R = {acceleration_factor_R}, sigma = {sigma}\")\n",
    "\n",
    "    test_data_loader = get_data_loader(\n",
    "        config=config,\n",
    "        action=general_action,\n",
    "        dataset_type=\"preprocessed\",\n",
    "        device=device,\n",
    "        acceleration_factor_R=acceleration_factor_R,\n",
    "        gaussian_noise_standard_deviation_sigma=sigma\n",
    "    )\n",
    "\n",
    "    specific_action = f\"{general_action}-R_{acceleration_factor_R}-sigma_{sigma:.2f}\".replace(\".\", \"_\")\n",
    "\n",
    "    test_logger = Logger(\n",
    "        action=specific_action,\n",
    "        config=config,\n",
    "        force_overwrite=force_overwrite\n",
    "    )\n",
    "    test_logger.init_metrics_logging_options()\n",
    "    # Set the intermediate log frequency to 1\n",
    "    test_logger.log_freq_by_iter[\"intermediate\"] = 1\n",
    "\n",
    "    avg_metrics = perform_epoch(\n",
    "        data_loader=test_data_loader,\n",
    "        pdhg_net=reconstructor,\n",
    "        is_training=False,\n",
    "        logger=test_logger,\n",
    "        # learning_rate_scheduler=None,\n",
    "        # optimizer=None,\n",
    "        tqdm_progress_bar=tqdm\n",
    "    )\n",
    "    return avg_metrics"
   ]
  },
  {
   "cell_type": "code",
   "execution_count": 219,
   "metadata": {},
   "outputs": [
    {
     "name": "stdout",
     "output_type": "stream",
     "text": [
      "Config loaded from file ../../config/zero_filled_config.yaml\n"
     ]
    }
   ],
   "source": [
    "zero_filled_config = load_config(\n",
    "    config_choice=mkp(root_dir, \"config\", \"zero_filled_config.yaml\"),\n",
    "    is_training=False,\n",
    "    root_dir=root_dir\n",
    ")"
   ]
  },
  {
   "cell_type": "code",
   "execution_count": 220,
   "metadata": {},
   "outputs": [],
   "source": [
    "# acceleration_factor_R = 4\n",
    "# sigma = 0.15\n",
    "# general_action = \"test\"\n",
    "# # action = \"val\"\n",
    "# force_overwrite = False\n",
    "# # force_overwrite = True\n",
    "\n",
    "for acceleration_factor_R in []:\n",
    "    for sigma in []:\n",
    "        test_and_save_results(\n",
    "            config=zero_filled_config,\n",
    "            reconstructor=get_zero_filled,\n",
    "            general_action=\"test\",\n",
    "            acceleration_factor_R=acceleration_factor_R,\n",
    "            sigma=sigma,\n",
    "            # force_overwrite=False\n",
    "            force_overwrite=True\n",
    "        )"
   ]
  },
  {
   "cell_type": "code",
   "execution_count": null,
   "metadata": {},
   "outputs": [],
   "source": []
  }
 ],
 "metadata": {
  "kernelspec": {
   "display_name": "venv",
   "language": "python",
   "name": "python3"
  },
  "language_info": {
   "codemirror_mode": {
    "name": "ipython",
    "version": 3
   },
   "file_extension": ".py",
   "mimetype": "text/x-python",
   "name": "python",
   "nbconvert_exporter": "python",
   "pygments_lexer": "ipython3",
   "version": "3.10.12"
  }
 },
 "nbformat": 4,
 "nbformat_minor": 2
}
